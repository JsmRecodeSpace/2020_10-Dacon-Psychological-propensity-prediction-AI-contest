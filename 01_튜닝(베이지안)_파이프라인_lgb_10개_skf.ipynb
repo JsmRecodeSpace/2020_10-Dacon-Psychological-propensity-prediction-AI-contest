{
 "cells": [
  {
   "cell_type": "code",
   "execution_count": 1,
   "metadata": {
    "colab": {
     "base_uri": "https://localhost:8080/",
     "height": 197
    },
    "id": "9hDQ1uR2vZnz",
    "outputId": "c86ce4cf-f7a0-43e2-a898-1bbba1dbc797"
   },
   "outputs": [],
   "source": [
    "#!pip install vecstack\n",
    "#!pip install bayesian-optimization\n",
    "#!pip install catboost"
   ]
  },
  {
   "cell_type": "code",
   "execution_count": 2,
   "metadata": {
    "scrolled": true
   },
   "outputs": [
    {
     "name": "stderr",
     "output_type": "stream",
     "text": [
      "In C:\\Users\\82105\\anaconda3\\lib\\site-packages\\matplotlib\\mpl-data\\stylelib\\_classic_test.mplstyle: \n",
      "The text.latex.preview rcparam was deprecated in Matplotlib 3.3 and will be removed two minor releases later.\n",
      "In C:\\Users\\82105\\anaconda3\\lib\\site-packages\\matplotlib\\mpl-data\\stylelib\\_classic_test.mplstyle: \n",
      "The mathtext.fallback_to_cm rcparam was deprecated in Matplotlib 3.3 and will be removed two minor releases later.\n",
      "In C:\\Users\\82105\\anaconda3\\lib\\site-packages\\matplotlib\\mpl-data\\stylelib\\_classic_test.mplstyle: Support for setting the 'mathtext.fallback_to_cm' rcParam is deprecated since 3.3 and will be removed two minor releases later; use 'mathtext.fallback : 'cm' instead.\n",
      "In C:\\Users\\82105\\anaconda3\\lib\\site-packages\\matplotlib\\mpl-data\\stylelib\\_classic_test.mplstyle: \n",
      "The validate_bool_maybe_none function was deprecated in Matplotlib 3.3 and will be removed two minor releases later.\n",
      "In C:\\Users\\82105\\anaconda3\\lib\\site-packages\\matplotlib\\mpl-data\\stylelib\\_classic_test.mplstyle: \n",
      "The savefig.jpeg_quality rcparam was deprecated in Matplotlib 3.3 and will be removed two minor releases later.\n",
      "In C:\\Users\\82105\\anaconda3\\lib\\site-packages\\matplotlib\\mpl-data\\stylelib\\_classic_test.mplstyle: \n",
      "The keymap.all_axes rcparam was deprecated in Matplotlib 3.3 and will be removed two minor releases later.\n",
      "In C:\\Users\\82105\\anaconda3\\lib\\site-packages\\matplotlib\\mpl-data\\stylelib\\_classic_test.mplstyle: \n",
      "The animation.avconv_path rcparam was deprecated in Matplotlib 3.3 and will be removed two minor releases later.\n",
      "In C:\\Users\\82105\\anaconda3\\lib\\site-packages\\matplotlib\\mpl-data\\stylelib\\_classic_test.mplstyle: \n",
      "The animation.avconv_args rcparam was deprecated in Matplotlib 3.3 and will be removed two minor releases later.\n"
     ]
    }
   ],
   "source": [
    "%run import_modules.py"
   ]
  },
  {
   "cell_type": "code",
   "execution_count": 3,
   "metadata": {
    "id": "4dQizFz_vZn4"
   },
   "outputs": [],
   "source": [
    "X_train = pd.read_csv('train.csv').drop('index', axis=1)\n",
    "y_train = X_train['voted']\n",
    "X_train = X_train.drop('voted', axis=1)\n",
    "X_test = pd.read_csv('test_x.csv').drop('index', axis=1)\n",
    "train = pd.read_csv('train.csv')"
   ]
  },
  {
   "cell_type": "code",
   "execution_count": 4,
   "metadata": {},
   "outputs": [
    {
     "name": "stdout",
     "output_type": "stream",
     "text": [
      "(45532, 120)\n",
      "(11383, 120)\n"
     ]
    }
   ],
   "source": [
    "### 변수정제\n",
    "def to_int32(dataDF):\n",
    "    Answers = dataDF.filter(regex='A').columns.tolist()\n",
    "    \n",
    "    ### float 데이터 -> int로 처리\n",
    "    for feature in Answers:\n",
    "        dataDF[feature] = dataDF[feature].astype('int32') \n",
    "    \n",
    "    dataDF['Q_A_score'] = dataDF[Answers].mean(axis = 1)\n",
    "    return dataDF\n",
    "\n",
    "X_train = to_int32(X_train)\n",
    "X_test = to_int32(X_test)\n",
    "\n",
    "\n",
    "### 피처 추가\n",
    "# 응답 종류 개수\n",
    "X_train_Q_A = X_train.filter(like = 'A')\n",
    "X_test_Q_A = X_test.filter(like = 'A')\n",
    "X_train['Q_A_count'] = X_train_Q_A.nunique(axis = 1)\n",
    "X_test['Q_A_count'] = X_test_Q_A.nunique(axis = 1)\n",
    "\n",
    "# 응답평균시간\n",
    "X_train_Q_E = X_train.filter(like = 'E')\n",
    "X_test_Q_E = X_test.filter(like = 'E')\n",
    "X_train['Q_E_mean'] = X_train_Q_E.mean(axis = 1)\n",
    "X_test['Q_E_mean'] = X_test_Q_E.mean(axis = 1)\n",
    "\n",
    "# 응답최대시간\n",
    "X_train['Q_E_max'] = X_train_Q_E.max(axis = 1)\n",
    "X_test['Q_E_max'] = X_test_Q_E.max(axis = 1)\n",
    "\n",
    "# wr_(01-13) : 실존하는 해당 단어의 정의을 앎 & wf_(01-03) : 허구인 단어의 정의를 앎\n",
    "# yes = 1, No = 0\n",
    "# 합산을 통해서 얼마나 쌈박하게 똑똑한지\n",
    "X_train_wr = X_train.filter(like = 'wr')\n",
    "X_test_wr = X_test.filter(like = 'wr')\n",
    "X_train_wf = X_train.filter(like = 'wf')\n",
    "X_test_wf = X_test.filter(like = 'wf')\n",
    "X_train['wr_sum'] = X_train_wr.sum(axis = 1)\n",
    "X_test['wr_sum'] = X_test_wr.sum(axis = 1)\n",
    "X_train['wf_sum'] = X_train_wf.sum(axis = 1)\n",
    "X_test['wf_sum'] = X_test_wf.sum(axis = 1)\n",
    "\n",
    "# 응답시간 변동계수\n",
    "X_train['Q_E_cov'] = X_train_Q_E.std(axis = 1)/X_train_Q_E.mean(axis = 1)\n",
    "X_test['Q_E_cov'] = X_test_Q_E.std(axis = 1)/X_test_Q_E.mean(axis = 1)\n",
    "\n",
    "# 응답별 응답비율\n",
    "X_train_total = X_train_Q_E.sum()\n",
    "X_test_total = X_test_Q_E.sum()\n",
    "X_train_Q_E_ratio = X_train_Q_E/X_train_total * 100000 # 단위가 너무 낮아서 100000 곱해줌\n",
    "X_test_Q_E_ratio = X_test_Q_E/X_test_total * 100000\n",
    "X_train_Q_E_ratio = X_train_Q_E_ratio.add_suffix('_ratio')\n",
    "X_test_Q_E_ratio = X_test_Q_E_ratio.add_suffix('_ratio')\n",
    "X_train = pd.concat([X_train, X_train_Q_E_ratio], axis = 1)\n",
    "X_test = pd.concat([X_test, X_test_Q_E_ratio], axis = 1)\n",
    "\n",
    "\n",
    "\n",
    "### 인코딩[라벨화]\n",
    "le = LabelEncoder()\n",
    "features = ['age_group', 'gender']\n",
    "for feature in features:\n",
    "    X_train[feature] = le.fit_transform(np.array(X_train[feature]))\n",
    "    X_test[feature] = le.transform(np.array(X_test[feature]))\n",
    "\n",
    "    \n",
    "### 스케일링[RobustScaler]\n",
    "robustScaler = RobustScaler()\n",
    "features = X_train.filter(regex='E').columns.tolist()\n",
    "X_train[features] = robustScaler.fit_transform(np.array(X_train[features])) \n",
    "X_test[features] = robustScaler.transform(np.array(X_test[features]))\n",
    "\n",
    "### 원핫인코딩\n",
    "def onehot_cat_features(dataDF):\n",
    "    dataDF = pd.get_dummies(dataDF, columns = ['religion','race'])\n",
    "    return dataDF\n",
    "X_train = onehot_cat_features(X_train)\n",
    "X_test = onehot_cat_features(X_test)\n",
    "\n",
    "print(X_train.shape)\n",
    "print(X_test.shape)"
   ]
  },
  {
   "cell_type": "code",
   "execution_count": 5,
   "metadata": {
    "id": "2scb7uJKvZn8"
   },
   "outputs": [],
   "source": [
    "# cv 설정, 고정\n",
    "skf = StratifiedKFold(n_splits=4 , shuffle=True, random_state=24)\n",
    "sscv = StratifiedShuffleSplit(n_splits=4, random_state=24)\n",
    "cv = skf"
   ]
  },
  {
   "cell_type": "code",
   "execution_count": 6,
   "metadata": {
    "id": "YqgZC9ypvZn-"
   },
   "outputs": [],
   "source": [
    "BO_tuned_clfs = []"
   ]
  },
  {
   "cell_type": "markdown",
   "metadata": {
    "id": "olpsF-ZvvZn9"
   },
   "source": [
    "<font color = 'blue'> \n",
    "\n",
    "# 첫번째 BO_tuned_clfs "
   ]
  },
  {
   "cell_type": "markdown",
   "metadata": {
    "id": "r3R3KF40vZoA"
   },
   "source": [
    "lgb_clf"
   ]
  },
  {
   "cell_type": "code",
   "execution_count": 7,
   "metadata": {
    "id": "orLNU7bLvZoA"
   },
   "outputs": [],
   "source": [
    "pbounds = { 'learning_rate': (0.001, 0.06),\n",
    "            'n_estimators': (90, 143),\n",
    "            'max_depth': (6,15),   \n",
    "            'min_child_samples' : (20, 30),\n",
    "            'subsample': (0.8,0.92), \n",
    "            'colsample_bytree': (0.75,0.88),   \n",
    "            'num_leaves': (25,45),\n",
    "            'min_child_weight': (4, 10)}\n",
    "\n",
    "\n",
    "def lgbm_opt(learning_rate, n_estimators, max_depth, min_child_samples, subsample, colsample_bytree, num_leaves, min_child_weight):\n",
    "\n",
    "    params = {\n",
    "        'learning_rate': learning_rate,\n",
    "        'n_estimators' : int(round(n_estimators)),\n",
    "        'max_depth' : int(round(max_depth)),\n",
    "        'min_child_samples' : int(round(min_child_samples)),\n",
    "        'subsample': subsample,\n",
    "        'colsample_bytree' : colsample_bytree,\n",
    "        'num_leaves' : int(round(num_leaves)),\n",
    "        'min_child_weight' : min_child_weight,\n",
    "        'objective' : 'binary',\n",
    "        'n_jobs' : -1\n",
    "    }\n",
    "    \n",
    "    lgbm = LGBMClassifier(**params)\n",
    "    \n",
    "    score = cross_val_score(lgbm, X_train, y_train, scoring='roc_auc', cv=cv, n_jobs=-1)\n",
    "    \n",
    "    return np.mean(score)\n",
    "\n",
    "BO_lgbm = BayesianOptimization(f = lgbm_opt, pbounds = pbounds, random_state=0)    \n"
   ]
  },
  {
   "cell_type": "code",
   "execution_count": 8,
   "metadata": {
    "colab": {
     "base_uri": "https://localhost:8080/",
     "height": 1000
    },
    "id": "FEUretOMvZoC",
    "outputId": "fbf7185d-1f26-42a2-9c03-f1e069666388",
    "scrolled": true
   },
   "outputs": [
    {
     "name": "stdout",
     "output_type": "stream",
     "text": [
      "|   iter    |  target   | colsam... | learni... | max_depth | min_ch... | min_ch... | n_esti... | num_le... | subsample |\n",
      "-------------------------------------------------------------------------------------------------------------------------\n",
      "| \u001b[0m 1       \u001b[0m | \u001b[0m 0.7687  \u001b[0m | \u001b[0m 0.8213  \u001b[0m | \u001b[0m 0.0432  \u001b[0m | \u001b[0m 11.42   \u001b[0m | \u001b[0m 25.45   \u001b[0m | \u001b[0m 6.542   \u001b[0m | \u001b[0m 124.2   \u001b[0m | \u001b[0m 33.75   \u001b[0m | \u001b[0m 0.907   \u001b[0m |\n",
      "| \u001b[0m 2       \u001b[0m | \u001b[0m 0.7682  \u001b[0m | \u001b[0m 0.8753  \u001b[0m | \u001b[0m 0.02362 \u001b[0m | \u001b[0m 13.13   \u001b[0m | \u001b[0m 25.29   \u001b[0m | \u001b[0m 7.408   \u001b[0m | \u001b[0m 139.1   \u001b[0m | \u001b[0m 26.42   \u001b[0m | \u001b[0m 0.8105  \u001b[0m |\n",
      "| \u001b[95m 3       \u001b[0m | \u001b[95m 0.7689  \u001b[0m | \u001b[95m 0.7526  \u001b[0m | \u001b[95m 0.05012 \u001b[0m | \u001b[95m 13.0    \u001b[0m | \u001b[95m 28.7    \u001b[0m | \u001b[95m 9.872   \u001b[0m | \u001b[95m 132.4   \u001b[0m | \u001b[95m 34.23   \u001b[0m | \u001b[95m 0.8937  \u001b[0m |\n",
      "| \u001b[0m 4       \u001b[0m | \u001b[0m 0.7687  \u001b[0m | \u001b[0m 0.7654  \u001b[0m | \u001b[0m 0.03876 \u001b[0m | \u001b[0m 7.29    \u001b[0m | \u001b[0m 29.45   \u001b[0m | \u001b[0m 7.131   \u001b[0m | \u001b[0m 112.0   \u001b[0m | \u001b[0m 30.29   \u001b[0m | \u001b[0m 0.8929  \u001b[0m |\n",
      "| \u001b[0m 5       \u001b[0m | \u001b[0m 0.7682  \u001b[0m | \u001b[0m 0.8093  \u001b[0m | \u001b[0m 0.03454 \u001b[0m | \u001b[0m 6.169   \u001b[0m | \u001b[0m 26.18   \u001b[0m | \u001b[0m 7.673   \u001b[0m | \u001b[0m 122.7   \u001b[0m | \u001b[0m 43.87   \u001b[0m | \u001b[0m 0.8818  \u001b[0m |\n",
      "| \u001b[0m 6       \u001b[0m | \u001b[0m 0.7683  \u001b[0m | \u001b[0m 0.7967  \u001b[0m | \u001b[0m 0.02678 \u001b[0m | \u001b[0m 12.28   \u001b[0m | \u001b[0m 20.6    \u001b[0m | \u001b[0m 8.001   \u001b[0m | \u001b[0m 125.5   \u001b[0m | \u001b[0m 29.21   \u001b[0m | \u001b[0m 0.8155  \u001b[0m |\n",
      "| \u001b[0m 7       \u001b[0m | \u001b[0m 0.7677  \u001b[0m | \u001b[0m 0.791   \u001b[0m | \u001b[0m 0.02246 \u001b[0m | \u001b[0m 11.13   \u001b[0m | \u001b[0m 24.39   \u001b[0m | \u001b[0m 9.93    \u001b[0m | \u001b[0m 95.41   \u001b[0m | \u001b[0m 29.18   \u001b[0m | \u001b[0m 0.8194  \u001b[0m |\n",
      "| \u001b[0m 8       \u001b[0m | \u001b[0m 0.7665  \u001b[0m | \u001b[0m 0.8349  \u001b[0m | \u001b[0m 0.01594 \u001b[0m | \u001b[0m 10.2    \u001b[0m | \u001b[0m 22.44   \u001b[0m | \u001b[0m 4.954   \u001b[0m | \u001b[0m 95.85   \u001b[0m | \u001b[0m 38.13   \u001b[0m | \u001b[0m 0.8166  \u001b[0m |\n",
      "| \u001b[0m 9       \u001b[0m | \u001b[0m 0.7679  \u001b[0m | \u001b[0m 0.7756  \u001b[0m | \u001b[0m 0.02275 \u001b[0m | \u001b[0m 13.39   \u001b[0m | \u001b[0m 20.97   \u001b[0m | \u001b[0m 9.028   \u001b[0m | \u001b[0m 95.09   \u001b[0m | \u001b[0m 44.53   \u001b[0m | \u001b[0m 0.8562  \u001b[0m |\n",
      "| \u001b[0m 10      \u001b[0m | \u001b[0m 0.7685  \u001b[0m | \u001b[0m 0.877   \u001b[0m | \u001b[0m 0.03669 \u001b[0m | \u001b[0m 12.65   \u001b[0m | \u001b[0m 20.39   \u001b[0m | \u001b[0m 5.697   \u001b[0m | \u001b[0m 96.37   \u001b[0m | \u001b[0m 30.92   \u001b[0m | \u001b[0m 0.8142  \u001b[0m |\n",
      "| \u001b[0m 11      \u001b[0m | \u001b[0m 0.7678  \u001b[0m | \u001b[0m 0.7913  \u001b[0m | \u001b[0m 0.02544 \u001b[0m | \u001b[0m 6.577   \u001b[0m | \u001b[0m 26.92   \u001b[0m | \u001b[0m 7.4     \u001b[0m | \u001b[0m 104.1   \u001b[0m | \u001b[0m 35.46   \u001b[0m | \u001b[0m 0.8113  \u001b[0m |\n",
      "| \u001b[0m 12      \u001b[0m | \u001b[0m 0.7681  \u001b[0m | \u001b[0m 0.8249  \u001b[0m | \u001b[0m 0.05583 \u001b[0m | \u001b[0m 8.867   \u001b[0m | \u001b[0m 26.67   \u001b[0m | \u001b[0m 4.791   \u001b[0m | \u001b[0m 128.0   \u001b[0m | \u001b[0m 30.79   \u001b[0m | \u001b[0m 0.822   \u001b[0m |\n",
      "| \u001b[0m 13      \u001b[0m | \u001b[0m 0.7643  \u001b[0m | \u001b[0m 0.8262  \u001b[0m | \u001b[0m 0.002186\u001b[0m | \u001b[0m 13.46   \u001b[0m | \u001b[0m 20.05   \u001b[0m | \u001b[0m 8.067   \u001b[0m | \u001b[0m 104.3   \u001b[0m | \u001b[0m 39.7    \u001b[0m | \u001b[0m 0.9155  \u001b[0m |\n",
      "| \u001b[95m 14      \u001b[0m | \u001b[95m 0.7691  \u001b[0m | \u001b[95m 0.7823  \u001b[0m | \u001b[95m 0.03499 \u001b[0m | \u001b[95m 11.33   \u001b[0m | \u001b[95m 25.72   \u001b[0m | \u001b[95m 5.338   \u001b[0m | \u001b[95m 140.5   \u001b[0m | \u001b[95m 33.94   \u001b[0m | \u001b[95m 0.9016  \u001b[0m |\n",
      "| \u001b[0m 15      \u001b[0m | \u001b[0m 0.7676  \u001b[0m | \u001b[0m 0.8409  \u001b[0m | \u001b[0m 0.01855 \u001b[0m | \u001b[0m 13.32   \u001b[0m | \u001b[0m 23.97   \u001b[0m | \u001b[0m 9.287   \u001b[0m | \u001b[0m 120.8   \u001b[0m | \u001b[0m 42.63   \u001b[0m | \u001b[0m 0.8831  \u001b[0m |\n",
      "| \u001b[0m 16      \u001b[0m | \u001b[0m 0.7681  \u001b[0m | \u001b[0m 0.8443  \u001b[0m | \u001b[0m 0.03058 \u001b[0m | \u001b[0m 14.6    \u001b[0m | \u001b[0m 26.44   \u001b[0m | \u001b[0m 6.543   \u001b[0m | \u001b[0m 122.1   \u001b[0m | \u001b[0m 25.38   \u001b[0m | \u001b[0m 0.8362  \u001b[0m |\n",
      "| \u001b[0m 17      \u001b[0m | \u001b[0m 0.7671  \u001b[0m | \u001b[0m 0.8358  \u001b[0m | \u001b[0m 0.01811 \u001b[0m | \u001b[0m 11.56   \u001b[0m | \u001b[0m 24.29   \u001b[0m | \u001b[0m 4.813   \u001b[0m | \u001b[0m 105.8   \u001b[0m | \u001b[0m 36.4    \u001b[0m | \u001b[0m 0.8709  \u001b[0m |\n",
      "| \u001b[0m 18      \u001b[0m | \u001b[0m 0.7688  \u001b[0m | \u001b[0m 0.8247  \u001b[0m | \u001b[0m 0.03954 \u001b[0m | \u001b[0m 11.87   \u001b[0m | \u001b[0m 24.31   \u001b[0m | \u001b[0m 9.379   \u001b[0m | \u001b[0m 109.5   \u001b[0m | \u001b[0m 33.72   \u001b[0m | \u001b[0m 0.907   \u001b[0m |\n",
      "| \u001b[0m 19      \u001b[0m | \u001b[0m 0.7686  \u001b[0m | \u001b[0m 0.8548  \u001b[0m | \u001b[0m 0.04253 \u001b[0m | \u001b[0m 6.902   \u001b[0m | \u001b[0m 29.19   \u001b[0m | \u001b[0m 8.285   \u001b[0m | \u001b[0m 142.9   \u001b[0m | \u001b[0m 27.99   \u001b[0m | \u001b[0m 0.9042  \u001b[0m |\n",
      "| \u001b[0m 20      \u001b[0m | \u001b[0m 0.7684  \u001b[0m | \u001b[0m 0.7711  \u001b[0m | \u001b[0m 0.03732 \u001b[0m | \u001b[0m 7.114   \u001b[0m | \u001b[0m 28.48   \u001b[0m | \u001b[0m 8.844   \u001b[0m | \u001b[0m 120.2   \u001b[0m | \u001b[0m 33.14   \u001b[0m | \u001b[0m 0.8083  \u001b[0m |\n",
      "| \u001b[0m 21      \u001b[0m | \u001b[0m 0.7684  \u001b[0m | \u001b[0m 0.8407  \u001b[0m | \u001b[0m 0.02776 \u001b[0m | \u001b[0m 12.5    \u001b[0m | \u001b[0m 28.66   \u001b[0m | \u001b[0m 9.853   \u001b[0m | \u001b[0m 135.4   \u001b[0m | \u001b[0m 25.23   \u001b[0m | \u001b[0m 0.8432  \u001b[0m |\n",
      "| \u001b[0m 22      \u001b[0m | \u001b[0m 0.7654  \u001b[0m | \u001b[0m 0.8449  \u001b[0m | \u001b[0m 0.01113 \u001b[0m | \u001b[0m 10.69   \u001b[0m | \u001b[0m 20.54   \u001b[0m | \u001b[0m 5.2     \u001b[0m | \u001b[0m 90.98   \u001b[0m | \u001b[0m 40.87   \u001b[0m | \u001b[0m 0.8269  \u001b[0m |\n",
      "| \u001b[0m 23      \u001b[0m | \u001b[0m 0.7676  \u001b[0m | \u001b[0m 0.7949  \u001b[0m | \u001b[0m 0.05576 \u001b[0m | \u001b[0m 12.34   \u001b[0m | \u001b[0m 20.32   \u001b[0m | \u001b[0m 4.988   \u001b[0m | \u001b[0m 122.9   \u001b[0m | \u001b[0m 36.54   \u001b[0m | \u001b[0m 0.8285  \u001b[0m |\n",
      "| \u001b[0m 24      \u001b[0m | \u001b[0m 0.7686  \u001b[0m | \u001b[0m 0.8714  \u001b[0m | \u001b[0m 0.03722 \u001b[0m | \u001b[0m 10.82   \u001b[0m | \u001b[0m 25.9    \u001b[0m | \u001b[0m 8.381   \u001b[0m | \u001b[0m 106.5   \u001b[0m | \u001b[0m 32.96   \u001b[0m | \u001b[0m 0.8252  \u001b[0m |\n",
      "| \u001b[0m 25      \u001b[0m | \u001b[0m 0.7686  \u001b[0m | \u001b[0m 0.7742  \u001b[0m | \u001b[0m 0.05672 \u001b[0m | \u001b[0m 12.66   \u001b[0m | \u001b[0m 24.9    \u001b[0m | \u001b[0m 5.364   \u001b[0m | \u001b[0m 103.5   \u001b[0m | \u001b[0m 26.16   \u001b[0m | \u001b[0m 0.8521  \u001b[0m |\n",
      "| \u001b[0m 26      \u001b[0m | \u001b[0m 0.7683  \u001b[0m | \u001b[0m 0.7905  \u001b[0m | \u001b[0m 0.04208 \u001b[0m | \u001b[0m 9.4     \u001b[0m | \u001b[0m 21.8    \u001b[0m | \u001b[0m 4.148   \u001b[0m | \u001b[0m 93.56   \u001b[0m | \u001b[0m 38.59   \u001b[0m | \u001b[0m 0.8544  \u001b[0m |\n",
      "| \u001b[0m 27      \u001b[0m | \u001b[0m 0.7682  \u001b[0m | \u001b[0m 0.8198  \u001b[0m | \u001b[0m 0.0539  \u001b[0m | \u001b[0m 14.91   \u001b[0m | \u001b[0m 22.17   \u001b[0m | \u001b[0m 7.978   \u001b[0m | \u001b[0m 104.0   \u001b[0m | \u001b[0m 25.41   \u001b[0m | \u001b[0m 0.891   \u001b[0m |\n",
      "| \u001b[0m 28      \u001b[0m | \u001b[0m 0.7684  \u001b[0m | \u001b[0m 0.7916  \u001b[0m | \u001b[0m 0.02362 \u001b[0m | \u001b[0m 11.29   \u001b[0m | \u001b[0m 28.31   \u001b[0m | \u001b[0m 7.774   \u001b[0m | \u001b[0m 136.3   \u001b[0m | \u001b[0m 30.47   \u001b[0m | \u001b[0m 0.8958  \u001b[0m |\n",
      "| \u001b[0m 29      \u001b[0m | \u001b[0m 0.7677  \u001b[0m | \u001b[0m 0.7741  \u001b[0m | \u001b[0m 0.05721 \u001b[0m | \u001b[0m 12.19   \u001b[0m | \u001b[0m 22.16   \u001b[0m | \u001b[0m 9.684   \u001b[0m | \u001b[0m 128.7   \u001b[0m | \u001b[0m 30.08   \u001b[0m | \u001b[0m 0.8256  \u001b[0m |\n",
      "| \u001b[0m 30      \u001b[0m | \u001b[0m 0.7643  \u001b[0m | \u001b[0m 0.8174  \u001b[0m | \u001b[0m 0.002514\u001b[0m | \u001b[0m 7.867   \u001b[0m | \u001b[0m 24.25   \u001b[0m | \u001b[0m 6.245   \u001b[0m | \u001b[0m 114.6   \u001b[0m | \u001b[0m 30.55   \u001b[0m | \u001b[0m 0.8704  \u001b[0m |\n",
      "| \u001b[0m 31      \u001b[0m | \u001b[0m 0.7652  \u001b[0m | \u001b[0m 0.8623  \u001b[0m | \u001b[0m 0.007934\u001b[0m | \u001b[0m 10.66   \u001b[0m | \u001b[0m 21.32   \u001b[0m | \u001b[0m 8.301   \u001b[0m | \u001b[0m 111.0   \u001b[0m | \u001b[0m 36.31   \u001b[0m | \u001b[0m 0.822   \u001b[0m |\n",
      "| \u001b[0m 32      \u001b[0m | \u001b[0m 0.7688  \u001b[0m | \u001b[0m 0.7688  \u001b[0m | \u001b[0m 0.0298  \u001b[0m | \u001b[0m 9.201   \u001b[0m | \u001b[0m 29.4    \u001b[0m | \u001b[0m 8.592   \u001b[0m | \u001b[0m 129.7   \u001b[0m | \u001b[0m 43.07   \u001b[0m | \u001b[0m 0.81    \u001b[0m |\n",
      "| \u001b[0m 33      \u001b[0m | \u001b[0m 0.7679  \u001b[0m | \u001b[0m 0.8218  \u001b[0m | \u001b[0m 0.03548 \u001b[0m | \u001b[0m 14.66   \u001b[0m | \u001b[0m 22.92   \u001b[0m | \u001b[0m 5.445   \u001b[0m | \u001b[0m 95.32   \u001b[0m | \u001b[0m 25.33   \u001b[0m | \u001b[0m 0.9115  \u001b[0m |\n",
      "| \u001b[0m 34      \u001b[0m | \u001b[0m 0.7681  \u001b[0m | \u001b[0m 0.8371  \u001b[0m | \u001b[0m 0.04732 \u001b[0m | \u001b[0m 8.536   \u001b[0m | \u001b[0m 25.86   \u001b[0m | \u001b[0m 4.384   \u001b[0m | \u001b[0m 115.7   \u001b[0m | \u001b[0m 44.55   \u001b[0m | \u001b[0m 0.9052  \u001b[0m |\n",
      "| \u001b[0m 35      \u001b[0m | \u001b[0m 0.7673  \u001b[0m | \u001b[0m 0.794   \u001b[0m | \u001b[0m 0.05773 \u001b[0m | \u001b[0m 8.085   \u001b[0m | \u001b[0m 29.49   \u001b[0m | \u001b[0m 9.648   \u001b[0m | \u001b[0m 132.4   \u001b[0m | \u001b[0m 37.61   \u001b[0m | \u001b[0m 0.9049  \u001b[0m |\n",
      "| \u001b[0m 36      \u001b[0m | \u001b[0m 0.7676  \u001b[0m | \u001b[0m 0.7881  \u001b[0m | \u001b[0m 0.05109 \u001b[0m | \u001b[0m 11.56   \u001b[0m | \u001b[0m 20.13   \u001b[0m | \u001b[0m 6.083   \u001b[0m | \u001b[0m 97.85   \u001b[0m | \u001b[0m 44.64   \u001b[0m | \u001b[0m 0.8574  \u001b[0m |\n",
      "| \u001b[0m 37      \u001b[0m | \u001b[0m 0.768   \u001b[0m | \u001b[0m 0.8147  \u001b[0m | \u001b[0m 0.03873 \u001b[0m | \u001b[0m 9.317   \u001b[0m | \u001b[0m 21.37   \u001b[0m | \u001b[0m 8.933   \u001b[0m | \u001b[0m 100.1   \u001b[0m | \u001b[0m 35.23   \u001b[0m | \u001b[0m 0.8269  \u001b[0m |\n",
      "| \u001b[0m 38      \u001b[0m | \u001b[0m 0.768   \u001b[0m | \u001b[0m 0.7627  \u001b[0m | \u001b[0m 0.05187 \u001b[0m | \u001b[0m 14.76   \u001b[0m | \u001b[0m 29.61   \u001b[0m | \u001b[0m 9.439   \u001b[0m | \u001b[0m 131.0   \u001b[0m | \u001b[0m 31.66   \u001b[0m | \u001b[0m 0.8097  \u001b[0m |\n",
      "| \u001b[0m 39      \u001b[0m | \u001b[0m 0.7664  \u001b[0m | \u001b[0m 0.8029  \u001b[0m | \u001b[0m 0.0147  \u001b[0m | \u001b[0m 7.192   \u001b[0m | \u001b[0m 20.53   \u001b[0m | \u001b[0m 8.354   \u001b[0m | \u001b[0m 90.61   \u001b[0m | \u001b[0m 40.41   \u001b[0m | \u001b[0m 0.8176  \u001b[0m |\n",
      "| \u001b[0m 40      \u001b[0m | \u001b[0m 0.7662  \u001b[0m | \u001b[0m 0.7603  \u001b[0m | \u001b[0m 0.006287\u001b[0m | \u001b[0m 12.05   \u001b[0m | \u001b[0m 22.45   \u001b[0m | \u001b[0m 6.523   \u001b[0m | \u001b[0m 119.5   \u001b[0m | \u001b[0m 42.21   \u001b[0m | \u001b[0m 0.8872  \u001b[0m |\n"
     ]
    },
    {
     "name": "stdout",
     "output_type": "stream",
     "text": [
      "| \u001b[0m 41      \u001b[0m | \u001b[0m 0.7686  \u001b[0m | \u001b[0m 0.8299  \u001b[0m | \u001b[0m 0.04923 \u001b[0m | \u001b[0m 12.39   \u001b[0m | \u001b[0m 27.47   \u001b[0m | \u001b[0m 8.656   \u001b[0m | \u001b[0m 127.3   \u001b[0m | \u001b[0m 27.33   \u001b[0m | \u001b[0m 0.8401  \u001b[0m |\n",
      "| \u001b[0m 42      \u001b[0m | \u001b[0m 0.7687  \u001b[0m | \u001b[0m 0.8496  \u001b[0m | \u001b[0m 0.03946 \u001b[0m | \u001b[0m 12.32   \u001b[0m | \u001b[0m 26.25   \u001b[0m | \u001b[0m 8.235   \u001b[0m | \u001b[0m 133.0   \u001b[0m | \u001b[0m 39.17   \u001b[0m | \u001b[0m 0.9014  \u001b[0m |\n",
      "| \u001b[0m 43      \u001b[0m | \u001b[0m 0.7688  \u001b[0m | \u001b[0m 0.7974  \u001b[0m | \u001b[0m 0.03156 \u001b[0m | \u001b[0m 11.7    \u001b[0m | \u001b[0m 25.4    \u001b[0m | \u001b[0m 9.581   \u001b[0m | \u001b[0m 130.4   \u001b[0m | \u001b[0m 31.69   \u001b[0m | \u001b[0m 0.8185  \u001b[0m |\n",
      "| \u001b[0m 44      \u001b[0m | \u001b[0m 0.7678  \u001b[0m | \u001b[0m 0.8288  \u001b[0m | \u001b[0m 0.02093 \u001b[0m | \u001b[0m 12.59   \u001b[0m | \u001b[0m 29.96   \u001b[0m | \u001b[0m 5.923   \u001b[0m | \u001b[0m 124.0   \u001b[0m | \u001b[0m 29.94   \u001b[0m | \u001b[0m 0.8372  \u001b[0m |\n",
      "| \u001b[0m 45      \u001b[0m | \u001b[0m 0.7659  \u001b[0m | \u001b[0m 0.8264  \u001b[0m | \u001b[0m 0.008767\u001b[0m | \u001b[0m 7.261   \u001b[0m | \u001b[0m 20.68   \u001b[0m | \u001b[0m 9.851   \u001b[0m | \u001b[0m 132.9   \u001b[0m | \u001b[0m 37.18   \u001b[0m | \u001b[0m 0.8105  \u001b[0m |\n",
      "| \u001b[0m 46      \u001b[0m | \u001b[0m 0.7681  \u001b[0m | \u001b[0m 0.862   \u001b[0m | \u001b[0m 0.02667 \u001b[0m | \u001b[0m 9.587   \u001b[0m | \u001b[0m 25.79   \u001b[0m | \u001b[0m 7.603   \u001b[0m | \u001b[0m 110.8   \u001b[0m | \u001b[0m 32.0    \u001b[0m | \u001b[0m 0.9032  \u001b[0m |\n",
      "| \u001b[0m 47      \u001b[0m | \u001b[0m 0.7677  \u001b[0m | \u001b[0m 0.8262  \u001b[0m | \u001b[0m 0.05591 \u001b[0m | \u001b[0m 10.7    \u001b[0m | \u001b[0m 23.04   \u001b[0m | \u001b[0m 9.31    \u001b[0m | \u001b[0m 100.4   \u001b[0m | \u001b[0m 38.65   \u001b[0m | \u001b[0m 0.8447  \u001b[0m |\n",
      "| \u001b[0m 48      \u001b[0m | \u001b[0m 0.7685  \u001b[0m | \u001b[0m 0.862   \u001b[0m | \u001b[0m 0.04796 \u001b[0m | \u001b[0m 12.6    \u001b[0m | \u001b[0m 24.65   \u001b[0m | \u001b[0m 5.608   \u001b[0m | \u001b[0m 103.3   \u001b[0m | \u001b[0m 25.53   \u001b[0m | \u001b[0m 0.8118  \u001b[0m |\n",
      "| \u001b[0m 49      \u001b[0m | \u001b[0m 0.768   \u001b[0m | \u001b[0m 0.7649  \u001b[0m | \u001b[0m 0.06    \u001b[0m | \u001b[0m 12.28   \u001b[0m | \u001b[0m 26.03   \u001b[0m | \u001b[0m 10.0    \u001b[0m | \u001b[0m 108.9   \u001b[0m | \u001b[0m 31.44   \u001b[0m | \u001b[0m 0.92    \u001b[0m |\n",
      "| \u001b[0m 50      \u001b[0m | \u001b[0m 0.7688  \u001b[0m | \u001b[0m 0.7965  \u001b[0m | \u001b[0m 0.03751 \u001b[0m | \u001b[0m 12.07   \u001b[0m | \u001b[0m 26.53   \u001b[0m | \u001b[0m 8.105   \u001b[0m | \u001b[0m 133.0   \u001b[0m | \u001b[0m 33.27   \u001b[0m | \u001b[0m 0.855   \u001b[0m |\n",
      "=========================================================================================================================\n"
     ]
    }
   ],
   "source": [
    "BO_lgbm.maximize(init_points=40, n_iter=10)"
   ]
  },
  {
   "cell_type": "code",
   "execution_count": 9,
   "metadata": {
    "colab": {
     "base_uri": "https://localhost:8080/",
     "height": 143
    },
    "id": "UAQkYnc0vZoE",
    "outputId": "d1a8724b-ec75-4b58-ec0c-c3f42e25ce3d"
   },
   "outputs": [
    {
     "data": {
      "text/plain": [
       "{'colsample_bytree': 0.7823379086575946,\n",
       " 'learning_rate': 0.03499328273065238,\n",
       " 'max_depth': 11,\n",
       " 'min_child_samples': 26,\n",
       " 'min_child_weight': 5.33848979584371,\n",
       " 'n_estimators': 140,\n",
       " 'num_leaves': 34,\n",
       " 'subsample': 0.9015690406965354,\n",
       " 'objective': 'binary',\n",
       " 'n_jobs': -1}"
      ]
     },
     "execution_count": 9,
     "metadata": {},
     "output_type": "execute_result"
    }
   ],
   "source": [
    "# BO_rf.res  # 모든 성능 들어가있음\n",
    "BO_lgbm.max\n",
    "\n",
    "max_params = BO_lgbm.max['params']\n",
    "\n",
    "max_params['n_estimators'] = int(round(max_params['n_estimators']))\n",
    "max_params['max_depth'] = int(round(max_params['max_depth']))\n",
    "max_params['min_child_samples'] = int(round(max_params['min_child_samples']))\n",
    "max_params['num_leaves'] = int(round(max_params['num_leaves']))\n",
    "max_params['objective'] = 'binary'\n",
    "max_params['n_jobs'] = -1\n",
    "\n",
    "max_params"
   ]
  },
  {
   "cell_type": "code",
   "execution_count": 10,
   "metadata": {
    "colab": {
     "base_uri": "https://localhost:8080/",
     "height": 71
    },
    "id": "J3hiDfZjvZoF",
    "outputId": "7d88bf30-d183-4827-f35b-aa511eab2a97"
   },
   "outputs": [
    {
     "name": "stdout",
     "output_type": "stream",
     "text": [
      "[0.767445   0.76882148 0.77476588 0.76549308]\n",
      "최대성능: 0.77476588321704\n",
      "평균성능: 0.7691313613036108\n"
     ]
    }
   ],
   "source": [
    "lgbm_clf = LGBMClassifier(**max_params)\n",
    "\n",
    "scores = cross_val_score(lgbm_clf, X_train, y_train, scoring='roc_auc', cv=cv, n_jobs=-1)\n",
    "\n",
    "print(scores)\n",
    "print(f'최대성능: {max(scores)}\\n평균성능: {np.mean(scores)}')\n",
    "\n",
    "BO_tuned_clfs.append((lgbm_clf.__class__.__name__, lgbm_clf, np.mean(scores)))"
   ]
  },
  {
   "cell_type": "markdown",
   "metadata": {
    "id": "ejdGPALnvZoJ"
   },
   "source": [
    "<font color = 'blue'> \n",
    "\n",
    "# 두번째 BO_tuned_clfs "
   ]
  },
  {
   "cell_type": "markdown",
   "metadata": {
    "id": "p0GcETRkvZoL"
   },
   "source": [
    "lgb_clf"
   ]
  },
  {
   "cell_type": "code",
   "execution_count": 11,
   "metadata": {
    "id": "orLNU7bLvZoA"
   },
   "outputs": [],
   "source": [
    "pbounds = { 'learning_rate': (0.001, 0.06),\n",
    "            'n_estimators': (100, 160),\n",
    "            'max_depth': (10,22),   \n",
    "            'min_child_samples' : (20, 40),\n",
    "            'subsample': (0.79 ,0.94), \n",
    "            'colsample_bytree': (0.76,0.9),   \n",
    "            'num_leaves': (30,45),\n",
    "            'min_child_weight': (5, 10)}\n",
    "\n",
    "\n",
    "def lgbm_opt(learning_rate, n_estimators, max_depth, min_child_samples, subsample, colsample_bytree, num_leaves, min_child_weight):\n",
    "\n",
    "    params = {\n",
    "        'learning_rate': learning_rate,\n",
    "        'n_estimators' : int(round(n_estimators)),\n",
    "        'max_depth' : int(round(max_depth)),\n",
    "        'min_child_samples' : int(round(min_child_samples)),\n",
    "        'subsample': subsample,\n",
    "        'colsample_bytree' : colsample_bytree,\n",
    "        'num_leaves' : int(round(num_leaves)),\n",
    "        'min_child_weight' : min_child_weight,\n",
    "        'objective' : 'binary',\n",
    "        'n_jobs' : -1\n",
    "    }\n",
    "    \n",
    "    lgbm = LGBMClassifier(**params)\n",
    "    \n",
    "    score = cross_val_score(lgbm, X_train, y_train, scoring='roc_auc', cv=cv, n_jobs=-1)\n",
    "    \n",
    "    return np.mean(score)\n",
    "\n",
    "BO_lgbm = BayesianOptimization(f = lgbm_opt, pbounds = pbounds, random_state=0)    \n"
   ]
  },
  {
   "cell_type": "code",
   "execution_count": 12,
   "metadata": {
    "colab": {
     "base_uri": "https://localhost:8080/",
     "height": 1000
    },
    "id": "FEUretOMvZoC",
    "outputId": "fbf7185d-1f26-42a2-9c03-f1e069666388",
    "scrolled": true
   },
   "outputs": [
    {
     "name": "stdout",
     "output_type": "stream",
     "text": [
      "|   iter    |  target   | colsam... | learni... | max_depth | min_ch... | min_ch... | n_esti... | num_le... | subsample |\n",
      "-------------------------------------------------------------------------------------------------------------------------\n",
      "| \u001b[0m 1       \u001b[0m | \u001b[0m 0.7688  \u001b[0m | \u001b[0m 0.8368  \u001b[0m | \u001b[0m 0.0432  \u001b[0m | \u001b[0m 17.23   \u001b[0m | \u001b[0m 30.9    \u001b[0m | \u001b[0m 7.118   \u001b[0m | \u001b[0m 138.8   \u001b[0m | \u001b[0m 36.56   \u001b[0m | \u001b[0m 0.9238  \u001b[0m |\n",
      "| \u001b[0m 2       \u001b[0m | \u001b[0m 0.7687  \u001b[0m | \u001b[0m 0.8949  \u001b[0m | \u001b[0m 0.02362 \u001b[0m | \u001b[0m 19.5    \u001b[0m | \u001b[0m 30.58   \u001b[0m | \u001b[0m 7.84    \u001b[0m | \u001b[0m 155.5   \u001b[0m | \u001b[0m 31.07   \u001b[0m | \u001b[0m 0.8031  \u001b[0m |\n",
      "| \u001b[0m 3       \u001b[0m | \u001b[0m 0.7673  \u001b[0m | \u001b[0m 0.7628  \u001b[0m | \u001b[0m 0.05012 \u001b[0m | \u001b[0m 19.34   \u001b[0m | \u001b[0m 37.4    \u001b[0m | \u001b[0m 9.893   \u001b[0m | \u001b[0m 147.9   \u001b[0m | \u001b[0m 36.92   \u001b[0m | \u001b[0m 0.9071  \u001b[0m |\n",
      "| \u001b[0m 4       \u001b[0m | \u001b[0m 0.7683  \u001b[0m | \u001b[0m 0.7766  \u001b[0m | \u001b[0m 0.03876 \u001b[0m | \u001b[0m 11.72   \u001b[0m | \u001b[0m 38.89   \u001b[0m | \u001b[0m 7.609   \u001b[0m | \u001b[0m 124.9   \u001b[0m | \u001b[0m 33.97   \u001b[0m | \u001b[0m 0.9061  \u001b[0m |\n",
      "| \u001b[0m 5       \u001b[0m | \u001b[0m 0.7684  \u001b[0m | \u001b[0m 0.8239  \u001b[0m | \u001b[0m 0.03454 \u001b[0m | \u001b[0m 10.23   \u001b[0m | \u001b[0m 32.35   \u001b[0m | \u001b[0m 8.06    \u001b[0m | \u001b[0m 137.0   \u001b[0m | \u001b[0m 44.16   \u001b[0m | \u001b[0m 0.8923  \u001b[0m |\n",
      "| \u001b[0m 6       \u001b[0m | \u001b[0m 0.7688  \u001b[0m | \u001b[0m 0.8103  \u001b[0m | \u001b[0m 0.02678 \u001b[0m | \u001b[0m 18.37   \u001b[0m | \u001b[0m 21.2    \u001b[0m | \u001b[0m 8.334   \u001b[0m | \u001b[0m 140.2   \u001b[0m | \u001b[0m 33.16   \u001b[0m | \u001b[0m 0.8093  \u001b[0m |\n",
      "| \u001b[0m 7       \u001b[0m | \u001b[0m 0.7679  \u001b[0m | \u001b[0m 0.8042  \u001b[0m | \u001b[0m 0.02246 \u001b[0m | \u001b[0m 16.84   \u001b[0m | \u001b[0m 28.77   \u001b[0m | \u001b[0m 9.942   \u001b[0m | \u001b[0m 106.1   \u001b[0m | \u001b[0m 33.13   \u001b[0m | \u001b[0m 0.8142  \u001b[0m |\n",
      "| \u001b[0m 8       \u001b[0m | \u001b[0m 0.7668  \u001b[0m | \u001b[0m 0.8514  \u001b[0m | \u001b[0m 0.01594 \u001b[0m | \u001b[0m 15.6    \u001b[0m | \u001b[0m 24.89   \u001b[0m | \u001b[0m 5.795   \u001b[0m | \u001b[0m 106.6   \u001b[0m | \u001b[0m 39.84   \u001b[0m | \u001b[0m 0.8107  \u001b[0m |\n",
      "| \u001b[0m 9       \u001b[0m | \u001b[0m 0.768   \u001b[0m | \u001b[0m 0.7875  \u001b[0m | \u001b[0m 0.02275 \u001b[0m | \u001b[0m 19.85   \u001b[0m | \u001b[0m 21.94   \u001b[0m | \u001b[0m 9.19    \u001b[0m | \u001b[0m 105.8   \u001b[0m | \u001b[0m 44.65   \u001b[0m | \u001b[0m 0.8603  \u001b[0m |\n",
      "| \u001b[0m 10      \u001b[0m | \u001b[0m 0.7685  \u001b[0m | \u001b[0m 0.8967  \u001b[0m | \u001b[0m 0.03669 \u001b[0m | \u001b[0m 18.87   \u001b[0m | \u001b[0m 20.78   \u001b[0m | \u001b[0m 6.414   \u001b[0m | \u001b[0m 107.2   \u001b[0m | \u001b[0m 34.44   \u001b[0m | \u001b[0m 0.8078  \u001b[0m |\n",
      "| \u001b[0m 11      \u001b[0m | \u001b[0m 0.7681  \u001b[0m | \u001b[0m 0.8045  \u001b[0m | \u001b[0m 0.02544 \u001b[0m | \u001b[0m 10.77   \u001b[0m | \u001b[0m 33.85   \u001b[0m | \u001b[0m 7.833   \u001b[0m | \u001b[0m 115.9   \u001b[0m | \u001b[0m 37.85   \u001b[0m | \u001b[0m 0.8041  \u001b[0m |\n",
      "| \u001b[0m 12      \u001b[0m | \u001b[0m 0.7674  \u001b[0m | \u001b[0m 0.8406  \u001b[0m | \u001b[0m 0.05583 \u001b[0m | \u001b[0m 13.82   \u001b[0m | \u001b[0m 33.35   \u001b[0m | \u001b[0m 5.659   \u001b[0m | \u001b[0m 143.0   \u001b[0m | \u001b[0m 34.34   \u001b[0m | \u001b[0m 0.8175  \u001b[0m |\n",
      "| \u001b[0m 13      \u001b[0m | \u001b[0m 0.764   \u001b[0m | \u001b[0m 0.8421  \u001b[0m | \u001b[0m 0.002186\u001b[0m | \u001b[0m 19.95   \u001b[0m | \u001b[0m 20.09   \u001b[0m | \u001b[0m 8.389   \u001b[0m | \u001b[0m 116.2   \u001b[0m | \u001b[0m 41.03   \u001b[0m | \u001b[0m 0.9343  \u001b[0m |\n",
      "| \u001b[0m 14      \u001b[0m | \u001b[0m 0.7684  \u001b[0m | \u001b[0m 0.7948  \u001b[0m | \u001b[0m 0.03499 \u001b[0m | \u001b[0m 17.1    \u001b[0m | \u001b[0m 31.45   \u001b[0m | \u001b[0m 6.115   \u001b[0m | \u001b[0m 157.2   \u001b[0m | \u001b[0m 36.71   \u001b[0m | \u001b[0m 0.917   \u001b[0m |\n",
      "| \u001b[0m 15      \u001b[0m | \u001b[0m 0.7679  \u001b[0m | \u001b[0m 0.8579  \u001b[0m | \u001b[0m 0.01855 \u001b[0m | \u001b[0m 19.77   \u001b[0m | \u001b[0m 27.93   \u001b[0m | \u001b[0m 9.406   \u001b[0m | \u001b[0m 134.9   \u001b[0m | \u001b[0m 43.23   \u001b[0m | \u001b[0m 0.8939  \u001b[0m |\n",
      "| \u001b[0m 16      \u001b[0m | \u001b[0m 0.7686  \u001b[0m | \u001b[0m 0.8615  \u001b[0m | \u001b[0m 0.03058 \u001b[0m | \u001b[0m 21.47   \u001b[0m | \u001b[0m 32.88   \u001b[0m | \u001b[0m 7.119   \u001b[0m | \u001b[0m 136.4   \u001b[0m | \u001b[0m 30.29   \u001b[0m | \u001b[0m 0.8352  \u001b[0m |\n",
      "| \u001b[0m 17      \u001b[0m | \u001b[0m 0.7674  \u001b[0m | \u001b[0m 0.8524  \u001b[0m | \u001b[0m 0.01811 \u001b[0m | \u001b[0m 17.42   \u001b[0m | \u001b[0m 28.58   \u001b[0m | \u001b[0m 5.677   \u001b[0m | \u001b[0m 117.9   \u001b[0m | \u001b[0m 38.55   \u001b[0m | \u001b[0m 0.8786  \u001b[0m |\n",
      "| \u001b[0m 18      \u001b[0m | \u001b[0m 0.7688  \u001b[0m | \u001b[0m 0.8404  \u001b[0m | \u001b[0m 0.03954 \u001b[0m | \u001b[0m 17.83   \u001b[0m | \u001b[0m 28.63   \u001b[0m | \u001b[0m 9.483   \u001b[0m | \u001b[0m 122.1   \u001b[0m | \u001b[0m 36.54   \u001b[0m | \u001b[0m 0.9238  \u001b[0m |\n",
      "| \u001b[0m 19      \u001b[0m | \u001b[0m 0.7687  \u001b[0m | \u001b[0m 0.8729  \u001b[0m | \u001b[0m 0.04253 \u001b[0m | \u001b[0m 11.2    \u001b[0m | \u001b[0m 38.39   \u001b[0m | \u001b[0m 8.571   \u001b[0m | \u001b[0m 159.9   \u001b[0m | \u001b[0m 32.24   \u001b[0m | \u001b[0m 0.9202  \u001b[0m |\n",
      "| \u001b[0m 20      \u001b[0m | \u001b[0m 0.7686  \u001b[0m | \u001b[0m 0.7827  \u001b[0m | \u001b[0m 0.03732 \u001b[0m | \u001b[0m 11.49   \u001b[0m | \u001b[0m 36.96   \u001b[0m | \u001b[0m 9.037   \u001b[0m | \u001b[0m 134.1   \u001b[0m | \u001b[0m 36.11   \u001b[0m | \u001b[0m 0.8004  \u001b[0m |\n",
      "| \u001b[0m 21      \u001b[0m | \u001b[0m 0.7687  \u001b[0m | \u001b[0m 0.8576  \u001b[0m | \u001b[0m 0.02776 \u001b[0m | \u001b[0m 18.66   \u001b[0m | \u001b[0m 37.33   \u001b[0m | \u001b[0m 9.878   \u001b[0m | \u001b[0m 151.3   \u001b[0m | \u001b[0m 30.18   \u001b[0m | \u001b[0m 0.844   \u001b[0m |\n",
      "| \u001b[0m 22      \u001b[0m | \u001b[0m 0.7656  \u001b[0m | \u001b[0m 0.8622  \u001b[0m | \u001b[0m 0.01113 \u001b[0m | \u001b[0m 16.25   \u001b[0m | \u001b[0m 21.09   \u001b[0m | \u001b[0m 6.0     \u001b[0m | \u001b[0m 101.1   \u001b[0m | \u001b[0m 41.91   \u001b[0m | \u001b[0m 0.8236  \u001b[0m |\n",
      "| \u001b[0m 23      \u001b[0m | \u001b[0m 0.7675  \u001b[0m | \u001b[0m 0.8083  \u001b[0m | \u001b[0m 0.05576 \u001b[0m | \u001b[0m 18.45   \u001b[0m | \u001b[0m 20.64   \u001b[0m | \u001b[0m 5.823   \u001b[0m | \u001b[0m 137.3   \u001b[0m | \u001b[0m 38.66   \u001b[0m | \u001b[0m 0.8257  \u001b[0m |\n",
      "| \u001b[0m 24      \u001b[0m | \u001b[0m 0.7686  \u001b[0m | \u001b[0m 0.8908  \u001b[0m | \u001b[0m 0.03722 \u001b[0m | \u001b[0m 16.43   \u001b[0m | \u001b[0m 31.8    \u001b[0m | \u001b[0m 8.651   \u001b[0m | \u001b[0m 118.7   \u001b[0m | \u001b[0m 35.97   \u001b[0m | \u001b[0m 0.8215  \u001b[0m |\n",
      "| \u001b[0m 25      \u001b[0m | \u001b[0m 0.7676  \u001b[0m | \u001b[0m 0.7861  \u001b[0m | \u001b[0m 0.05672 \u001b[0m | \u001b[0m 18.87   \u001b[0m | \u001b[0m 29.81   \u001b[0m | \u001b[0m 6.137   \u001b[0m | \u001b[0m 115.3   \u001b[0m | \u001b[0m 30.87   \u001b[0m | \u001b[0m 0.8552  \u001b[0m |\n",
      "| \u001b[0m 26      \u001b[0m | \u001b[0m 0.7682  \u001b[0m | \u001b[0m 0.8037  \u001b[0m | \u001b[0m 0.04208 \u001b[0m | \u001b[0m 14.53   \u001b[0m | \u001b[0m 23.59   \u001b[0m | \u001b[0m 5.123   \u001b[0m | \u001b[0m 104.0   \u001b[0m | \u001b[0m 40.19   \u001b[0m | \u001b[0m 0.8581  \u001b[0m |\n",
      "| \u001b[0m 27      \u001b[0m | \u001b[0m 0.7685  \u001b[0m | \u001b[0m 0.8351  \u001b[0m | \u001b[0m 0.0539  \u001b[0m | \u001b[0m 21.88   \u001b[0m | \u001b[0m 24.34   \u001b[0m | \u001b[0m 8.315   \u001b[0m | \u001b[0m 115.8   \u001b[0m | \u001b[0m 30.31   \u001b[0m | \u001b[0m 0.9038  \u001b[0m |\n",
      "| \u001b[95m 28      \u001b[0m | \u001b[95m 0.7689  \u001b[0m | \u001b[95m 0.8048  \u001b[0m | \u001b[95m 0.02362 \u001b[0m | \u001b[95m 17.06   \u001b[0m | \u001b[95m 36.62   \u001b[0m | \u001b[95m 8.145   \u001b[0m | \u001b[95m 152.4   \u001b[0m | \u001b[95m 34.1    \u001b[0m | \u001b[95m 0.9097  \u001b[0m |\n",
      "| \u001b[0m 29      \u001b[0m | \u001b[0m 0.7671  \u001b[0m | \u001b[0m 0.786   \u001b[0m | \u001b[0m 0.05721 \u001b[0m | \u001b[0m 18.25   \u001b[0m | \u001b[0m 24.31   \u001b[0m | \u001b[0m 9.737   \u001b[0m | \u001b[0m 143.9   \u001b[0m | \u001b[0m 33.81   \u001b[0m | \u001b[0m 0.822   \u001b[0m |\n",
      "| \u001b[0m 30      \u001b[0m | \u001b[0m 0.7643  \u001b[0m | \u001b[0m 0.8325  \u001b[0m | \u001b[0m 0.002514\u001b[0m | \u001b[0m 12.49   \u001b[0m | \u001b[0m 28.49   \u001b[0m | \u001b[0m 6.871   \u001b[0m | \u001b[0m 127.8   \u001b[0m | \u001b[0m 34.16   \u001b[0m | \u001b[0m 0.878   \u001b[0m |\n",
      "| \u001b[0m 31      \u001b[0m | \u001b[0m 0.7653  \u001b[0m | \u001b[0m 0.8809  \u001b[0m | \u001b[0m 0.007934\u001b[0m | \u001b[0m 16.21   \u001b[0m | \u001b[0m 22.64   \u001b[0m | \u001b[0m 8.584   \u001b[0m | \u001b[0m 123.8   \u001b[0m | \u001b[0m 38.48   \u001b[0m | \u001b[0m 0.8175  \u001b[0m |\n",
      "| \u001b[0m 32      \u001b[0m | \u001b[0m 0.7683  \u001b[0m | \u001b[0m 0.7803  \u001b[0m | \u001b[0m 0.0298  \u001b[0m | \u001b[0m 14.27   \u001b[0m | \u001b[0m 38.81   \u001b[0m | \u001b[0m 8.827   \u001b[0m | \u001b[0m 144.9   \u001b[0m | \u001b[0m 43.56   \u001b[0m | \u001b[0m 0.8025  \u001b[0m |\n",
      "| \u001b[0m 33      \u001b[0m | \u001b[0m 0.7683  \u001b[0m | \u001b[0m 0.8373  \u001b[0m | \u001b[0m 0.03548 \u001b[0m | \u001b[0m 21.54   \u001b[0m | \u001b[0m 25.84   \u001b[0m | \u001b[0m 6.204   \u001b[0m | \u001b[0m 106.0   \u001b[0m | \u001b[0m 30.25   \u001b[0m | \u001b[0m 0.9294  \u001b[0m |\n",
      "| \u001b[0m 34      \u001b[0m | \u001b[0m 0.7679  \u001b[0m | \u001b[0m 0.8538  \u001b[0m | \u001b[0m 0.04732 \u001b[0m | \u001b[0m 13.38   \u001b[0m | \u001b[0m 31.73   \u001b[0m | \u001b[0m 5.32    \u001b[0m | \u001b[0m 129.1   \u001b[0m | \u001b[0m 44.66   \u001b[0m | \u001b[0m 0.9215  \u001b[0m |\n",
      "| \u001b[0m 35      \u001b[0m | \u001b[0m 0.7671  \u001b[0m | \u001b[0m 0.8073  \u001b[0m | \u001b[0m 0.05773 \u001b[0m | \u001b[0m 12.78   \u001b[0m | \u001b[0m 38.99   \u001b[0m | \u001b[0m 9.707   \u001b[0m | \u001b[0m 148.0   \u001b[0m | \u001b[0m 39.46   \u001b[0m | \u001b[0m 0.9211  \u001b[0m |\n",
      "| \u001b[0m 36      \u001b[0m | \u001b[0m 0.7677  \u001b[0m | \u001b[0m 0.801   \u001b[0m | \u001b[0m 0.05109 \u001b[0m | \u001b[0m 17.41   \u001b[0m | \u001b[0m 20.26   \u001b[0m | \u001b[0m 6.736   \u001b[0m | \u001b[0m 108.9   \u001b[0m | \u001b[0m 44.73   \u001b[0m | \u001b[0m 0.8618  \u001b[0m |\n",
      "| \u001b[0m 37      \u001b[0m | \u001b[0m 0.7684  \u001b[0m | \u001b[0m 0.8296  \u001b[0m | \u001b[0m 0.03873 \u001b[0m | \u001b[0m 14.42   \u001b[0m | \u001b[0m 22.74   \u001b[0m | \u001b[0m 9.111   \u001b[0m | \u001b[0m 111.4   \u001b[0m | \u001b[0m 37.67   \u001b[0m | \u001b[0m 0.8236  \u001b[0m |\n",
      "| \u001b[0m 38      \u001b[0m | \u001b[0m 0.7686  \u001b[0m | \u001b[0m 0.7737  \u001b[0m | \u001b[0m 0.05187 \u001b[0m | \u001b[0m 21.68   \u001b[0m | \u001b[0m 39.22   \u001b[0m | \u001b[0m 9.533   \u001b[0m | \u001b[0m 146.4   \u001b[0m | \u001b[0m 35.0    \u001b[0m | \u001b[0m 0.8022  \u001b[0m |\n",
      "| \u001b[0m 39      \u001b[0m | \u001b[0m 0.7669  \u001b[0m | \u001b[0m 0.817   \u001b[0m | \u001b[0m 0.0147  \u001b[0m | \u001b[0m 11.59   \u001b[0m | \u001b[0m 21.07   \u001b[0m | \u001b[0m 8.628   \u001b[0m | \u001b[0m 100.7   \u001b[0m | \u001b[0m 41.56   \u001b[0m | \u001b[0m 0.812   \u001b[0m |\n",
      "| \u001b[0m 40      \u001b[0m | \u001b[0m 0.7663  \u001b[0m | \u001b[0m 0.7711  \u001b[0m | \u001b[0m 0.006287\u001b[0m | \u001b[0m 18.06   \u001b[0m | \u001b[0m 24.91   \u001b[0m | \u001b[0m 7.103   \u001b[0m | \u001b[0m 133.4   \u001b[0m | \u001b[0m 42.91   \u001b[0m | \u001b[0m 0.8991  \u001b[0m |\n"
     ]
    },
    {
     "name": "stdout",
     "output_type": "stream",
     "text": [
      "| \u001b[0m 41      \u001b[0m | \u001b[0m 0.7684  \u001b[0m | \u001b[0m 0.846   \u001b[0m | \u001b[0m 0.04923 \u001b[0m | \u001b[0m 18.51   \u001b[0m | \u001b[0m 34.94   \u001b[0m | \u001b[0m 8.88    \u001b[0m | \u001b[0m 142.2   \u001b[0m | \u001b[0m 31.75   \u001b[0m | \u001b[0m 0.8401  \u001b[0m |\n",
      "| \u001b[0m 42      \u001b[0m | \u001b[0m 0.7683  \u001b[0m | \u001b[0m 0.8672  \u001b[0m | \u001b[0m 0.03946 \u001b[0m | \u001b[0m 18.43   \u001b[0m | \u001b[0m 32.5    \u001b[0m | \u001b[0m 8.529   \u001b[0m | \u001b[0m 148.7   \u001b[0m | \u001b[0m 40.63   \u001b[0m | \u001b[0m 0.9168  \u001b[0m |\n",
      "| \u001b[0m 43      \u001b[0m | \u001b[0m 0.7685  \u001b[0m | \u001b[0m 0.811   \u001b[0m | \u001b[0m 0.03156 \u001b[0m | \u001b[0m 17.6    \u001b[0m | \u001b[0m 30.8    \u001b[0m | \u001b[0m 9.651   \u001b[0m | \u001b[0m 145.8   \u001b[0m | \u001b[0m 35.01   \u001b[0m | \u001b[0m 0.8131  \u001b[0m |\n",
      "| \u001b[0m 44      \u001b[0m | \u001b[0m 0.7682  \u001b[0m | \u001b[0m 0.8448  \u001b[0m | \u001b[0m 0.02093 \u001b[0m | \u001b[0m 18.78   \u001b[0m | \u001b[0m 39.92   \u001b[0m | \u001b[0m 6.602   \u001b[0m | \u001b[0m 138.4   \u001b[0m | \u001b[0m 33.71   \u001b[0m | \u001b[0m 0.8366  \u001b[0m |\n",
      "| \u001b[0m 45      \u001b[0m | \u001b[0m 0.7662  \u001b[0m | \u001b[0m 0.8423  \u001b[0m | \u001b[0m 0.008767\u001b[0m | \u001b[0m 11.68   \u001b[0m | \u001b[0m 21.35   \u001b[0m | \u001b[0m 9.876   \u001b[0m | \u001b[0m 148.5   \u001b[0m | \u001b[0m 39.13   \u001b[0m | \u001b[0m 0.8031  \u001b[0m |\n",
      "| \u001b[0m 46      \u001b[0m | \u001b[0m 0.7683  \u001b[0m | \u001b[0m 0.8806  \u001b[0m | \u001b[0m 0.02667 \u001b[0m | \u001b[0m 14.78   \u001b[0m | \u001b[0m 31.58   \u001b[0m | \u001b[0m 8.002   \u001b[0m | \u001b[0m 123.6   \u001b[0m | \u001b[0m 35.25   \u001b[0m | \u001b[0m 0.919   \u001b[0m |\n",
      "| \u001b[0m 47      \u001b[0m | \u001b[0m 0.7683  \u001b[0m | \u001b[0m 0.842   \u001b[0m | \u001b[0m 0.05591 \u001b[0m | \u001b[0m 16.27   \u001b[0m | \u001b[0m 26.08   \u001b[0m | \u001b[0m 9.425   \u001b[0m | \u001b[0m 111.8   \u001b[0m | \u001b[0m 40.24   \u001b[0m | \u001b[0m 0.8458  \u001b[0m |\n",
      "| \u001b[0m 48      \u001b[0m | \u001b[0m 0.7636  \u001b[0m | \u001b[0m 0.8706  \u001b[0m | \u001b[0m 0.001428\u001b[0m | \u001b[0m 13.35   \u001b[0m | \u001b[0m 32.02   \u001b[0m | \u001b[0m 5.982   \u001b[0m | \u001b[0m 117.6   \u001b[0m | \u001b[0m 40.57   \u001b[0m | \u001b[0m 0.9247  \u001b[0m |\n",
      "| \u001b[0m 49      \u001b[0m | \u001b[0m 0.7683  \u001b[0m | \u001b[0m 0.8035  \u001b[0m | \u001b[0m 0.05057 \u001b[0m | \u001b[0m 20.95   \u001b[0m | \u001b[0m 37.72   \u001b[0m | \u001b[0m 7.985   \u001b[0m | \u001b[0m 137.4   \u001b[0m | \u001b[0m 36.73   \u001b[0m | \u001b[0m 0.9121  \u001b[0m |\n",
      "| \u001b[0m 50      \u001b[0m | \u001b[0m 0.7676  \u001b[0m | \u001b[0m 0.8907  \u001b[0m | \u001b[0m 0.01529 \u001b[0m | \u001b[0m 14.1    \u001b[0m | \u001b[0m 33.67   \u001b[0m | \u001b[0m 6.582   \u001b[0m | \u001b[0m 150.2   \u001b[0m | \u001b[0m 33.32   \u001b[0m | \u001b[0m 0.817   \u001b[0m |\n",
      "=========================================================================================================================\n"
     ]
    }
   ],
   "source": [
    "BO_lgbm.maximize(init_points=40, n_iter=10)"
   ]
  },
  {
   "cell_type": "code",
   "execution_count": 13,
   "metadata": {
    "colab": {
     "base_uri": "https://localhost:8080/",
     "height": 143
    },
    "id": "UAQkYnc0vZoE",
    "outputId": "d1a8724b-ec75-4b58-ec0c-c3f42e25ce3d"
   },
   "outputs": [
    {
     "data": {
      "text/plain": [
       "{'colsample_bytree': 0.8048024011151456,\n",
       " 'learning_rate': 0.023624369756141978,\n",
       " 'max_depth': 17,\n",
       " 'min_child_samples': 37,\n",
       " 'min_child_weight': 8.144909217955743,\n",
       " 'n_estimators': 152,\n",
       " 'num_leaves': 34,\n",
       " 'subsample': 0.9097070250868845,\n",
       " 'objective': 'binary',\n",
       " 'n_jobs': -1}"
      ]
     },
     "execution_count": 13,
     "metadata": {},
     "output_type": "execute_result"
    }
   ],
   "source": [
    "# BO_rf.res  # 모든 성능 들어가있음\n",
    "BO_lgbm.max\n",
    "\n",
    "max_params = BO_lgbm.max['params']\n",
    "\n",
    "max_params['n_estimators'] = int(round(max_params['n_estimators']))\n",
    "max_params['max_depth'] = int(round(max_params['max_depth']))\n",
    "max_params['min_child_samples'] = int(round(max_params['min_child_samples']))\n",
    "max_params['num_leaves'] = int(round(max_params['num_leaves']))\n",
    "max_params['objective'] = 'binary'\n",
    "max_params['n_jobs'] = -1\n",
    "\n",
    "max_params"
   ]
  },
  {
   "cell_type": "code",
   "execution_count": 14,
   "metadata": {
    "colab": {
     "base_uri": "https://localhost:8080/",
     "height": 71
    },
    "id": "J3hiDfZjvZoF",
    "outputId": "7d88bf30-d183-4827-f35b-aa511eab2a97"
   },
   "outputs": [
    {
     "name": "stdout",
     "output_type": "stream",
     "text": [
      "[0.76731994 0.76820059 0.77431907 0.76574793]\n",
      "최대성능: 0.7743190700256272\n",
      "평균성능: 0.7688968809598804\n"
     ]
    }
   ],
   "source": [
    "lgbm_clf = LGBMClassifier(**max_params)\n",
    "\n",
    "scores = cross_val_score(lgbm_clf, X_train, y_train, scoring='roc_auc', cv=cv, n_jobs=-1)\n",
    "\n",
    "print(scores)\n",
    "print(f'최대성능: {max(scores)}\\n평균성능: {np.mean(scores)}')\n",
    "\n",
    "BO_tuned_clfs.append((lgbm_clf.__class__.__name__, lgbm_clf, np.mean(scores)))"
   ]
  },
  {
   "cell_type": "markdown",
   "metadata": {
    "id": "PqMrBt9RvZoU"
   },
   "source": [
    "<font color = 'blue'> \n",
    "\n",
    "# 세번째 BO_tuned_clfs "
   ]
  },
  {
   "cell_type": "markdown",
   "metadata": {
    "id": "77cNXb0EvZoV"
   },
   "source": [
    "lgb_clf"
   ]
  },
  {
   "cell_type": "code",
   "execution_count": 15,
   "metadata": {
    "id": "orLNU7bLvZoA"
   },
   "outputs": [],
   "source": [
    "pbounds = { 'learning_rate': (0.001, 0.05),\n",
    "            'n_estimators': (120, 190),\n",
    "            'max_depth': (15, 30),   \n",
    "            'min_child_samples' : (15, 40),\n",
    "            'subsample': (0.78,0.93), \n",
    "            'colsample_bytree': (0.7,0.9),   \n",
    "            'num_leaves': (15,40),\n",
    "            'min_child_weight': (5, 15)}\n",
    "\n",
    "\n",
    "def lgbm_opt(learning_rate, n_estimators, max_depth, min_child_samples, subsample, colsample_bytree, num_leaves, min_child_weight):\n",
    "\n",
    "    params = {\n",
    "        'learning_rate': learning_rate,\n",
    "        'n_estimators' : int(round(n_estimators)),\n",
    "        'max_depth' : int(round(max_depth)),\n",
    "        'min_child_samples' : int(round(min_child_samples)),\n",
    "        'subsample': subsample,\n",
    "        'colsample_bytree' : colsample_bytree,\n",
    "        'num_leaves' : int(round(num_leaves)),\n",
    "        'min_child_weight' : min_child_weight,\n",
    "        'objective' : 'binary',\n",
    "        'n_jobs' : -1\n",
    "    }\n",
    "    \n",
    "    lgbm = LGBMClassifier(**params)\n",
    "    \n",
    "    score = cross_val_score(lgbm, X_train, y_train, scoring='roc_auc', cv=cv, n_jobs=-1)\n",
    "    \n",
    "    return np.mean(score)\n",
    "\n",
    "BO_lgbm = BayesianOptimization(f = lgbm_opt, pbounds = pbounds, random_state=0)    \n"
   ]
  },
  {
   "cell_type": "code",
   "execution_count": 16,
   "metadata": {
    "colab": {
     "base_uri": "https://localhost:8080/",
     "height": 1000
    },
    "id": "FEUretOMvZoC",
    "outputId": "fbf7185d-1f26-42a2-9c03-f1e069666388",
    "scrolled": false
   },
   "outputs": [
    {
     "name": "stdout",
     "output_type": "stream",
     "text": [
      "|   iter    |  target   | colsam... | learni... | max_depth | min_ch... | min_ch... | n_esti... | num_le... | subsample |\n",
      "-------------------------------------------------------------------------------------------------------------------------\n",
      "| \u001b[0m 1       \u001b[0m | \u001b[0m 0.7686  \u001b[0m | \u001b[0m 0.8098  \u001b[0m | \u001b[0m 0.03604 \u001b[0m | \u001b[0m 24.04   \u001b[0m | \u001b[0m 28.62   \u001b[0m | \u001b[0m 9.237   \u001b[0m | \u001b[0m 165.2   \u001b[0m | \u001b[0m 25.94   \u001b[0m | \u001b[0m 0.9138  \u001b[0m |\n",
      "| \u001b[0m 2       \u001b[0m | \u001b[0m 0.7673  \u001b[0m | \u001b[0m 0.8927  \u001b[0m | \u001b[0m 0.01979 \u001b[0m | \u001b[0m 26.88   \u001b[0m | \u001b[0m 28.22   \u001b[0m | \u001b[0m 10.68   \u001b[0m | \u001b[0m 184.8   \u001b[0m | \u001b[0m 16.78   \u001b[0m | \u001b[0m 0.7931  \u001b[0m |\n",
      "| \u001b[95m 3       \u001b[0m | \u001b[95m 0.7688  \u001b[0m | \u001b[95m 0.704   \u001b[0m | \u001b[95m 0.0418  \u001b[0m | \u001b[95m 26.67   \u001b[0m | \u001b[95m 36.75   \u001b[0m | \u001b[95m 14.79   \u001b[0m | \u001b[95m 175.9   \u001b[0m | \u001b[95m 26.54   \u001b[0m | \u001b[95m 0.8971  \u001b[0m |\n",
      "| \u001b[0m 4       \u001b[0m | \u001b[0m 0.7687  \u001b[0m | \u001b[0m 0.7237  \u001b[0m | \u001b[0m 0.03236 \u001b[0m | \u001b[0m 17.15   \u001b[0m | \u001b[0m 38.62   \u001b[0m | \u001b[0m 10.22   \u001b[0m | \u001b[0m 149.0   \u001b[0m | \u001b[0m 21.61   \u001b[0m | \u001b[0m 0.8961  \u001b[0m |\n",
      "| \u001b[0m 5       \u001b[0m | \u001b[0m 0.7688  \u001b[0m | \u001b[0m 0.7912  \u001b[0m | \u001b[0m 0.02885 \u001b[0m | \u001b[0m 15.28   \u001b[0m | \u001b[0m 30.44   \u001b[0m | \u001b[0m 11.12   \u001b[0m | \u001b[0m 163.2   \u001b[0m | \u001b[0m 38.59   \u001b[0m | \u001b[0m 0.8823  \u001b[0m |\n",
      "| \u001b[0m 6       \u001b[0m | \u001b[0m 0.7681  \u001b[0m | \u001b[0m 0.7719  \u001b[0m | \u001b[0m 0.02241 \u001b[0m | \u001b[0m 25.46   \u001b[0m | \u001b[0m 16.51   \u001b[0m | \u001b[0m 11.67   \u001b[0m | \u001b[0m 166.9   \u001b[0m | \u001b[0m 20.26   \u001b[0m | \u001b[0m 0.7993  \u001b[0m |\n",
      "| \u001b[0m 7       \u001b[0m | \u001b[0m 0.7668  \u001b[0m | \u001b[0m 0.7631  \u001b[0m | \u001b[0m 0.01882 \u001b[0m | \u001b[0m 23.55   \u001b[0m | \u001b[0m 25.97   \u001b[0m | \u001b[0m 14.88   \u001b[0m | \u001b[0m 127.1   \u001b[0m | \u001b[0m 20.22   \u001b[0m | \u001b[0m 0.8042  \u001b[0m |\n",
      "| \u001b[0m 8       \u001b[0m | \u001b[0m 0.7666  \u001b[0m | \u001b[0m 0.8306  \u001b[0m | \u001b[0m 0.01341 \u001b[0m | \u001b[0m 21.99   \u001b[0m | \u001b[0m 21.11   \u001b[0m | \u001b[0m 6.59    \u001b[0m | \u001b[0m 127.7   \u001b[0m | \u001b[0m 31.41   \u001b[0m | \u001b[0m 0.8007  \u001b[0m |\n",
      "| \u001b[0m 9       \u001b[0m | \u001b[0m 0.7682  \u001b[0m | \u001b[0m 0.7393  \u001b[0m | \u001b[0m 0.01907 \u001b[0m | \u001b[0m 27.31   \u001b[0m | \u001b[0m 17.43   \u001b[0m | \u001b[0m 13.38   \u001b[0m | \u001b[0m 126.7   \u001b[0m | \u001b[0m 39.41   \u001b[0m | \u001b[0m 0.8503  \u001b[0m |\n",
      "| \u001b[0m 10      \u001b[0m | \u001b[0m 0.768   \u001b[0m | \u001b[0m 0.8954  \u001b[0m | \u001b[0m 0.03064 \u001b[0m | \u001b[0m 26.09   \u001b[0m | \u001b[0m 15.98   \u001b[0m | \u001b[0m 7.828   \u001b[0m | \u001b[0m 128.4   \u001b[0m | \u001b[0m 22.4    \u001b[0m | \u001b[0m 0.7978  \u001b[0m |\n",
      "| \u001b[0m 11      \u001b[0m | \u001b[0m 0.7681  \u001b[0m | \u001b[0m 0.7636  \u001b[0m | \u001b[0m 0.0213  \u001b[0m | \u001b[0m 15.96   \u001b[0m | \u001b[0m 32.31   \u001b[0m | \u001b[0m 10.67   \u001b[0m | \u001b[0m 138.6   \u001b[0m | \u001b[0m 28.08   \u001b[0m | \u001b[0m 0.7941  \u001b[0m |\n",
      "| \u001b[0m 12      \u001b[0m | \u001b[0m 0.7684  \u001b[0m | \u001b[0m 0.8152  \u001b[0m | \u001b[0m 0.04654 \u001b[0m | \u001b[0m 19.78   \u001b[0m | \u001b[0m 31.69   \u001b[0m | \u001b[0m 6.318   \u001b[0m | \u001b[0m 170.1   \u001b[0m | \u001b[0m 22.24   \u001b[0m | \u001b[0m 0.8075  \u001b[0m |\n",
      "| \u001b[0m 13      \u001b[0m | \u001b[0m 0.7645  \u001b[0m | \u001b[0m 0.8173  \u001b[0m | \u001b[0m 0.001985\u001b[0m | \u001b[0m 27.43   \u001b[0m | \u001b[0m 15.12   \u001b[0m | \u001b[0m 11.78   \u001b[0m | \u001b[0m 138.9   \u001b[0m | \u001b[0m 33.38   \u001b[0m | \u001b[0m 0.9243  \u001b[0m |\n",
      "| \u001b[95m 14      \u001b[0m | \u001b[95m 0.7688  \u001b[0m | \u001b[95m 0.7498  \u001b[0m | \u001b[95m 0.02923 \u001b[0m | \u001b[95m 23.88   \u001b[0m | \u001b[95m 29.31   \u001b[0m | \u001b[95m 7.231   \u001b[0m | \u001b[95m 186.7   \u001b[0m | \u001b[95m 26.18   \u001b[0m | \u001b[95m 0.907   \u001b[0m |\n",
      "| \u001b[0m 15      \u001b[0m | \u001b[0m 0.7678  \u001b[0m | \u001b[0m 0.8399  \u001b[0m | \u001b[0m 0.01557 \u001b[0m | \u001b[0m 27.21   \u001b[0m | \u001b[0m 24.91   \u001b[0m | \u001b[0m 13.81   \u001b[0m | \u001b[0m 160.7   \u001b[0m | \u001b[0m 37.04   \u001b[0m | \u001b[0m 0.8839  \u001b[0m |\n",
      "| \u001b[0m 16      \u001b[0m | \u001b[0m 0.7674  \u001b[0m | \u001b[0m 0.8451  \u001b[0m | \u001b[0m 0.02556 \u001b[0m | \u001b[0m 29.34   \u001b[0m | \u001b[0m 31.1    \u001b[0m | \u001b[0m 9.239   \u001b[0m | \u001b[0m 162.4   \u001b[0m | \u001b[0m 15.48   \u001b[0m | \u001b[0m 0.8252  \u001b[0m |\n",
      "| \u001b[0m 17      \u001b[0m | \u001b[0m 0.7672  \u001b[0m | \u001b[0m 0.832   \u001b[0m | \u001b[0m 0.01521 \u001b[0m | \u001b[0m 24.27   \u001b[0m | \u001b[0m 25.72   \u001b[0m | \u001b[0m 6.355   \u001b[0m | \u001b[0m 140.9   \u001b[0m | \u001b[0m 29.25   \u001b[0m | \u001b[0m 0.8686  \u001b[0m |\n",
      "| \u001b[95m 18      \u001b[0m | \u001b[95m 0.7689  \u001b[0m | \u001b[95m 0.8149  \u001b[0m | \u001b[95m 0.03301 \u001b[0m | \u001b[95m 24.78   \u001b[0m | \u001b[95m 25.79   \u001b[0m | \u001b[95m 13.97   \u001b[0m | \u001b[95m 145.7   \u001b[0m | \u001b[95m 25.9    \u001b[0m | \u001b[95m 0.9138  \u001b[0m |\n",
      "| \u001b[0m 19      \u001b[0m | \u001b[0m 0.7683  \u001b[0m | \u001b[0m 0.8612  \u001b[0m | \u001b[0m 0.03549 \u001b[0m | \u001b[0m 16.5    \u001b[0m | \u001b[0m 37.99   \u001b[0m | \u001b[0m 12.14   \u001b[0m | \u001b[0m 189.9   \u001b[0m | \u001b[0m 18.74   \u001b[0m | \u001b[0m 0.9102  \u001b[0m |\n",
      "| \u001b[0m 20      \u001b[0m | \u001b[0m 0.7684  \u001b[0m | \u001b[0m 0.7325  \u001b[0m | \u001b[0m 0.03116 \u001b[0m | \u001b[0m 16.86   \u001b[0m | \u001b[0m 36.2    \u001b[0m | \u001b[0m 13.07   \u001b[0m | \u001b[0m 159.8   \u001b[0m | \u001b[0m 25.18   \u001b[0m | \u001b[0m 0.7904  \u001b[0m |\n",
      "| \u001b[0m 21      \u001b[0m | \u001b[0m 0.7675  \u001b[0m | \u001b[0m 0.8395  \u001b[0m | \u001b[0m 0.02322 \u001b[0m | \u001b[0m 25.83   \u001b[0m | \u001b[0m 36.66   \u001b[0m | \u001b[0m 14.76   \u001b[0m | \u001b[0m 179.9   \u001b[0m | \u001b[0m 15.29   \u001b[0m | \u001b[0m 0.834   \u001b[0m |\n",
      "| \u001b[0m 22      \u001b[0m | \u001b[0m 0.7656  \u001b[0m | \u001b[0m 0.846   \u001b[0m | \u001b[0m 0.00941 \u001b[0m | \u001b[0m 22.82   \u001b[0m | \u001b[0m 16.36   \u001b[0m | \u001b[0m 7.0     \u001b[0m | \u001b[0m 121.3   \u001b[0m | \u001b[0m 34.84   \u001b[0m | \u001b[0m 0.8136  \u001b[0m |\n",
      "| \u001b[0m 23      \u001b[0m | \u001b[0m 0.7682  \u001b[0m | \u001b[0m 0.7691  \u001b[0m | \u001b[0m 0.04648 \u001b[0m | \u001b[0m 25.57   \u001b[0m | \u001b[0m 15.8    \u001b[0m | \u001b[0m 6.647   \u001b[0m | \u001b[0m 163.5   \u001b[0m | \u001b[0m 29.43   \u001b[0m | \u001b[0m 0.8157  \u001b[0m |\n",
      "| \u001b[0m 24      \u001b[0m | \u001b[0m 0.7684  \u001b[0m | \u001b[0m 0.8868  \u001b[0m | \u001b[0m 0.03108 \u001b[0m | \u001b[0m 23.03   \u001b[0m | \u001b[0m 29.75   \u001b[0m | \u001b[0m 12.3    \u001b[0m | \u001b[0m 141.8   \u001b[0m | \u001b[0m 24.96   \u001b[0m | \u001b[0m 0.8115  \u001b[0m |\n",
      "| \u001b[0m 25      \u001b[0m | \u001b[0m 0.7679  \u001b[0m | \u001b[0m 0.7372  \u001b[0m | \u001b[0m 0.04727 \u001b[0m | \u001b[0m 26.09   \u001b[0m | \u001b[0m 27.26   \u001b[0m | \u001b[0m 7.274   \u001b[0m | \u001b[0m 137.8   \u001b[0m | \u001b[0m 16.45   \u001b[0m | \u001b[0m 0.8452  \u001b[0m |\n",
      "| \u001b[0m 26      \u001b[0m | \u001b[0m 0.7683  \u001b[0m | \u001b[0m 0.7624  \u001b[0m | \u001b[0m 0.03512 \u001b[0m | \u001b[0m 20.67   \u001b[0m | \u001b[0m 19.49   \u001b[0m | \u001b[0m 5.247   \u001b[0m | \u001b[0m 124.7   \u001b[0m | \u001b[0m 31.98   \u001b[0m | \u001b[0m 0.8481  \u001b[0m |\n",
      "| \u001b[0m 27      \u001b[0m | \u001b[0m 0.7683  \u001b[0m | \u001b[0m 0.8073  \u001b[0m | \u001b[0m 0.04494 \u001b[0m | \u001b[0m 29.86   \u001b[0m | \u001b[0m 20.42   \u001b[0m | \u001b[0m 11.63   \u001b[0m | \u001b[0m 138.4   \u001b[0m | \u001b[0m 15.52   \u001b[0m | \u001b[0m 0.8938  \u001b[0m |\n",
      "| \u001b[0m 28      \u001b[0m | \u001b[0m 0.7682  \u001b[0m | \u001b[0m 0.764   \u001b[0m | \u001b[0m 0.01979 \u001b[0m | \u001b[0m 23.82   \u001b[0m | \u001b[0m 35.78   \u001b[0m | \u001b[0m 11.29   \u001b[0m | \u001b[0m 181.1   \u001b[0m | \u001b[0m 21.84   \u001b[0m | \u001b[0m 0.8997  \u001b[0m |\n",
      "| \u001b[0m 29      \u001b[0m | \u001b[0m 0.7682  \u001b[0m | \u001b[0m 0.7371  \u001b[0m | \u001b[0m 0.04769 \u001b[0m | \u001b[0m 25.31   \u001b[0m | \u001b[0m 20.39   \u001b[0m | \u001b[0m 14.47   \u001b[0m | \u001b[0m 171.2   \u001b[0m | \u001b[0m 21.35   \u001b[0m | \u001b[0m 0.812   \u001b[0m |\n",
      "| \u001b[0m 30      \u001b[0m | \u001b[0m 0.7637  \u001b[0m | \u001b[0m 0.8036  \u001b[0m | \u001b[0m 0.002257\u001b[0m | \u001b[0m 18.11   \u001b[0m | \u001b[0m 25.62   \u001b[0m | \u001b[0m 8.742   \u001b[0m | \u001b[0m 152.5   \u001b[0m | \u001b[0m 21.94   \u001b[0m | \u001b[0m 0.868   \u001b[0m |\n",
      "| \u001b[0m 31      \u001b[0m | \u001b[0m 0.7646  \u001b[0m | \u001b[0m 0.8728  \u001b[0m | \u001b[0m 0.006759\u001b[0m | \u001b[0m 22.76   \u001b[0m | \u001b[0m 18.3    \u001b[0m | \u001b[0m 12.17   \u001b[0m | \u001b[0m 147.7   \u001b[0m | \u001b[0m 29.14   \u001b[0m | \u001b[0m 0.8075  \u001b[0m |\n",
      "| \u001b[0m 32      \u001b[0m | \u001b[0m 0.7683  \u001b[0m | \u001b[0m 0.729   \u001b[0m | \u001b[0m 0.02491 \u001b[0m | \u001b[0m 20.33   \u001b[0m | \u001b[0m 38.51   \u001b[0m | \u001b[0m 12.65   \u001b[0m | \u001b[0m 172.4   \u001b[0m | \u001b[0m 37.59   \u001b[0m | \u001b[0m 0.7925  \u001b[0m |\n",
      "| \u001b[0m 33      \u001b[0m | \u001b[0m 0.767   \u001b[0m | \u001b[0m 0.8104  \u001b[0m | \u001b[0m 0.02964 \u001b[0m | \u001b[0m 29.43   \u001b[0m | \u001b[0m 22.3    \u001b[0m | \u001b[0m 7.408   \u001b[0m | \u001b[0m 127.0   \u001b[0m | \u001b[0m 15.41   \u001b[0m | \u001b[0m 0.9194  \u001b[0m |\n",
      "| \u001b[0m 34      \u001b[0m | \u001b[0m 0.7686  \u001b[0m | \u001b[0m 0.834   \u001b[0m | \u001b[0m 0.03947 \u001b[0m | \u001b[0m 19.23   \u001b[0m | \u001b[0m 29.66   \u001b[0m | \u001b[0m 5.64    \u001b[0m | \u001b[0m 154.0   \u001b[0m | \u001b[0m 39.44   \u001b[0m | \u001b[0m 0.9115  \u001b[0m |\n",
      "| \u001b[0m 35      \u001b[0m | \u001b[0m 0.7688  \u001b[0m | \u001b[0m 0.7676  \u001b[0m | \u001b[0m 0.04812 \u001b[0m | \u001b[0m 18.48   \u001b[0m | \u001b[0m 38.73   \u001b[0m | \u001b[0m 14.41   \u001b[0m | \u001b[0m 175.9   \u001b[0m | \u001b[0m 30.76   \u001b[0m | \u001b[0m 0.9111  \u001b[0m |\n",
      "| \u001b[0m 36      \u001b[0m | \u001b[0m 0.7681  \u001b[0m | \u001b[0m 0.7586  \u001b[0m | \u001b[0m 0.0426  \u001b[0m | \u001b[0m 24.27   \u001b[0m | \u001b[0m 15.33   \u001b[0m | \u001b[0m 8.472   \u001b[0m | \u001b[0m 130.4   \u001b[0m | \u001b[0m 39.55   \u001b[0m | \u001b[0m 0.8518  \u001b[0m |\n",
      "| \u001b[0m 37      \u001b[0m | \u001b[0m 0.7686  \u001b[0m | \u001b[0m 0.7995  \u001b[0m | \u001b[0m 0.03233 \u001b[0m | \u001b[0m 20.53   \u001b[0m | \u001b[0m 18.42   \u001b[0m | \u001b[0m 13.22   \u001b[0m | \u001b[0m 133.3   \u001b[0m | \u001b[0m 27.78   \u001b[0m | \u001b[0m 0.8136  \u001b[0m |\n",
      "| \u001b[0m 38      \u001b[0m | \u001b[0m 0.7684  \u001b[0m | \u001b[0m 0.7196  \u001b[0m | \u001b[0m 0.04325 \u001b[0m | \u001b[0m 29.59   \u001b[0m | \u001b[0m 39.02   \u001b[0m | \u001b[0m 14.07   \u001b[0m | \u001b[0m 174.2   \u001b[0m | \u001b[0m 23.33   \u001b[0m | \u001b[0m 0.7922  \u001b[0m |\n",
      "| \u001b[0m 39      \u001b[0m | \u001b[0m 0.767   \u001b[0m | \u001b[0m 0.7814  \u001b[0m | \u001b[0m 0.01238 \u001b[0m | \u001b[0m 16.99   \u001b[0m | \u001b[0m 16.34   \u001b[0m | \u001b[0m 12.26   \u001b[0m | \u001b[0m 120.8   \u001b[0m | \u001b[0m 34.26   \u001b[0m | \u001b[0m 0.802   \u001b[0m |\n",
      "| \u001b[0m 40      \u001b[0m | \u001b[0m 0.7665  \u001b[0m | \u001b[0m 0.7159  \u001b[0m | \u001b[0m 0.005391\u001b[0m | \u001b[0m 25.08   \u001b[0m | \u001b[0m 21.13   \u001b[0m | \u001b[0m 9.205   \u001b[0m | \u001b[0m 159.0   \u001b[0m | \u001b[0m 36.51   \u001b[0m | \u001b[0m 0.8891  \u001b[0m |\n"
     ]
    },
    {
     "name": "stdout",
     "output_type": "stream",
     "text": [
      "| \u001b[0m 41      \u001b[0m | \u001b[0m 0.7683  \u001b[0m | \u001b[0m 0.8229  \u001b[0m | \u001b[0m 0.04105 \u001b[0m | \u001b[0m 25.64   \u001b[0m | \u001b[0m 33.68   \u001b[0m | \u001b[0m 12.76   \u001b[0m | \u001b[0m 169.3   \u001b[0m | \u001b[0m 17.91   \u001b[0m | \u001b[0m 0.8301  \u001b[0m |\n",
      "| \u001b[0m 42      \u001b[0m | \u001b[0m 0.7686  \u001b[0m | \u001b[0m 0.8532  \u001b[0m | \u001b[0m 0.03294 \u001b[0m | \u001b[0m 25.53   \u001b[0m | \u001b[0m 30.62   \u001b[0m | \u001b[0m 12.06   \u001b[0m | \u001b[0m 176.8   \u001b[0m | \u001b[0m 32.71   \u001b[0m | \u001b[0m 0.9068  \u001b[0m |\n",
      "| \u001b[0m 43      \u001b[0m | \u001b[0m 0.7687  \u001b[0m | \u001b[0m 0.7729  \u001b[0m | \u001b[0m 0.02638 \u001b[0m | \u001b[0m 24.49   \u001b[0m | \u001b[0m 28.5    \u001b[0m | \u001b[0m 14.3    \u001b[0m | \u001b[0m 173.4   \u001b[0m | \u001b[0m 23.36   \u001b[0m | \u001b[0m 0.8031  \u001b[0m |\n",
      "| \u001b[0m 44      \u001b[0m | \u001b[0m 0.7672  \u001b[0m | \u001b[0m 0.8212  \u001b[0m | \u001b[0m 0.01755 \u001b[0m | \u001b[0m 25.98   \u001b[0m | \u001b[0m 39.9    \u001b[0m | \u001b[0m 8.204   \u001b[0m | \u001b[0m 164.8   \u001b[0m | \u001b[0m 21.18   \u001b[0m | \u001b[0m 0.8266  \u001b[0m |\n",
      "| \u001b[0m 45      \u001b[0m | \u001b[0m 0.7661  \u001b[0m | \u001b[0m 0.8175  \u001b[0m | \u001b[0m 0.007451\u001b[0m | \u001b[0m 17.1    \u001b[0m | \u001b[0m 16.69   \u001b[0m | \u001b[0m 14.75   \u001b[0m | \u001b[0m 176.6   \u001b[0m | \u001b[0m 30.22   \u001b[0m | \u001b[0m 0.7931  \u001b[0m |\n",
      "| \u001b[0m 46      \u001b[0m | \u001b[0m 0.7679  \u001b[0m | \u001b[0m 0.8723  \u001b[0m | \u001b[0m 0.02232 \u001b[0m | \u001b[0m 20.98   \u001b[0m | \u001b[0m 29.48   \u001b[0m | \u001b[0m 11.0    \u001b[0m | \u001b[0m 147.5   \u001b[0m | \u001b[0m 23.75   \u001b[0m | \u001b[0m 0.909   \u001b[0m |\n",
      "| \u001b[0m 47      \u001b[0m | \u001b[0m 0.7681  \u001b[0m | \u001b[0m 0.8172  \u001b[0m | \u001b[0m 0.04661 \u001b[0m | \u001b[0m 22.84   \u001b[0m | \u001b[0m 22.6    \u001b[0m | \u001b[0m 13.85   \u001b[0m | \u001b[0m 133.8   \u001b[0m | \u001b[0m 32.07   \u001b[0m | \u001b[0m 0.8358  \u001b[0m |\n",
      "| \u001b[0m 48      \u001b[0m | \u001b[0m 0.7639  \u001b[0m | \u001b[0m 0.858   \u001b[0m | \u001b[0m 0.001355\u001b[0m | \u001b[0m 19.19   \u001b[0m | \u001b[0m 30.03   \u001b[0m | \u001b[0m 6.964   \u001b[0m | \u001b[0m 140.5   \u001b[0m | \u001b[0m 32.61   \u001b[0m | \u001b[0m 0.9147  \u001b[0m |\n",
      "| \u001b[0m 49      \u001b[0m | \u001b[0m 0.7683  \u001b[0m | \u001b[0m 0.7622  \u001b[0m | \u001b[0m 0.04217 \u001b[0m | \u001b[0m 28.69   \u001b[0m | \u001b[0m 37.16   \u001b[0m | \u001b[0m 10.97   \u001b[0m | \u001b[0m 163.6   \u001b[0m | \u001b[0m 26.21   \u001b[0m | \u001b[0m 0.9021  \u001b[0m |\n",
      "| \u001b[0m 50      \u001b[0m | \u001b[0m 0.7666  \u001b[0m | \u001b[0m 0.8868  \u001b[0m | \u001b[0m 0.01287 \u001b[0m | \u001b[0m 20.13   \u001b[0m | \u001b[0m 32.09   \u001b[0m | \u001b[0m 8.165   \u001b[0m | \u001b[0m 178.6   \u001b[0m | \u001b[0m 20.53   \u001b[0m | \u001b[0m 0.807   \u001b[0m |\n",
      "=========================================================================================================================\n"
     ]
    }
   ],
   "source": [
    "BO_lgbm.maximize(init_points=40, n_iter=10)"
   ]
  },
  {
   "cell_type": "code",
   "execution_count": 17,
   "metadata": {
    "colab": {
     "base_uri": "https://localhost:8080/",
     "height": 143
    },
    "id": "UAQkYnc0vZoE",
    "outputId": "d1a8724b-ec75-4b58-ec0c-c3f42e25ce3d"
   },
   "outputs": [
    {
     "data": {
      "text/plain": [
       "{'colsample_bytree': 0.8148650497699157,\n",
       " 'learning_rate': 0.03300684017299955,\n",
       " 'max_depth': 25,\n",
       " 'min_child_samples': 26,\n",
       " 'min_child_weight': 13.96546595851063,\n",
       " 'n_estimators': 146,\n",
       " 'num_leaves': 26,\n",
       " 'subsample': 0.9137885032523508,\n",
       " 'objective': 'binary',\n",
       " 'n_jobs': -1}"
      ]
     },
     "execution_count": 17,
     "metadata": {},
     "output_type": "execute_result"
    }
   ],
   "source": [
    "# BO_rf.res  # 모든 성능 들어가있음\n",
    "BO_lgbm.max\n",
    "\n",
    "max_params = BO_lgbm.max['params']\n",
    "\n",
    "max_params['n_estimators'] = int(round(max_params['n_estimators']))\n",
    "max_params['max_depth'] = int(round(max_params['max_depth']))\n",
    "max_params['min_child_samples'] = int(round(max_params['min_child_samples']))\n",
    "max_params['num_leaves'] = int(round(max_params['num_leaves']))\n",
    "max_params['objective'] = 'binary'\n",
    "max_params['n_jobs'] = -1\n",
    "\n",
    "max_params"
   ]
  },
  {
   "cell_type": "code",
   "execution_count": 18,
   "metadata": {
    "colab": {
     "base_uri": "https://localhost:8080/",
     "height": 71
    },
    "id": "J3hiDfZjvZoF",
    "outputId": "7d88bf30-d183-4827-f35b-aa511eab2a97"
   },
   "outputs": [
    {
     "name": "stdout",
     "output_type": "stream",
     "text": [
      "[0.76685493 0.76844504 0.77417494 0.76595796]\n",
      "최대성능: 0.774174938747321\n",
      "평균성능: 0.7688582185923132\n"
     ]
    }
   ],
   "source": [
    "lgbm_clf = LGBMClassifier(**max_params)\n",
    "\n",
    "scores = cross_val_score(lgbm_clf, X_train, y_train, scoring='roc_auc', cv=cv, n_jobs=-1)\n",
    "\n",
    "print(scores)\n",
    "print(f'최대성능: {max(scores)}\\n평균성능: {np.mean(scores)}')\n",
    "\n",
    "BO_tuned_clfs.append((lgbm_clf.__class__.__name__, lgbm_clf, np.mean(scores)))"
   ]
  },
  {
   "cell_type": "markdown",
   "metadata": {
    "id": "qvvUCr9WvZod"
   },
   "source": [
    "<font color = 'blue'> \n",
    "\n",
    "# 네번째 BO_tuned_clfs "
   ]
  },
  {
   "cell_type": "markdown",
   "metadata": {
    "id": "0_jInkA-vZog"
   },
   "source": [
    "lgb_clf"
   ]
  },
  {
   "cell_type": "code",
   "execution_count": 19,
   "metadata": {
    "id": "orLNU7bLvZoA"
   },
   "outputs": [],
   "source": [
    "pbounds = { 'learning_rate': (0.001, 0.05),\n",
    "            'n_estimators': (140, 200),\n",
    "            'max_depth': (15,30),   \n",
    "            'min_child_samples' : (15, 30),\n",
    "            'subsample': (0.79,0.92), \n",
    "            'colsample_bytree': (0.73,0.9),   \n",
    "            'num_leaves': (15, 35),\n",
    "            'min_child_weight': (5, 10)}\n",
    "\n",
    "\n",
    "def lgbm_opt(learning_rate, n_estimators, max_depth, min_child_samples, subsample, colsample_bytree, num_leaves, min_child_weight):\n",
    "\n",
    "    params = {\n",
    "        'learning_rate': learning_rate,\n",
    "        'n_estimators' : int(round(n_estimators)),\n",
    "        'max_depth' : int(round(max_depth)),\n",
    "        'min_child_samples' : int(round(min_child_samples)),\n",
    "        'subsample': subsample,\n",
    "        'colsample_bytree' : colsample_bytree,\n",
    "        'num_leaves' : int(round(num_leaves)),\n",
    "        'min_child_weight' : min_child_weight,\n",
    "        'objective' : 'binary',\n",
    "        'n_jobs' : -1\n",
    "    }\n",
    "    \n",
    "    lgbm = LGBMClassifier(**params)\n",
    "    \n",
    "    score = cross_val_score(lgbm, X_train, y_train, scoring='roc_auc', cv=cv, n_jobs=-1)\n",
    "    \n",
    "    return np.mean(score)\n",
    "\n",
    "BO_lgbm = BayesianOptimization(f = lgbm_opt, pbounds = pbounds, random_state=0)    \n"
   ]
  },
  {
   "cell_type": "code",
   "execution_count": 20,
   "metadata": {
    "colab": {
     "base_uri": "https://localhost:8080/",
     "height": 1000
    },
    "id": "FEUretOMvZoC",
    "outputId": "fbf7185d-1f26-42a2-9c03-f1e069666388",
    "scrolled": true
   },
   "outputs": [
    {
     "name": "stdout",
     "output_type": "stream",
     "text": [
      "|   iter    |  target   | colsam... | learni... | max_depth | min_ch... | min_ch... | n_esti... | num_le... | subsample |\n",
      "-------------------------------------------------------------------------------------------------------------------------\n",
      "| \u001b[0m 1       \u001b[0m | \u001b[0m 0.7685  \u001b[0m | \u001b[0m 0.8233  \u001b[0m | \u001b[0m 0.03604 \u001b[0m | \u001b[0m 24.04   \u001b[0m | \u001b[0m 23.17   \u001b[0m | \u001b[0m 7.118   \u001b[0m | \u001b[0m 178.8   \u001b[0m | \u001b[0m 23.75   \u001b[0m | \u001b[0m 0.9059  \u001b[0m |\n",
      "| \u001b[0m 2       \u001b[0m | \u001b[0m 0.7674  \u001b[0m | \u001b[0m 0.8938  \u001b[0m | \u001b[0m 0.01979 \u001b[0m | \u001b[0m 26.88   \u001b[0m | \u001b[0m 22.93   \u001b[0m | \u001b[0m 7.84    \u001b[0m | \u001b[0m 195.5   \u001b[0m | \u001b[0m 16.42   \u001b[0m | \u001b[0m 0.8013  \u001b[0m |\n",
      "| \u001b[95m 3       \u001b[0m | \u001b[95m 0.7685  \u001b[0m | \u001b[95m 0.7334  \u001b[0m | \u001b[95m 0.0418  \u001b[0m | \u001b[95m 26.67   \u001b[0m | \u001b[95m 28.05   \u001b[0m | \u001b[95m 9.893   \u001b[0m | \u001b[95m 187.9   \u001b[0m | \u001b[95m 24.23   \u001b[0m | \u001b[95m 0.8915  \u001b[0m |\n",
      "| \u001b[0m 4       \u001b[0m | \u001b[0m 0.7684  \u001b[0m | \u001b[0m 0.7501  \u001b[0m | \u001b[0m 0.03236 \u001b[0m | \u001b[0m 17.15   \u001b[0m | \u001b[0m 29.17   \u001b[0m | \u001b[0m 7.609   \u001b[0m | \u001b[0m 164.9   \u001b[0m | \u001b[0m 20.29   \u001b[0m | \u001b[0m 0.8907  \u001b[0m |\n",
      "| \u001b[95m 5       \u001b[0m | \u001b[95m 0.7691  \u001b[0m | \u001b[95m 0.8075  \u001b[0m | \u001b[95m 0.02885 \u001b[0m | \u001b[95m 15.28   \u001b[0m | \u001b[95m 24.26   \u001b[0m | \u001b[95m 8.06    \u001b[0m | \u001b[95m 177.0   \u001b[0m | \u001b[95m 33.87   \u001b[0m | \u001b[95m 0.8786  \u001b[0m |\n",
      "| \u001b[0m 6       \u001b[0m | \u001b[0m 0.7681  \u001b[0m | \u001b[0m 0.7911  \u001b[0m | \u001b[0m 0.02241 \u001b[0m | \u001b[0m 25.46   \u001b[0m | \u001b[0m 15.9    \u001b[0m | \u001b[0m 8.334   \u001b[0m | \u001b[0m 180.2   \u001b[0m | \u001b[0m 19.21   \u001b[0m | \u001b[0m 0.8068  \u001b[0m |\n",
      "| \u001b[0m 7       \u001b[0m | \u001b[0m 0.7669  \u001b[0m | \u001b[0m 0.7836  \u001b[0m | \u001b[0m 0.01882 \u001b[0m | \u001b[0m 23.55   \u001b[0m | \u001b[0m 21.58   \u001b[0m | \u001b[0m 9.942   \u001b[0m | \u001b[0m 146.1   \u001b[0m | \u001b[0m 19.18   \u001b[0m | \u001b[0m 0.811   \u001b[0m |\n",
      "| \u001b[0m 8       \u001b[0m | \u001b[0m 0.7669  \u001b[0m | \u001b[0m 0.841   \u001b[0m | \u001b[0m 0.01341 \u001b[0m | \u001b[0m 21.99   \u001b[0m | \u001b[0m 18.67   \u001b[0m | \u001b[0m 5.795   \u001b[0m | \u001b[0m 146.6   \u001b[0m | \u001b[0m 28.13   \u001b[0m | \u001b[0m 0.808   \u001b[0m |\n",
      "| \u001b[0m 9       \u001b[0m | \u001b[0m 0.7686  \u001b[0m | \u001b[0m 0.7634  \u001b[0m | \u001b[0m 0.01907 \u001b[0m | \u001b[0m 27.31   \u001b[0m | \u001b[0m 16.46   \u001b[0m | \u001b[0m 9.19    \u001b[0m | \u001b[0m 145.8   \u001b[0m | \u001b[0m 34.53   \u001b[0m | \u001b[0m 0.8509  \u001b[0m |\n",
      "| \u001b[0m 10      \u001b[0m | \u001b[0m 0.7685  \u001b[0m | \u001b[0m 0.896   \u001b[0m | \u001b[0m 0.03064 \u001b[0m | \u001b[0m 26.09   \u001b[0m | \u001b[0m 15.59   \u001b[0m | \u001b[0m 6.414   \u001b[0m | \u001b[0m 147.2   \u001b[0m | \u001b[0m 20.92   \u001b[0m | \u001b[0m 0.8054  \u001b[0m |\n",
      "| \u001b[0m 11      \u001b[0m | \u001b[0m 0.768   \u001b[0m | \u001b[0m 0.7841  \u001b[0m | \u001b[0m 0.0213  \u001b[0m | \u001b[0m 15.96   \u001b[0m | \u001b[0m 25.39   \u001b[0m | \u001b[0m 7.833   \u001b[0m | \u001b[0m 155.9   \u001b[0m | \u001b[0m 25.46   \u001b[0m | \u001b[0m 0.8022  \u001b[0m |\n",
      "| \u001b[0m 12      \u001b[0m | \u001b[0m 0.7681  \u001b[0m | \u001b[0m 0.8279  \u001b[0m | \u001b[0m 0.04654 \u001b[0m | \u001b[0m 19.78   \u001b[0m | \u001b[0m 25.01   \u001b[0m | \u001b[0m 5.659   \u001b[0m | \u001b[0m 183.0   \u001b[0m | \u001b[0m 20.79   \u001b[0m | \u001b[0m 0.8138  \u001b[0m |\n",
      "| \u001b[0m 13      \u001b[0m | \u001b[0m 0.7642  \u001b[0m | \u001b[0m 0.8297  \u001b[0m | \u001b[0m 0.001985\u001b[0m | \u001b[0m 27.43   \u001b[0m | \u001b[0m 15.07   \u001b[0m | \u001b[0m 8.389   \u001b[0m | \u001b[0m 156.2   \u001b[0m | \u001b[0m 29.7    \u001b[0m | \u001b[0m 0.9151  \u001b[0m |\n",
      "| \u001b[0m 14      \u001b[0m | \u001b[0m 0.7687  \u001b[0m | \u001b[0m 0.7723  \u001b[0m | \u001b[0m 0.02923 \u001b[0m | \u001b[0m 23.88   \u001b[0m | \u001b[0m 23.58   \u001b[0m | \u001b[0m 6.115   \u001b[0m | \u001b[0m 197.2   \u001b[0m | \u001b[0m 23.94   \u001b[0m | \u001b[0m 0.9     \u001b[0m |\n",
      "| \u001b[0m 15      \u001b[0m | \u001b[0m 0.768   \u001b[0m | \u001b[0m 0.8489  \u001b[0m | \u001b[0m 0.01557 \u001b[0m | \u001b[0m 27.21   \u001b[0m | \u001b[0m 20.95   \u001b[0m | \u001b[0m 9.406   \u001b[0m | \u001b[0m 174.9   \u001b[0m | \u001b[0m 32.63   \u001b[0m | \u001b[0m 0.88    \u001b[0m |\n",
      "| \u001b[0m 16      \u001b[0m | \u001b[0m 0.7678  \u001b[0m | \u001b[0m 0.8533  \u001b[0m | \u001b[0m 0.02556 \u001b[0m | \u001b[0m 29.34   \u001b[0m | \u001b[0m 24.66   \u001b[0m | \u001b[0m 7.119   \u001b[0m | \u001b[0m 176.4   \u001b[0m | \u001b[0m 15.38   \u001b[0m | \u001b[0m 0.8292  \u001b[0m |\n",
      "| \u001b[0m 17      \u001b[0m | \u001b[0m 0.7673  \u001b[0m | \u001b[0m 0.8422  \u001b[0m | \u001b[0m 0.01521 \u001b[0m | \u001b[0m 24.27   \u001b[0m | \u001b[0m 21.43   \u001b[0m | \u001b[0m 5.677   \u001b[0m | \u001b[0m 157.9   \u001b[0m | \u001b[0m 26.4    \u001b[0m | \u001b[0m 0.8668  \u001b[0m |\n",
      "| \u001b[0m 18      \u001b[0m | \u001b[0m 0.7685  \u001b[0m | \u001b[0m 0.8276  \u001b[0m | \u001b[0m 0.03301 \u001b[0m | \u001b[0m 24.78   \u001b[0m | \u001b[0m 21.47   \u001b[0m | \u001b[0m 9.483   \u001b[0m | \u001b[0m 162.1   \u001b[0m | \u001b[0m 23.72   \u001b[0m | \u001b[0m 0.906   \u001b[0m |\n",
      "| \u001b[0m 19      \u001b[0m | \u001b[0m 0.7683  \u001b[0m | \u001b[0m 0.8671  \u001b[0m | \u001b[0m 0.03549 \u001b[0m | \u001b[0m 16.5    \u001b[0m | \u001b[0m 28.79   \u001b[0m | \u001b[0m 8.571   \u001b[0m | \u001b[0m 199.9   \u001b[0m | \u001b[0m 17.99   \u001b[0m | \u001b[0m 0.9029  \u001b[0m |\n",
      "| \u001b[0m 20      \u001b[0m | \u001b[0m 0.7687  \u001b[0m | \u001b[0m 0.7576  \u001b[0m | \u001b[0m 0.03116 \u001b[0m | \u001b[0m 16.86   \u001b[0m | \u001b[0m 27.72   \u001b[0m | \u001b[0m 9.037   \u001b[0m | \u001b[0m 174.1   \u001b[0m | \u001b[0m 23.14   \u001b[0m | \u001b[0m 0.799   \u001b[0m |\n",
      "| \u001b[0m 21      \u001b[0m | \u001b[0m 0.7676  \u001b[0m | \u001b[0m 0.8486  \u001b[0m | \u001b[0m 0.02322 \u001b[0m | \u001b[0m 25.83   \u001b[0m | \u001b[0m 28.0    \u001b[0m | \u001b[0m 9.878   \u001b[0m | \u001b[0m 191.3   \u001b[0m | \u001b[0m 15.23   \u001b[0m | \u001b[0m 0.8368  \u001b[0m |\n",
      "| \u001b[0m 22      \u001b[0m | \u001b[0m 0.7658  \u001b[0m | \u001b[0m 0.8541  \u001b[0m | \u001b[0m 0.00941 \u001b[0m | \u001b[0m 22.82   \u001b[0m | \u001b[0m 15.82   \u001b[0m | \u001b[0m 6.0     \u001b[0m | \u001b[0m 141.1   \u001b[0m | \u001b[0m 30.87   \u001b[0m | \u001b[0m 0.8191  \u001b[0m |\n",
      "| \u001b[0m 23      \u001b[0m | \u001b[0m 0.7677  \u001b[0m | \u001b[0m 0.7887  \u001b[0m | \u001b[0m 0.04648 \u001b[0m | \u001b[0m 25.57   \u001b[0m | \u001b[0m 15.48   \u001b[0m | \u001b[0m 5.823   \u001b[0m | \u001b[0m 177.3   \u001b[0m | \u001b[0m 26.54   \u001b[0m | \u001b[0m 0.8209  \u001b[0m |\n",
      "| \u001b[0m 24      \u001b[0m | \u001b[0m 0.7686  \u001b[0m | \u001b[0m 0.8888  \u001b[0m | \u001b[0m 0.03108 \u001b[0m | \u001b[0m 23.03   \u001b[0m | \u001b[0m 23.85   \u001b[0m | \u001b[0m 8.651   \u001b[0m | \u001b[0m 158.7   \u001b[0m | \u001b[0m 22.96   \u001b[0m | \u001b[0m 0.8173  \u001b[0m |\n",
      "| \u001b[0m 25      \u001b[0m | \u001b[0m 0.7679  \u001b[0m | \u001b[0m 0.7617  \u001b[0m | \u001b[0m 0.04727 \u001b[0m | \u001b[0m 26.09   \u001b[0m | \u001b[0m 22.36   \u001b[0m | \u001b[0m 6.137   \u001b[0m | \u001b[0m 155.3   \u001b[0m | \u001b[0m 16.16   \u001b[0m | \u001b[0m 0.8465  \u001b[0m |\n",
      "| \u001b[0m 26      \u001b[0m | \u001b[0m 0.7689  \u001b[0m | \u001b[0m 0.783   \u001b[0m | \u001b[0m 0.03512 \u001b[0m | \u001b[0m 20.67   \u001b[0m | \u001b[0m 17.69   \u001b[0m | \u001b[0m 5.123   \u001b[0m | \u001b[0m 144.0   \u001b[0m | \u001b[0m 28.59   \u001b[0m | \u001b[0m 0.849   \u001b[0m |\n",
      "| \u001b[0m 27      \u001b[0m | \u001b[0m 0.768   \u001b[0m | \u001b[0m 0.8212  \u001b[0m | \u001b[0m 0.04494 \u001b[0m | \u001b[0m 29.86   \u001b[0m | \u001b[0m 18.25   \u001b[0m | \u001b[0m 8.315   \u001b[0m | \u001b[0m 155.8   \u001b[0m | \u001b[0m 15.41   \u001b[0m | \u001b[0m 0.8886  \u001b[0m |\n",
      "| \u001b[0m 28      \u001b[0m | \u001b[0m 0.7679  \u001b[0m | \u001b[0m 0.7844  \u001b[0m | \u001b[0m 0.01979 \u001b[0m | \u001b[0m 23.82   \u001b[0m | \u001b[0m 27.47   \u001b[0m | \u001b[0m 8.145   \u001b[0m | \u001b[0m 192.4   \u001b[0m | \u001b[0m 20.47   \u001b[0m | \u001b[0m 0.8937  \u001b[0m |\n",
      "| \u001b[0m 29      \u001b[0m | \u001b[0m 0.7677  \u001b[0m | \u001b[0m 0.7616  \u001b[0m | \u001b[0m 0.04769 \u001b[0m | \u001b[0m 25.31   \u001b[0m | \u001b[0m 18.23   \u001b[0m | \u001b[0m 9.737   \u001b[0m | \u001b[0m 183.9   \u001b[0m | \u001b[0m 20.08   \u001b[0m | \u001b[0m 0.8177  \u001b[0m |\n",
      "| \u001b[0m 30      \u001b[0m | \u001b[0m 0.7632  \u001b[0m | \u001b[0m 0.8181  \u001b[0m | \u001b[0m 0.002257\u001b[0m | \u001b[0m 18.11   \u001b[0m | \u001b[0m 21.37   \u001b[0m | \u001b[0m 6.871   \u001b[0m | \u001b[0m 167.8   \u001b[0m | \u001b[0m 20.55   \u001b[0m | \u001b[0m 0.8663  \u001b[0m |\n",
      "| \u001b[0m 31      \u001b[0m | \u001b[0m 0.7647  \u001b[0m | \u001b[0m 0.8769  \u001b[0m | \u001b[0m 0.006759\u001b[0m | \u001b[0m 22.76   \u001b[0m | \u001b[0m 16.98   \u001b[0m | \u001b[0m 8.584   \u001b[0m | \u001b[0m 163.8   \u001b[0m | \u001b[0m 26.31   \u001b[0m | \u001b[0m 0.8138  \u001b[0m |\n",
      "| \u001b[95m 32      \u001b[0m | \u001b[95m 0.7691  \u001b[0m | \u001b[95m 0.7546  \u001b[0m | \u001b[95m 0.02491 \u001b[0m | \u001b[95m 20.33   \u001b[0m | \u001b[95m 29.11   \u001b[0m | \u001b[95m 8.827   \u001b[0m | \u001b[95m 184.9   \u001b[0m | \u001b[95m 33.07   \u001b[0m | \u001b[95m 0.8008  \u001b[0m |\n",
      "| \u001b[0m 33      \u001b[0m | \u001b[0m 0.7675  \u001b[0m | \u001b[0m 0.8239  \u001b[0m | \u001b[0m 0.02964 \u001b[0m | \u001b[0m 29.43   \u001b[0m | \u001b[0m 19.38   \u001b[0m | \u001b[0m 6.204   \u001b[0m | \u001b[0m 146.0   \u001b[0m | \u001b[0m 15.33   \u001b[0m | \u001b[0m 0.9108  \u001b[0m |\n",
      "| \u001b[0m 34      \u001b[0m | \u001b[0m 0.7685  \u001b[0m | \u001b[0m 0.8439  \u001b[0m | \u001b[0m 0.03947 \u001b[0m | \u001b[0m 19.23   \u001b[0m | \u001b[0m 23.8    \u001b[0m | \u001b[0m 5.32    \u001b[0m | \u001b[0m 169.1   \u001b[0m | \u001b[0m 34.55   \u001b[0m | \u001b[0m 0.9039  \u001b[0m |\n",
      "| \u001b[0m 35      \u001b[0m | \u001b[0m 0.7683  \u001b[0m | \u001b[0m 0.7875  \u001b[0m | \u001b[0m 0.04812 \u001b[0m | \u001b[0m 18.48   \u001b[0m | \u001b[0m 29.24   \u001b[0m | \u001b[0m 9.707   \u001b[0m | \u001b[0m 188.0   \u001b[0m | \u001b[0m 27.61   \u001b[0m | \u001b[0m 0.9037  \u001b[0m |\n",
      "| \u001b[0m 36      \u001b[0m | \u001b[0m 0.7684  \u001b[0m | \u001b[0m 0.7798  \u001b[0m | \u001b[0m 0.0426  \u001b[0m | \u001b[0m 24.27   \u001b[0m | \u001b[0m 15.2    \u001b[0m | \u001b[0m 6.736   \u001b[0m | \u001b[0m 148.9   \u001b[0m | \u001b[0m 34.64   \u001b[0m | \u001b[0m 0.8522  \u001b[0m |\n",
      "| \u001b[0m 37      \u001b[0m | \u001b[0m 0.7687  \u001b[0m | \u001b[0m 0.8146  \u001b[0m | \u001b[0m 0.03233 \u001b[0m | \u001b[0m 20.53   \u001b[0m | \u001b[0m 17.05   \u001b[0m | \u001b[0m 9.111   \u001b[0m | \u001b[0m 151.4   \u001b[0m | \u001b[0m 25.23   \u001b[0m | \u001b[0m 0.8192  \u001b[0m |\n",
      "| \u001b[0m 38      \u001b[0m | \u001b[0m 0.7683  \u001b[0m | \u001b[0m 0.7466  \u001b[0m | \u001b[0m 0.04325 \u001b[0m | \u001b[0m 29.59   \u001b[0m | \u001b[0m 29.41   \u001b[0m | \u001b[0m 9.533   \u001b[0m | \u001b[0m 186.4   \u001b[0m | \u001b[0m 21.66   \u001b[0m | \u001b[0m 0.8005  \u001b[0m |\n",
      "| \u001b[0m 39      \u001b[0m | \u001b[0m 0.7669  \u001b[0m | \u001b[0m 0.7992  \u001b[0m | \u001b[0m 0.01238 \u001b[0m | \u001b[0m 16.99   \u001b[0m | \u001b[0m 15.8    \u001b[0m | \u001b[0m 8.628   \u001b[0m | \u001b[0m 140.7   \u001b[0m | \u001b[0m 30.41   \u001b[0m | \u001b[0m 0.8091  \u001b[0m |\n",
      "| \u001b[0m 40      \u001b[0m | \u001b[0m 0.7662  \u001b[0m | \u001b[0m 0.7435  \u001b[0m | \u001b[0m 0.005391\u001b[0m | \u001b[0m 25.08   \u001b[0m | \u001b[0m 18.68   \u001b[0m | \u001b[0m 7.103   \u001b[0m | \u001b[0m 173.4   \u001b[0m | \u001b[0m 32.21   \u001b[0m | \u001b[0m 0.8845  \u001b[0m |\n"
     ]
    },
    {
     "name": "stdout",
     "output_type": "stream",
     "text": [
      "| \u001b[0m 41      \u001b[0m | \u001b[0m 0.7682  \u001b[0m | \u001b[0m 0.8344  \u001b[0m | \u001b[0m 0.04105 \u001b[0m | \u001b[0m 25.64   \u001b[0m | \u001b[0m 26.21   \u001b[0m | \u001b[0m 8.88    \u001b[0m | \u001b[0m 182.2   \u001b[0m | \u001b[0m 17.33   \u001b[0m | \u001b[0m 0.8334  \u001b[0m |\n",
      "| \u001b[0m 42      \u001b[0m | \u001b[0m 0.7689  \u001b[0m | \u001b[0m 0.8602  \u001b[0m | \u001b[0m 0.03294 \u001b[0m | \u001b[0m 25.53   \u001b[0m | \u001b[0m 24.37   \u001b[0m | \u001b[0m 8.529   \u001b[0m | \u001b[0m 188.7   \u001b[0m | \u001b[0m 29.17   \u001b[0m | \u001b[0m 0.8999  \u001b[0m |\n",
      "| \u001b[0m 43      \u001b[0m | \u001b[0m 0.7686  \u001b[0m | \u001b[0m 0.7919  \u001b[0m | \u001b[0m 0.02638 \u001b[0m | \u001b[0m 24.49   \u001b[0m | \u001b[0m 23.1    \u001b[0m | \u001b[0m 9.651   \u001b[0m | \u001b[0m 185.8   \u001b[0m | \u001b[0m 21.69   \u001b[0m | \u001b[0m 0.81    \u001b[0m |\n",
      "| \u001b[0m 44      \u001b[0m | \u001b[0m 0.7674  \u001b[0m | \u001b[0m 0.833   \u001b[0m | \u001b[0m 0.01755 \u001b[0m | \u001b[0m 25.98   \u001b[0m | \u001b[0m 29.94   \u001b[0m | \u001b[0m 6.602   \u001b[0m | \u001b[0m 178.4   \u001b[0m | \u001b[0m 19.94   \u001b[0m | \u001b[0m 0.8303  \u001b[0m |\n",
      "| \u001b[0m 45      \u001b[0m | \u001b[0m 0.7659  \u001b[0m | \u001b[0m 0.8299  \u001b[0m | \u001b[0m 0.007451\u001b[0m | \u001b[0m 17.1    \u001b[0m | \u001b[0m 16.01   \u001b[0m | \u001b[0m 9.876   \u001b[0m | \u001b[0m 188.5   \u001b[0m | \u001b[0m 27.18   \u001b[0m | \u001b[0m 0.8013  \u001b[0m |\n",
      "| \u001b[0m 46      \u001b[0m | \u001b[0m 0.7681  \u001b[0m | \u001b[0m 0.8764  \u001b[0m | \u001b[0m 0.02232 \u001b[0m | \u001b[0m 20.98   \u001b[0m | \u001b[0m 23.69   \u001b[0m | \u001b[0m 8.002   \u001b[0m | \u001b[0m 163.6   \u001b[0m | \u001b[0m 22.0    \u001b[0m | \u001b[0m 0.9018  \u001b[0m |\n",
      "| \u001b[0m 47      \u001b[0m | \u001b[0m 0.7687  \u001b[0m | \u001b[0m 0.8296  \u001b[0m | \u001b[0m 0.04661 \u001b[0m | \u001b[0m 22.84   \u001b[0m | \u001b[0m 19.56   \u001b[0m | \u001b[0m 9.425   \u001b[0m | \u001b[0m 151.8   \u001b[0m | \u001b[0m 28.65   \u001b[0m | \u001b[0m 0.8384  \u001b[0m |\n",
      "| \u001b[0m 48      \u001b[0m | \u001b[0m 0.7681  \u001b[0m | \u001b[0m 0.8764  \u001b[0m | \u001b[0m 0.04    \u001b[0m | \u001b[0m 26.01   \u001b[0m | \u001b[0m 21.97   \u001b[0m | \u001b[0m 6.34    \u001b[0m | \u001b[0m 155.0   \u001b[0m | \u001b[0m 15.53   \u001b[0m | \u001b[0m 0.8028  \u001b[0m |\n",
      "| \u001b[0m 49      \u001b[0m | \u001b[0m 0.7683  \u001b[0m | \u001b[0m 0.7563  \u001b[0m | \u001b[0m 0.04229 \u001b[0m | \u001b[0m 19.15   \u001b[0m | \u001b[0m 27.19   \u001b[0m | \u001b[0m 8.157   \u001b[0m | \u001b[0m 184.8   \u001b[0m | \u001b[0m 32.64   \u001b[0m | \u001b[0m 0.9139  \u001b[0m |\n",
      "| \u001b[95m 50      \u001b[0m | \u001b[95m 0.7691  \u001b[0m | \u001b[95m 0.785   \u001b[0m | \u001b[95m 0.02645 \u001b[0m | \u001b[95m 21.84   \u001b[0m | \u001b[95m 29.53   \u001b[0m | \u001b[95m 9.156   \u001b[0m | \u001b[95m 184.3   \u001b[0m | \u001b[95m 31.44   \u001b[0m | \u001b[95m 0.8728  \u001b[0m |\n",
      "=========================================================================================================================\n"
     ]
    }
   ],
   "source": [
    "BO_lgbm.maximize(init_points=40, n_iter=10)"
   ]
  },
  {
   "cell_type": "code",
   "execution_count": 21,
   "metadata": {
    "colab": {
     "base_uri": "https://localhost:8080/",
     "height": 143
    },
    "id": "UAQkYnc0vZoE",
    "outputId": "d1a8724b-ec75-4b58-ec0c-c3f42e25ce3d"
   },
   "outputs": [
    {
     "data": {
      "text/plain": [
       "{'colsample_bytree': 0.7849681205509292,\n",
       " 'learning_rate': 0.02644550315385225,\n",
       " 'max_depth': 22,\n",
       " 'min_child_samples': 30,\n",
       " 'min_child_weight': 9.156287297579574,\n",
       " 'n_estimators': 184,\n",
       " 'num_leaves': 31,\n",
       " 'subsample': 0.8727605400071892,\n",
       " 'objective': 'binary',\n",
       " 'n_jobs': -1}"
      ]
     },
     "execution_count": 21,
     "metadata": {},
     "output_type": "execute_result"
    }
   ],
   "source": [
    "# BO_rf.res  # 모든 성능 들어가있음\n",
    "BO_lgbm.max\n",
    "\n",
    "max_params = BO_lgbm.max['params']\n",
    "\n",
    "max_params['n_estimators'] = int(round(max_params['n_estimators']))\n",
    "max_params['max_depth'] = int(round(max_params['max_depth']))\n",
    "max_params['min_child_samples'] = int(round(max_params['min_child_samples']))\n",
    "max_params['num_leaves'] = int(round(max_params['num_leaves']))\n",
    "max_params['objective'] = 'binary'\n",
    "max_params['n_jobs'] = -1\n",
    "\n",
    "max_params"
   ]
  },
  {
   "cell_type": "code",
   "execution_count": 22,
   "metadata": {
    "colab": {
     "base_uri": "https://localhost:8080/",
     "height": 71
    },
    "id": "J3hiDfZjvZoF",
    "outputId": "7d88bf30-d183-4827-f35b-aa511eab2a97"
   },
   "outputs": [
    {
     "name": "stdout",
     "output_type": "stream",
     "text": [
      "[0.76767758 0.76825724 0.77489874 0.7656943 ]\n",
      "최대성능: 0.7748987406140267\n",
      "평균성능: 0.7691319658456776\n"
     ]
    }
   ],
   "source": [
    "lgbm_clf = LGBMClassifier(**max_params)\n",
    "\n",
    "scores = cross_val_score(lgbm_clf, X_train, y_train, scoring='roc_auc', cv=cv, n_jobs=-1)\n",
    "\n",
    "print(scores)\n",
    "print(f'최대성능: {max(scores)}\\n평균성능: {np.mean(scores)}')\n",
    "\n",
    "BO_tuned_clfs.append((lgbm_clf.__class__.__name__, lgbm_clf, np.mean(scores)))"
   ]
  },
  {
   "cell_type": "markdown",
   "metadata": {
    "id": "A5ByHBEAvZop"
   },
   "source": [
    "<font color = 'blue'> \n",
    "\n",
    "# 다섯번째 BO_tuned_clfs "
   ]
  },
  {
   "cell_type": "markdown",
   "metadata": {
    "id": "no26XBpMvZor"
   },
   "source": [
    "lgb_clf"
   ]
  },
  {
   "cell_type": "code",
   "execution_count": 23,
   "metadata": {
    "id": "orLNU7bLvZoA"
   },
   "outputs": [],
   "source": [
    "pbounds = { 'learning_rate': (0.001, 0.05),\n",
    "            'n_estimators': (150, 230),\n",
    "            'max_depth': (15,30),   \n",
    "            'min_child_samples' : (15, 35),\n",
    "            'subsample': (0.8,0.95), \n",
    "            'colsample_bytree': (0.75,0.86),   \n",
    "            'num_leaves': (20,40),\n",
    "            'min_child_weight': (5, 15)}\n",
    "\n",
    "\n",
    "def lgbm_opt(learning_rate, n_estimators, max_depth, min_child_samples, subsample, colsample_bytree, num_leaves, min_child_weight):\n",
    "\n",
    "    params = {\n",
    "        'learning_rate': learning_rate,\n",
    "        'n_estimators' : int(round(n_estimators)),\n",
    "        'max_depth' : int(round(max_depth)),\n",
    "        'min_child_samples' : int(round(min_child_samples)),\n",
    "        'subsample': subsample,\n",
    "        'colsample_bytree' : colsample_bytree,\n",
    "        'num_leaves' : int(round(num_leaves)),\n",
    "        'min_child_weight' : min_child_weight,\n",
    "        'objective' : 'binary',\n",
    "        'n_jobs' : -1\n",
    "    }\n",
    "    \n",
    "    lgbm = LGBMClassifier(**params)\n",
    "    \n",
    "    score = cross_val_score(lgbm, X_train, y_train, scoring='roc_auc', cv=cv, n_jobs=-1)\n",
    "    \n",
    "    return np.mean(score)\n",
    "\n",
    "BO_lgbm = BayesianOptimization(f = lgbm_opt, pbounds = pbounds, random_state=0)    \n"
   ]
  },
  {
   "cell_type": "code",
   "execution_count": 24,
   "metadata": {
    "colab": {
     "base_uri": "https://localhost:8080/",
     "height": 1000
    },
    "id": "FEUretOMvZoC",
    "outputId": "fbf7185d-1f26-42a2-9c03-f1e069666388",
    "scrolled": false
   },
   "outputs": [
    {
     "name": "stdout",
     "output_type": "stream",
     "text": [
      "|   iter    |  target   | colsam... | learni... | max_depth | min_ch... | min_ch... | n_esti... | num_le... | subsample |\n",
      "-------------------------------------------------------------------------------------------------------------------------\n",
      "| \u001b[0m 1       \u001b[0m | \u001b[0m 0.7687  \u001b[0m | \u001b[0m 0.8104  \u001b[0m | \u001b[0m 0.03604 \u001b[0m | \u001b[0m 24.04   \u001b[0m | \u001b[0m 25.9    \u001b[0m | \u001b[0m 9.237   \u001b[0m | \u001b[0m 201.7   \u001b[0m | \u001b[0m 28.75   \u001b[0m | \u001b[0m 0.9338  \u001b[0m |\n",
      "| \u001b[0m 2       \u001b[0m | \u001b[0m 0.7683  \u001b[0m | \u001b[0m 0.856   \u001b[0m | \u001b[0m 0.01979 \u001b[0m | \u001b[0m 26.88   \u001b[0m | \u001b[0m 25.58   \u001b[0m | \u001b[0m 10.68   \u001b[0m | \u001b[0m 224.0   \u001b[0m | \u001b[0m 21.42   \u001b[0m | \u001b[0m 0.8131  \u001b[0m |\n",
      "| \u001b[0m 3       \u001b[0m | \u001b[0m 0.7683  \u001b[0m | \u001b[0m 0.7522  \u001b[0m | \u001b[0m 0.0418  \u001b[0m | \u001b[0m 26.67   \u001b[0m | \u001b[0m 32.4    \u001b[0m | \u001b[0m 14.79   \u001b[0m | \u001b[0m 213.9   \u001b[0m | \u001b[0m 29.23   \u001b[0m | \u001b[0m 0.9171  \u001b[0m |\n",
      "| \u001b[95m 4       \u001b[0m | \u001b[95m 0.7692  \u001b[0m | \u001b[95m 0.763   \u001b[0m | \u001b[95m 0.03236 \u001b[0m | \u001b[95m 17.15   \u001b[0m | \u001b[95m 33.89   \u001b[0m | \u001b[95m 10.22   \u001b[0m | \u001b[95m 183.2   \u001b[0m | \u001b[95m 25.29   \u001b[0m | \u001b[95m 0.9161  \u001b[0m |\n",
      "| \u001b[0m 5       \u001b[0m | \u001b[0m 0.7689  \u001b[0m | \u001b[0m 0.8002  \u001b[0m | \u001b[0m 0.02885 \u001b[0m | \u001b[0m 15.28   \u001b[0m | \u001b[0m 27.35   \u001b[0m | \u001b[0m 11.12   \u001b[0m | \u001b[0m 199.4   \u001b[0m | \u001b[0m 38.87   \u001b[0m | \u001b[0m 0.9023  \u001b[0m |\n",
      "| \u001b[0m 6       \u001b[0m | \u001b[0m 0.7687  \u001b[0m | \u001b[0m 0.7895  \u001b[0m | \u001b[0m 0.02241 \u001b[0m | \u001b[0m 25.46   \u001b[0m | \u001b[0m 16.2    \u001b[0m | \u001b[0m 11.67   \u001b[0m | \u001b[0m 203.7   \u001b[0m | \u001b[0m 24.21   \u001b[0m | \u001b[0m 0.8193  \u001b[0m |\n",
      "| \u001b[0m 7       \u001b[0m | \u001b[0m 0.7676  \u001b[0m | \u001b[0m 0.7847  \u001b[0m | \u001b[0m 0.01882 \u001b[0m | \u001b[0m 23.55   \u001b[0m | \u001b[0m 23.77   \u001b[0m | \u001b[0m 14.88   \u001b[0m | \u001b[0m 158.2   \u001b[0m | \u001b[0m 24.18   \u001b[0m | \u001b[0m 0.8242  \u001b[0m |\n",
      "| \u001b[0m 8       \u001b[0m | \u001b[0m 0.7674  \u001b[0m | \u001b[0m 0.8218  \u001b[0m | \u001b[0m 0.01341 \u001b[0m | \u001b[0m 21.99   \u001b[0m | \u001b[0m 19.89   \u001b[0m | \u001b[0m 6.59    \u001b[0m | \u001b[0m 158.8   \u001b[0m | \u001b[0m 33.13   \u001b[0m | \u001b[0m 0.8207  \u001b[0m |\n",
      "| \u001b[0m 9       \u001b[0m | \u001b[0m 0.7684  \u001b[0m | \u001b[0m 0.7716  \u001b[0m | \u001b[0m 0.01907 \u001b[0m | \u001b[0m 27.31   \u001b[0m | \u001b[0m 16.94   \u001b[0m | \u001b[0m 13.38   \u001b[0m | \u001b[0m 157.7   \u001b[0m | \u001b[0m 39.53   \u001b[0m | \u001b[0m 0.8703  \u001b[0m |\n",
      "| \u001b[0m 10      \u001b[0m | \u001b[0m 0.7689  \u001b[0m | \u001b[0m 0.8574  \u001b[0m | \u001b[0m 0.03064 \u001b[0m | \u001b[0m 26.09   \u001b[0m | \u001b[0m 15.78   \u001b[0m | \u001b[0m 7.828   \u001b[0m | \u001b[0m 159.6   \u001b[0m | \u001b[0m 25.92   \u001b[0m | \u001b[0m 0.8178  \u001b[0m |\n",
      "| \u001b[0m 11      \u001b[0m | \u001b[0m 0.7687  \u001b[0m | \u001b[0m 0.785   \u001b[0m | \u001b[0m 0.0213  \u001b[0m | \u001b[0m 15.96   \u001b[0m | \u001b[0m 28.85   \u001b[0m | \u001b[0m 10.67   \u001b[0m | \u001b[0m 171.2   \u001b[0m | \u001b[0m 30.46   \u001b[0m | \u001b[0m 0.8141  \u001b[0m |\n",
      "| \u001b[0m 12      \u001b[0m | \u001b[0m 0.7686  \u001b[0m | \u001b[0m 0.8134  \u001b[0m | \u001b[0m 0.04654 \u001b[0m | \u001b[0m 19.78   \u001b[0m | \u001b[0m 28.35   \u001b[0m | \u001b[0m 6.318   \u001b[0m | \u001b[0m 207.3   \u001b[0m | \u001b[0m 25.79   \u001b[0m | \u001b[0m 0.8275  \u001b[0m |\n",
      "| \u001b[0m 13      \u001b[0m | \u001b[0m 0.7647  \u001b[0m | \u001b[0m 0.8145  \u001b[0m | \u001b[0m 0.001985\u001b[0m | \u001b[0m 27.43   \u001b[0m | \u001b[0m 15.09   \u001b[0m | \u001b[0m 11.78   \u001b[0m | \u001b[0m 171.6   \u001b[0m | \u001b[0m 34.7    \u001b[0m | \u001b[0m 0.9443  \u001b[0m |\n",
      "| \u001b[0m 14      \u001b[0m | \u001b[0m 0.769   \u001b[0m | \u001b[0m 0.7774  \u001b[0m | \u001b[0m 0.02923 \u001b[0m | \u001b[0m 23.88   \u001b[0m | \u001b[0m 26.45   \u001b[0m | \u001b[0m 7.231   \u001b[0m | \u001b[0m 226.2   \u001b[0m | \u001b[0m 28.94   \u001b[0m | \u001b[0m 0.927   \u001b[0m |\n",
      "| \u001b[0m 15      \u001b[0m | \u001b[0m 0.7683  \u001b[0m | \u001b[0m 0.8269  \u001b[0m | \u001b[0m 0.01557 \u001b[0m | \u001b[0m 27.21   \u001b[0m | \u001b[0m 22.93   \u001b[0m | \u001b[0m 13.81   \u001b[0m | \u001b[0m 196.5   \u001b[0m | \u001b[0m 37.63   \u001b[0m | \u001b[0m 0.9039  \u001b[0m |\n",
      "| \u001b[0m 16      \u001b[0m | \u001b[0m 0.7685  \u001b[0m | \u001b[0m 0.8298  \u001b[0m | \u001b[0m 0.02556 \u001b[0m | \u001b[0m 29.34   \u001b[0m | \u001b[0m 27.88   \u001b[0m | \u001b[0m 9.239   \u001b[0m | \u001b[0m 198.5   \u001b[0m | \u001b[0m 20.38   \u001b[0m | \u001b[0m 0.8452  \u001b[0m |\n",
      "| \u001b[0m 17      \u001b[0m | \u001b[0m 0.7679  \u001b[0m | \u001b[0m 0.8226  \u001b[0m | \u001b[0m 0.01521 \u001b[0m | \u001b[0m 24.27   \u001b[0m | \u001b[0m 23.58   \u001b[0m | \u001b[0m 6.355   \u001b[0m | \u001b[0m 173.9   \u001b[0m | \u001b[0m 31.4    \u001b[0m | \u001b[0m 0.8886  \u001b[0m |\n",
      "| \u001b[0m 18      \u001b[0m | \u001b[0m 0.7689  \u001b[0m | \u001b[0m 0.8132  \u001b[0m | \u001b[0m 0.03301 \u001b[0m | \u001b[0m 24.78   \u001b[0m | \u001b[0m 23.63   \u001b[0m | \u001b[0m 13.97   \u001b[0m | \u001b[0m 179.4   \u001b[0m | \u001b[0m 28.72   \u001b[0m | \u001b[0m 0.9338  \u001b[0m |\n",
      "| \u001b[0m 19      \u001b[0m | \u001b[0m 0.7685  \u001b[0m | \u001b[0m 0.8387  \u001b[0m | \u001b[0m 0.03549 \u001b[0m | \u001b[0m 16.5    \u001b[0m | \u001b[0m 33.39   \u001b[0m | \u001b[0m 12.14   \u001b[0m | \u001b[0m 229.9   \u001b[0m | \u001b[0m 22.99   \u001b[0m | \u001b[0m 0.9302  \u001b[0m |\n",
      "| \u001b[95m 20      \u001b[0m | \u001b[95m 0.7692  \u001b[0m | \u001b[95m 0.7679  \u001b[0m | \u001b[95m 0.03116 \u001b[0m | \u001b[95m 16.86   \u001b[0m | \u001b[95m 31.96   \u001b[0m | \u001b[95m 13.07   \u001b[0m | \u001b[95m 195.5   \u001b[0m | \u001b[95m 28.14   \u001b[0m | \u001b[95m 0.8104  \u001b[0m |\n",
      "| \u001b[0m 21      \u001b[0m | \u001b[0m 0.7687  \u001b[0m | \u001b[0m 0.8267  \u001b[0m | \u001b[0m 0.02322 \u001b[0m | \u001b[0m 25.83   \u001b[0m | \u001b[0m 32.33   \u001b[0m | \u001b[0m 14.76   \u001b[0m | \u001b[0m 218.5   \u001b[0m | \u001b[0m 20.23   \u001b[0m | \u001b[0m 0.854   \u001b[0m |\n",
      "| \u001b[0m 22      \u001b[0m | \u001b[0m 0.7665  \u001b[0m | \u001b[0m 0.8303  \u001b[0m | \u001b[0m 0.00941 \u001b[0m | \u001b[0m 22.82   \u001b[0m | \u001b[0m 16.09   \u001b[0m | \u001b[0m 7.0     \u001b[0m | \u001b[0m 151.5   \u001b[0m | \u001b[0m 35.87   \u001b[0m | \u001b[0m 0.8336  \u001b[0m |\n",
      "| \u001b[0m 23      \u001b[0m | \u001b[0m 0.768   \u001b[0m | \u001b[0m 0.788   \u001b[0m | \u001b[0m 0.04648 \u001b[0m | \u001b[0m 25.57   \u001b[0m | \u001b[0m 15.64   \u001b[0m | \u001b[0m 6.647   \u001b[0m | \u001b[0m 199.7   \u001b[0m | \u001b[0m 31.54   \u001b[0m | \u001b[0m 0.8357  \u001b[0m |\n",
      "| \u001b[0m 24      \u001b[0m | \u001b[0m 0.7691  \u001b[0m | \u001b[0m 0.8528  \u001b[0m | \u001b[0m 0.03108 \u001b[0m | \u001b[0m 23.03   \u001b[0m | \u001b[0m 26.8    \u001b[0m | \u001b[0m 12.3    \u001b[0m | \u001b[0m 175.0   \u001b[0m | \u001b[0m 27.96   \u001b[0m | \u001b[0m 0.8315  \u001b[0m |\n",
      "| \u001b[0m 25      \u001b[0m | \u001b[0m 0.7686  \u001b[0m | \u001b[0m 0.7705  \u001b[0m | \u001b[0m 0.04727 \u001b[0m | \u001b[0m 26.09   \u001b[0m | \u001b[0m 24.81   \u001b[0m | \u001b[0m 7.274   \u001b[0m | \u001b[0m 170.3   \u001b[0m | \u001b[0m 21.16   \u001b[0m | \u001b[0m 0.8652  \u001b[0m |\n",
      "| \u001b[0m 26      \u001b[0m | \u001b[0m 0.7686  \u001b[0m | \u001b[0m 0.7843  \u001b[0m | \u001b[0m 0.03512 \u001b[0m | \u001b[0m 20.67   \u001b[0m | \u001b[0m 18.59   \u001b[0m | \u001b[0m 5.247   \u001b[0m | \u001b[0m 155.4   \u001b[0m | \u001b[0m 33.59   \u001b[0m | \u001b[0m 0.8681  \u001b[0m |\n",
      "| \u001b[0m 27      \u001b[0m | \u001b[0m 0.7685  \u001b[0m | \u001b[0m 0.809   \u001b[0m | \u001b[0m 0.04494 \u001b[0m | \u001b[0m 29.86   \u001b[0m | \u001b[0m 19.34   \u001b[0m | \u001b[0m 11.63   \u001b[0m | \u001b[0m 171.1   \u001b[0m | \u001b[0m 20.41   \u001b[0m | \u001b[0m 0.9138  \u001b[0m |\n",
      "| \u001b[0m 28      \u001b[0m | \u001b[0m 0.7684  \u001b[0m | \u001b[0m 0.7852  \u001b[0m | \u001b[0m 0.01979 \u001b[0m | \u001b[0m 23.82   \u001b[0m | \u001b[0m 31.62   \u001b[0m | \u001b[0m 11.29   \u001b[0m | \u001b[0m 219.8   \u001b[0m | \u001b[0m 25.47   \u001b[0m | \u001b[0m 0.9197  \u001b[0m |\n",
      "| \u001b[0m 29      \u001b[0m | \u001b[0m 0.7683  \u001b[0m | \u001b[0m 0.7704  \u001b[0m | \u001b[0m 0.04769 \u001b[0m | \u001b[0m 25.31   \u001b[0m | \u001b[0m 19.31   \u001b[0m | \u001b[0m 14.47   \u001b[0m | \u001b[0m 208.5   \u001b[0m | \u001b[0m 25.08   \u001b[0m | \u001b[0m 0.832   \u001b[0m |\n",
      "| \u001b[0m 30      \u001b[0m | \u001b[0m 0.7641  \u001b[0m | \u001b[0m 0.807   \u001b[0m | \u001b[0m 0.002257\u001b[0m | \u001b[0m 18.11   \u001b[0m | \u001b[0m 23.49   \u001b[0m | \u001b[0m 8.742   \u001b[0m | \u001b[0m 187.1   \u001b[0m | \u001b[0m 25.55   \u001b[0m | \u001b[0m 0.888   \u001b[0m |\n",
      "| \u001b[0m 31      \u001b[0m | \u001b[0m 0.7656  \u001b[0m | \u001b[0m 0.845   \u001b[0m | \u001b[0m 0.006759\u001b[0m | \u001b[0m 22.76   \u001b[0m | \u001b[0m 17.64   \u001b[0m | \u001b[0m 12.17   \u001b[0m | \u001b[0m 181.7   \u001b[0m | \u001b[0m 31.31   \u001b[0m | \u001b[0m 0.8275  \u001b[0m |\n",
      "| \u001b[0m 32      \u001b[0m | \u001b[0m 0.7691  \u001b[0m | \u001b[0m 0.7659  \u001b[0m | \u001b[0m 0.02491 \u001b[0m | \u001b[0m 20.33   \u001b[0m | \u001b[0m 33.81   \u001b[0m | \u001b[0m 12.65   \u001b[0m | \u001b[0m 209.9   \u001b[0m | \u001b[0m 38.07   \u001b[0m | \u001b[0m 0.8125  \u001b[0m |\n",
      "| \u001b[0m 33      \u001b[0m | \u001b[0m 0.7683  \u001b[0m | \u001b[0m 0.8107  \u001b[0m | \u001b[0m 0.02964 \u001b[0m | \u001b[0m 29.43   \u001b[0m | \u001b[0m 20.84   \u001b[0m | \u001b[0m 7.408   \u001b[0m | \u001b[0m 158.0   \u001b[0m | \u001b[0m 20.33   \u001b[0m | \u001b[0m 0.9394  \u001b[0m |\n",
      "| \u001b[0m 34      \u001b[0m | \u001b[0m 0.7683  \u001b[0m | \u001b[0m 0.8237  \u001b[0m | \u001b[0m 0.03947 \u001b[0m | \u001b[0m 19.23   \u001b[0m | \u001b[0m 26.73   \u001b[0m | \u001b[0m 5.64    \u001b[0m | \u001b[0m 188.9   \u001b[0m | \u001b[0m 39.55   \u001b[0m | \u001b[0m 0.9315  \u001b[0m |\n",
      "| \u001b[0m 35      \u001b[0m | \u001b[0m 0.7678  \u001b[0m | \u001b[0m 0.7872  \u001b[0m | \u001b[0m 0.04812 \u001b[0m | \u001b[0m 18.48   \u001b[0m | \u001b[0m 33.99   \u001b[0m | \u001b[0m 14.41   \u001b[0m | \u001b[0m 213.9   \u001b[0m | \u001b[0m 32.61   \u001b[0m | \u001b[0m 0.9311  \u001b[0m |\n",
      "| \u001b[0m 36      \u001b[0m | \u001b[0m 0.7685  \u001b[0m | \u001b[0m 0.7822  \u001b[0m | \u001b[0m 0.0426  \u001b[0m | \u001b[0m 24.27   \u001b[0m | \u001b[0m 15.26   \u001b[0m | \u001b[0m 8.472   \u001b[0m | \u001b[0m 161.9   \u001b[0m | \u001b[0m 39.64   \u001b[0m | \u001b[0m 0.8718  \u001b[0m |\n",
      "| \u001b[0m 37      \u001b[0m | \u001b[0m 0.7687  \u001b[0m | \u001b[0m 0.8047  \u001b[0m | \u001b[0m 0.03233 \u001b[0m | \u001b[0m 20.53   \u001b[0m | \u001b[0m 17.74   \u001b[0m | \u001b[0m 13.22   \u001b[0m | \u001b[0m 165.2   \u001b[0m | \u001b[0m 30.23   \u001b[0m | \u001b[0m 0.8336  \u001b[0m |\n",
      "| \u001b[0m 38      \u001b[0m | \u001b[0m 0.7683  \u001b[0m | \u001b[0m 0.7608  \u001b[0m | \u001b[0m 0.04325 \u001b[0m | \u001b[0m 29.59   \u001b[0m | \u001b[0m 34.22   \u001b[0m | \u001b[0m 14.07   \u001b[0m | \u001b[0m 211.9   \u001b[0m | \u001b[0m 26.66   \u001b[0m | \u001b[0m 0.8122  \u001b[0m |\n",
      "| \u001b[0m 39      \u001b[0m | \u001b[0m 0.7675  \u001b[0m | \u001b[0m 0.7948  \u001b[0m | \u001b[0m 0.01238 \u001b[0m | \u001b[0m 16.99   \u001b[0m | \u001b[0m 16.07   \u001b[0m | \u001b[0m 12.26   \u001b[0m | \u001b[0m 150.9   \u001b[0m | \u001b[0m 35.41   \u001b[0m | \u001b[0m 0.822   \u001b[0m |\n",
      "| \u001b[0m 40      \u001b[0m | \u001b[0m 0.7665  \u001b[0m | \u001b[0m 0.7587  \u001b[0m | \u001b[0m 0.005391\u001b[0m | \u001b[0m 25.08   \u001b[0m | \u001b[0m 19.91   \u001b[0m | \u001b[0m 9.205   \u001b[0m | \u001b[0m 194.6   \u001b[0m | \u001b[0m 37.21   \u001b[0m | \u001b[0m 0.9091  \u001b[0m |\n"
     ]
    },
    {
     "name": "stdout",
     "output_type": "stream",
     "text": [
      "| \u001b[0m 41      \u001b[0m | \u001b[0m 0.7685  \u001b[0m | \u001b[0m 0.8176  \u001b[0m | \u001b[0m 0.04105 \u001b[0m | \u001b[0m 25.64   \u001b[0m | \u001b[0m 29.94   \u001b[0m | \u001b[0m 12.76   \u001b[0m | \u001b[0m 206.3   \u001b[0m | \u001b[0m 22.33   \u001b[0m | \u001b[0m 0.8501  \u001b[0m |\n",
      "| \u001b[0m 42      \u001b[0m | \u001b[0m 0.7688  \u001b[0m | \u001b[0m 0.8342  \u001b[0m | \u001b[0m 0.03294 \u001b[0m | \u001b[0m 25.53   \u001b[0m | \u001b[0m 27.5    \u001b[0m | \u001b[0m 12.06   \u001b[0m | \u001b[0m 214.9   \u001b[0m | \u001b[0m 34.17   \u001b[0m | \u001b[0m 0.9268  \u001b[0m |\n",
      "| \u001b[0m 43      \u001b[0m | \u001b[0m 0.7688  \u001b[0m | \u001b[0m 0.7901  \u001b[0m | \u001b[0m 0.02638 \u001b[0m | \u001b[0m 24.49   \u001b[0m | \u001b[0m 25.8    \u001b[0m | \u001b[0m 14.3    \u001b[0m | \u001b[0m 211.0   \u001b[0m | \u001b[0m 26.69   \u001b[0m | \u001b[0m 0.8231  \u001b[0m |\n",
      "| \u001b[0m 44      \u001b[0m | \u001b[0m 0.7683  \u001b[0m | \u001b[0m 0.8167  \u001b[0m | \u001b[0m 0.01755 \u001b[0m | \u001b[0m 25.98   \u001b[0m | \u001b[0m 34.92   \u001b[0m | \u001b[0m 8.204   \u001b[0m | \u001b[0m 201.3   \u001b[0m | \u001b[0m 24.94   \u001b[0m | \u001b[0m 0.8466  \u001b[0m |\n",
      "| \u001b[0m 45      \u001b[0m | \u001b[0m 0.7667  \u001b[0m | \u001b[0m 0.8146  \u001b[0m | \u001b[0m 0.007451\u001b[0m | \u001b[0m 17.1    \u001b[0m | \u001b[0m 16.35   \u001b[0m | \u001b[0m 14.75   \u001b[0m | \u001b[0m 214.7   \u001b[0m | \u001b[0m 32.18   \u001b[0m | \u001b[0m 0.8131  \u001b[0m |\n",
      "| \u001b[0m 46      \u001b[0m | \u001b[0m 0.7686  \u001b[0m | \u001b[0m 0.8447  \u001b[0m | \u001b[0m 0.02232 \u001b[0m | \u001b[0m 20.98   \u001b[0m | \u001b[0m 26.58   \u001b[0m | \u001b[0m 11.0    \u001b[0m | \u001b[0m 181.4   \u001b[0m | \u001b[0m 27.0    \u001b[0m | \u001b[0m 0.929   \u001b[0m |\n",
      "| \u001b[0m 47      \u001b[0m | \u001b[0m 0.7681  \u001b[0m | \u001b[0m 0.8145  \u001b[0m | \u001b[0m 0.04661 \u001b[0m | \u001b[0m 22.84   \u001b[0m | \u001b[0m 21.08   \u001b[0m | \u001b[0m 13.85   \u001b[0m | \u001b[0m 165.8   \u001b[0m | \u001b[0m 33.65   \u001b[0m | \u001b[0m 0.8558  \u001b[0m |\n",
      "| \u001b[0m 48      \u001b[0m | \u001b[0m 0.7684  \u001b[0m | \u001b[0m 0.8447  \u001b[0m | \u001b[0m 0.04    \u001b[0m | \u001b[0m 26.01   \u001b[0m | \u001b[0m 24.3    \u001b[0m | \u001b[0m 7.68    \u001b[0m | \u001b[0m 170.1   \u001b[0m | \u001b[0m 20.53   \u001b[0m | \u001b[0m 0.8148  \u001b[0m |\n",
      "| \u001b[0m 49      \u001b[0m | \u001b[0m 0.7678  \u001b[0m | \u001b[0m 0.7676  \u001b[0m | \u001b[0m 0.04943 \u001b[0m | \u001b[0m 19.4    \u001b[0m | \u001b[0m 31.91   \u001b[0m | \u001b[0m 11.8    \u001b[0m | \u001b[0m 178.1   \u001b[0m | \u001b[0m 27.08   \u001b[0m | \u001b[0m 0.9249  \u001b[0m |\n",
      "| \u001b[0m 50      \u001b[0m | \u001b[0m 0.7688  \u001b[0m | \u001b[0m 0.7664  \u001b[0m | \u001b[0m 0.03087 \u001b[0m | \u001b[0m 23.6    \u001b[0m | \u001b[0m 24.87   \u001b[0m | \u001b[0m 12.7    \u001b[0m | \u001b[0m 177.8   \u001b[0m | \u001b[0m 25.25   \u001b[0m | \u001b[0m 0.9322  \u001b[0m |\n",
      "=========================================================================================================================\n"
     ]
    }
   ],
   "source": [
    "BO_lgbm.maximize(init_points=40, n_iter=10)"
   ]
  },
  {
   "cell_type": "code",
   "execution_count": 25,
   "metadata": {
    "colab": {
     "base_uri": "https://localhost:8080/",
     "height": 143
    },
    "id": "UAQkYnc0vZoE",
    "outputId": "d1a8724b-ec75-4b58-ec0c-c3f42e25ce3d"
   },
   "outputs": [
    {
     "data": {
      "text/plain": [
       "{'colsample_bytree': 0.7678742228144012,\n",
       " 'learning_rate': 0.031162418649908367,\n",
       " 'max_depth': 17,\n",
       " 'min_child_samples': 32,\n",
       " 'min_child_weight': 13.073189587250107,\n",
       " 'n_estimators': 196,\n",
       " 'num_leaves': 28,\n",
       " 'subsample': 0.8103750493182708,\n",
       " 'objective': 'binary',\n",
       " 'n_jobs': -1}"
      ]
     },
     "execution_count": 25,
     "metadata": {},
     "output_type": "execute_result"
    }
   ],
   "source": [
    "# BO_rf.res  # 모든 성능 들어가있음\n",
    "BO_lgbm.max\n",
    "\n",
    "max_params = BO_lgbm.max['params']\n",
    "\n",
    "max_params['n_estimators'] = int(round(max_params['n_estimators']))\n",
    "max_params['max_depth'] = int(round(max_params['max_depth']))\n",
    "max_params['min_child_samples'] = int(round(max_params['min_child_samples']))\n",
    "max_params['num_leaves'] = int(round(max_params['num_leaves']))\n",
    "max_params['objective'] = 'binary'\n",
    "max_params['n_jobs'] = -1\n",
    "\n",
    "max_params"
   ]
  },
  {
   "cell_type": "code",
   "execution_count": 26,
   "metadata": {
    "colab": {
     "base_uri": "https://localhost:8080/",
     "height": 71
    },
    "id": "J3hiDfZjvZoF",
    "outputId": "7d88bf30-d183-4827-f35b-aa511eab2a97"
   },
   "outputs": [
    {
     "name": "stdout",
     "output_type": "stream",
     "text": [
      "[0.76846999 0.76794561 0.77503107 0.76543603]\n",
      "최대성능: 0.7750310685745978\n",
      "평균성능: 0.7692206737930612\n"
     ]
    }
   ],
   "source": [
    "lgbm_clf = LGBMClassifier(**max_params)\n",
    "\n",
    "scores = cross_val_score(lgbm_clf, X_train, y_train, scoring='roc_auc', cv=cv, n_jobs=-1)\n",
    "\n",
    "print(scores)\n",
    "print(f'최대성능: {max(scores)}\\n평균성능: {np.mean(scores)}')\n",
    "\n",
    "BO_tuned_clfs.append((lgbm_clf.__class__.__name__, lgbm_clf, np.mean(scores)))"
   ]
  },
  {
   "cell_type": "markdown",
   "metadata": {
    "id": "5C3-U6wlvZo0"
   },
   "source": [
    "<font color = 'blue'> \n",
    "\n",
    "# 여섯번째 BO_tuned_clfs "
   ]
  },
  {
   "cell_type": "markdown",
   "metadata": {
    "id": "WLR5NIkmvZo1"
   },
   "source": [
    "lgb_clf"
   ]
  },
  {
   "cell_type": "code",
   "execution_count": 27,
   "metadata": {
    "id": "orLNU7bLvZoA"
   },
   "outputs": [],
   "source": [
    "pbounds = { 'learning_rate': (0.001, 0.05),\n",
    "            'n_estimators': (100, 150),\n",
    "            'max_depth': (10,20),   \n",
    "            'min_child_samples' : (15, 30),\n",
    "            'subsample': (0.8,0.92), \n",
    "            'colsample_bytree': (0.76,0.85),   \n",
    "            'num_leaves': (15,35),\n",
    "            'min_child_weight': (5, 10)}\n",
    "\n",
    "\n",
    "def lgbm_opt(learning_rate, n_estimators, max_depth, min_child_samples, subsample, colsample_bytree, num_leaves, min_child_weight):\n",
    "\n",
    "    params = {\n",
    "        'learning_rate': learning_rate,\n",
    "        'n_estimators' : int(round(n_estimators)),\n",
    "        'max_depth' : int(round(max_depth)),\n",
    "        'min_child_samples' : int(round(min_child_samples)),\n",
    "        'subsample': subsample,\n",
    "        'colsample_bytree' : colsample_bytree,\n",
    "        'num_leaves' : int(round(num_leaves)),\n",
    "        'min_child_weight' : min_child_weight,\n",
    "        'objective' : 'binary',\n",
    "        'n_jobs' : -1\n",
    "    }\n",
    "    \n",
    "    lgbm = LGBMClassifier(**params)\n",
    "    \n",
    "    score = cross_val_score(lgbm, X_train, y_train, scoring='roc_auc', cv=cv, n_jobs=-1)\n",
    "    \n",
    "    return np.mean(score)\n",
    "\n",
    "BO_lgbm = BayesianOptimization(f = lgbm_opt, pbounds = pbounds, random_state=0)    \n"
   ]
  },
  {
   "cell_type": "code",
   "execution_count": 28,
   "metadata": {
    "colab": {
     "base_uri": "https://localhost:8080/",
     "height": 1000
    },
    "id": "FEUretOMvZoC",
    "outputId": "fbf7185d-1f26-42a2-9c03-f1e069666388",
    "scrolled": true
   },
   "outputs": [
    {
     "name": "stdout",
     "output_type": "stream",
     "text": [
      "|   iter    |  target   | colsam... | learni... | max_depth | min_ch... | min_ch... | n_esti... | num_le... | subsample |\n",
      "-------------------------------------------------------------------------------------------------------------------------\n",
      "| \u001b[0m 1       \u001b[0m | \u001b[0m 0.7686  \u001b[0m | \u001b[0m 0.8094  \u001b[0m | \u001b[0m 0.03604 \u001b[0m | \u001b[0m 16.03   \u001b[0m | \u001b[0m 23.17   \u001b[0m | \u001b[0m 7.118   \u001b[0m | \u001b[0m 132.3   \u001b[0m | \u001b[0m 23.75   \u001b[0m | \u001b[0m 0.907   \u001b[0m |\n",
      "| \u001b[0m 2       \u001b[0m | \u001b[0m 0.7666  \u001b[0m | \u001b[0m 0.8467  \u001b[0m | \u001b[0m 0.01979 \u001b[0m | \u001b[0m 17.92   \u001b[0m | \u001b[0m 22.93   \u001b[0m | \u001b[0m 7.84    \u001b[0m | \u001b[0m 146.3   \u001b[0m | \u001b[0m 16.42   \u001b[0m | \u001b[0m 0.8105  \u001b[0m |\n",
      "| \u001b[95m 3       \u001b[0m | \u001b[95m 0.7686  \u001b[0m | \u001b[95m 0.7618  \u001b[0m | \u001b[95m 0.0418  \u001b[0m | \u001b[95m 17.78   \u001b[0m | \u001b[95m 28.05   \u001b[0m | \u001b[95m 9.893   \u001b[0m | \u001b[95m 140.0   \u001b[0m | \u001b[95m 24.23   \u001b[0m | \u001b[95m 0.8937  \u001b[0m |\n",
      "| \u001b[0m 4       \u001b[0m | \u001b[0m 0.7681  \u001b[0m | \u001b[0m 0.7706  \u001b[0m | \u001b[0m 0.03236 \u001b[0m | \u001b[0m 11.43   \u001b[0m | \u001b[0m 29.17   \u001b[0m | \u001b[0m 7.609   \u001b[0m | \u001b[0m 120.7   \u001b[0m | \u001b[0m 20.29   \u001b[0m | \u001b[0m 0.8929  \u001b[0m |\n",
      "| \u001b[0m 5       \u001b[0m | \u001b[0m 0.7682  \u001b[0m | \u001b[0m 0.8011  \u001b[0m | \u001b[0m 0.02885 \u001b[0m | \u001b[0m 10.19   \u001b[0m | \u001b[0m 24.26   \u001b[0m | \u001b[0m 8.06    \u001b[0m | \u001b[0m 130.8   \u001b[0m | \u001b[0m 33.87   \u001b[0m | \u001b[0m 0.8818  \u001b[0m |\n",
      "| \u001b[0m 6       \u001b[0m | \u001b[0m 0.7673  \u001b[0m | \u001b[0m 0.7924  \u001b[0m | \u001b[0m 0.02241 \u001b[0m | \u001b[0m 16.98   \u001b[0m | \u001b[0m 15.9    \u001b[0m | \u001b[0m 8.334   \u001b[0m | \u001b[0m 133.5   \u001b[0m | \u001b[0m 19.21   \u001b[0m | \u001b[0m 0.8155  \u001b[0m |\n",
      "| \u001b[0m 7       \u001b[0m | \u001b[0m 0.766   \u001b[0m | \u001b[0m 0.7884  \u001b[0m | \u001b[0m 0.01882 \u001b[0m | \u001b[0m 15.7    \u001b[0m | \u001b[0m 21.58   \u001b[0m | \u001b[0m 9.942   \u001b[0m | \u001b[0m 105.1   \u001b[0m | \u001b[0m 19.18   \u001b[0m | \u001b[0m 0.8194  \u001b[0m |\n",
      "| \u001b[0m 8       \u001b[0m | \u001b[0m 0.7662  \u001b[0m | \u001b[0m 0.8188  \u001b[0m | \u001b[0m 0.01341 \u001b[0m | \u001b[0m 14.66   \u001b[0m | \u001b[0m 18.67   \u001b[0m | \u001b[0m 5.795   \u001b[0m | \u001b[0m 105.5   \u001b[0m | \u001b[0m 28.13   \u001b[0m | \u001b[0m 0.8166  \u001b[0m |\n",
      "| \u001b[0m 9       \u001b[0m | \u001b[0m 0.7677  \u001b[0m | \u001b[0m 0.7777  \u001b[0m | \u001b[0m 0.01907 \u001b[0m | \u001b[0m 18.21   \u001b[0m | \u001b[0m 16.46   \u001b[0m | \u001b[0m 9.19    \u001b[0m | \u001b[0m 104.8   \u001b[0m | \u001b[0m 34.53   \u001b[0m | \u001b[0m 0.8562  \u001b[0m |\n",
      "| \u001b[0m 10      \u001b[0m | \u001b[0m 0.7676  \u001b[0m | \u001b[0m 0.8479  \u001b[0m | \u001b[0m 0.03064 \u001b[0m | \u001b[0m 17.39   \u001b[0m | \u001b[0m 15.59   \u001b[0m | \u001b[0m 6.414   \u001b[0m | \u001b[0m 106.0   \u001b[0m | \u001b[0m 20.92   \u001b[0m | \u001b[0m 0.8142  \u001b[0m |\n",
      "| \u001b[0m 11      \u001b[0m | \u001b[0m 0.7674  \u001b[0m | \u001b[0m 0.7886  \u001b[0m | \u001b[0m 0.0213  \u001b[0m | \u001b[0m 10.64   \u001b[0m | \u001b[0m 25.39   \u001b[0m | \u001b[0m 7.833   \u001b[0m | \u001b[0m 113.3   \u001b[0m | \u001b[0m 25.46   \u001b[0m | \u001b[0m 0.8113  \u001b[0m |\n",
      "| \u001b[0m 12      \u001b[0m | \u001b[0m 0.768   \u001b[0m | \u001b[0m 0.8118  \u001b[0m | \u001b[0m 0.04654 \u001b[0m | \u001b[0m 13.19   \u001b[0m | \u001b[0m 25.01   \u001b[0m | \u001b[0m 5.659   \u001b[0m | \u001b[0m 135.8   \u001b[0m | \u001b[0m 20.79   \u001b[0m | \u001b[0m 0.822   \u001b[0m |\n",
      "| \u001b[0m 13      \u001b[0m | \u001b[0m 0.7642  \u001b[0m | \u001b[0m 0.8128  \u001b[0m | \u001b[0m 0.001985\u001b[0m | \u001b[0m 18.29   \u001b[0m | \u001b[0m 15.07   \u001b[0m | \u001b[0m 8.389   \u001b[0m | \u001b[0m 113.5   \u001b[0m | \u001b[0m 29.7    \u001b[0m | \u001b[0m 0.9155  \u001b[0m |\n",
      "| \u001b[0m 14      \u001b[0m | \u001b[0m 0.7686  \u001b[0m | \u001b[0m 0.7824  \u001b[0m | \u001b[0m 0.02923 \u001b[0m | \u001b[0m 15.92   \u001b[0m | \u001b[0m 23.58   \u001b[0m | \u001b[0m 6.115   \u001b[0m | \u001b[0m 147.6   \u001b[0m | \u001b[0m 23.94   \u001b[0m | \u001b[0m 0.9016  \u001b[0m |\n",
      "| \u001b[0m 15      \u001b[0m | \u001b[0m 0.7673  \u001b[0m | \u001b[0m 0.823   \u001b[0m | \u001b[0m 0.01557 \u001b[0m | \u001b[0m 18.14   \u001b[0m | \u001b[0m 20.95   \u001b[0m | \u001b[0m 9.406   \u001b[0m | \u001b[0m 129.1   \u001b[0m | \u001b[0m 32.63   \u001b[0m | \u001b[0m 0.8831  \u001b[0m |\n",
      "| \u001b[0m 16      \u001b[0m | \u001b[0m 0.7668  \u001b[0m | \u001b[0m 0.8253  \u001b[0m | \u001b[0m 0.02556 \u001b[0m | \u001b[0m 19.56   \u001b[0m | \u001b[0m 24.66   \u001b[0m | \u001b[0m 7.119   \u001b[0m | \u001b[0m 130.3   \u001b[0m | \u001b[0m 15.38   \u001b[0m | \u001b[0m 0.8362  \u001b[0m |\n",
      "| \u001b[0m 17      \u001b[0m | \u001b[0m 0.7667  \u001b[0m | \u001b[0m 0.8194  \u001b[0m | \u001b[0m 0.01521 \u001b[0m | \u001b[0m 16.18   \u001b[0m | \u001b[0m 21.43   \u001b[0m | \u001b[0m 5.677   \u001b[0m | \u001b[0m 114.9   \u001b[0m | \u001b[0m 26.4    \u001b[0m | \u001b[0m 0.8709  \u001b[0m |\n",
      "| \u001b[0m 18      \u001b[0m | \u001b[0m 0.7685  \u001b[0m | \u001b[0m 0.8117  \u001b[0m | \u001b[0m 0.03301 \u001b[0m | \u001b[0m 16.52   \u001b[0m | \u001b[0m 21.47   \u001b[0m | \u001b[0m 9.483   \u001b[0m | \u001b[0m 118.4   \u001b[0m | \u001b[0m 23.72   \u001b[0m | \u001b[0m 0.907   \u001b[0m |\n",
      "| \u001b[0m 19      \u001b[0m | \u001b[0m 0.7686  \u001b[0m | \u001b[0m 0.8326  \u001b[0m | \u001b[0m 0.03549 \u001b[0m | \u001b[0m 11.0    \u001b[0m | \u001b[0m 28.79   \u001b[0m | \u001b[0m 8.571   \u001b[0m | \u001b[0m 149.9   \u001b[0m | \u001b[0m 17.99   \u001b[0m | \u001b[0m 0.9042  \u001b[0m |\n",
      "| \u001b[0m 20      \u001b[0m | \u001b[0m 0.7682  \u001b[0m | \u001b[0m 0.7746  \u001b[0m | \u001b[0m 0.03116 \u001b[0m | \u001b[0m 11.24   \u001b[0m | \u001b[0m 27.72   \u001b[0m | \u001b[0m 9.037   \u001b[0m | \u001b[0m 128.5   \u001b[0m | \u001b[0m 23.14   \u001b[0m | \u001b[0m 0.8083  \u001b[0m |\n",
      "| \u001b[0m 21      \u001b[0m | \u001b[0m 0.7667  \u001b[0m | \u001b[0m 0.8228  \u001b[0m | \u001b[0m 0.02322 \u001b[0m | \u001b[0m 17.22   \u001b[0m | \u001b[0m 28.0    \u001b[0m | \u001b[0m 9.878   \u001b[0m | \u001b[0m 142.8   \u001b[0m | \u001b[0m 15.23   \u001b[0m | \u001b[0m 0.8432  \u001b[0m |\n",
      "| \u001b[0m 22      \u001b[0m | \u001b[0m 0.7652  \u001b[0m | \u001b[0m 0.8257  \u001b[0m | \u001b[0m 0.00941 \u001b[0m | \u001b[0m 15.21   \u001b[0m | \u001b[0m 15.82   \u001b[0m | \u001b[0m 6.0     \u001b[0m | \u001b[0m 100.9   \u001b[0m | \u001b[0m 30.87   \u001b[0m | \u001b[0m 0.8269  \u001b[0m |\n",
      "| \u001b[0m 23      \u001b[0m | \u001b[0m 0.7681  \u001b[0m | \u001b[0m 0.7911  \u001b[0m | \u001b[0m 0.04648 \u001b[0m | \u001b[0m 17.04   \u001b[0m | \u001b[0m 15.48   \u001b[0m | \u001b[0m 5.823   \u001b[0m | \u001b[0m 131.1   \u001b[0m | \u001b[0m 26.54   \u001b[0m | \u001b[0m 0.8285  \u001b[0m |\n",
      "| \u001b[0m 24      \u001b[0m | \u001b[0m 0.7682  \u001b[0m | \u001b[0m 0.8441  \u001b[0m | \u001b[0m 0.03108 \u001b[0m | \u001b[0m 15.36   \u001b[0m | \u001b[0m 23.85   \u001b[0m | \u001b[0m 8.651   \u001b[0m | \u001b[0m 115.6   \u001b[0m | \u001b[0m 22.96   \u001b[0m | \u001b[0m 0.8252  \u001b[0m |\n",
      "| \u001b[0m 25      \u001b[0m | \u001b[0m 0.768   \u001b[0m | \u001b[0m 0.7768  \u001b[0m | \u001b[0m 0.04727 \u001b[0m | \u001b[0m 17.4    \u001b[0m | \u001b[0m 22.36   \u001b[0m | \u001b[0m 6.137   \u001b[0m | \u001b[0m 112.7   \u001b[0m | \u001b[0m 16.16   \u001b[0m | \u001b[0m 0.8521  \u001b[0m |\n",
      "| \u001b[0m 26      \u001b[0m | \u001b[0m 0.7681  \u001b[0m | \u001b[0m 0.7881  \u001b[0m | \u001b[0m 0.03512 \u001b[0m | \u001b[0m 13.78   \u001b[0m | \u001b[0m 17.69   \u001b[0m | \u001b[0m 5.123   \u001b[0m | \u001b[0m 103.4   \u001b[0m | \u001b[0m 28.59   \u001b[0m | \u001b[0m 0.8544  \u001b[0m |\n",
      "| \u001b[0m 27      \u001b[0m | \u001b[0m 0.7681  \u001b[0m | \u001b[0m 0.8083  \u001b[0m | \u001b[0m 0.04494 \u001b[0m | \u001b[0m 19.9    \u001b[0m | \u001b[0m 18.25   \u001b[0m | \u001b[0m 8.315   \u001b[0m | \u001b[0m 113.2   \u001b[0m | \u001b[0m 15.41   \u001b[0m | \u001b[0m 0.891   \u001b[0m |\n",
      "| \u001b[0m 28      \u001b[0m | \u001b[0m 0.7672  \u001b[0m | \u001b[0m 0.7888  \u001b[0m | \u001b[0m 0.01979 \u001b[0m | \u001b[0m 15.88   \u001b[0m | \u001b[0m 27.47   \u001b[0m | \u001b[0m 8.145   \u001b[0m | \u001b[0m 143.6   \u001b[0m | \u001b[0m 20.47   \u001b[0m | \u001b[0m 0.8958  \u001b[0m |\n",
      "| \u001b[0m 29      \u001b[0m | \u001b[0m 0.7682  \u001b[0m | \u001b[0m 0.7767  \u001b[0m | \u001b[0m 0.04769 \u001b[0m | \u001b[0m 16.87   \u001b[0m | \u001b[0m 18.23   \u001b[0m | \u001b[0m 9.737   \u001b[0m | \u001b[0m 136.5   \u001b[0m | \u001b[0m 20.08   \u001b[0m | \u001b[0m 0.8256  \u001b[0m |\n",
      "| \u001b[0m 30      \u001b[0m | \u001b[0m 0.7632  \u001b[0m | \u001b[0m 0.8066  \u001b[0m | \u001b[0m 0.002257\u001b[0m | \u001b[0m 12.07   \u001b[0m | \u001b[0m 21.37   \u001b[0m | \u001b[0m 6.871   \u001b[0m | \u001b[0m 123.2   \u001b[0m | \u001b[0m 20.55   \u001b[0m | \u001b[0m 0.8704  \u001b[0m |\n",
      "| \u001b[0m 31      \u001b[0m | \u001b[0m 0.7643  \u001b[0m | \u001b[0m 0.8377  \u001b[0m | \u001b[0m 0.006759\u001b[0m | \u001b[0m 15.17   \u001b[0m | \u001b[0m 16.98   \u001b[0m | \u001b[0m 8.584   \u001b[0m | \u001b[0m 119.8   \u001b[0m | \u001b[0m 26.31   \u001b[0m | \u001b[0m 0.822   \u001b[0m |\n",
      "| \u001b[0m 32      \u001b[0m | \u001b[0m 0.7684  \u001b[0m | \u001b[0m 0.773   \u001b[0m | \u001b[0m 0.02491 \u001b[0m | \u001b[0m 13.56   \u001b[0m | \u001b[0m 29.11   \u001b[0m | \u001b[0m 8.827   \u001b[0m | \u001b[0m 137.4   \u001b[0m | \u001b[0m 33.07   \u001b[0m | \u001b[0m 0.81    \u001b[0m |\n",
      "| \u001b[0m 33      \u001b[0m | \u001b[0m 0.7665  \u001b[0m | \u001b[0m 0.8097  \u001b[0m | \u001b[0m 0.02964 \u001b[0m | \u001b[0m 19.62   \u001b[0m | \u001b[0m 19.38   \u001b[0m | \u001b[0m 6.204   \u001b[0m | \u001b[0m 105.0   \u001b[0m | \u001b[0m 15.33   \u001b[0m | \u001b[0m 0.9115  \u001b[0m |\n",
      "| \u001b[0m 34      \u001b[0m | \u001b[0m 0.7685  \u001b[0m | \u001b[0m 0.8203  \u001b[0m | \u001b[0m 0.03947 \u001b[0m | \u001b[0m 12.82   \u001b[0m | \u001b[0m 23.8    \u001b[0m | \u001b[0m 5.32    \u001b[0m | \u001b[0m 124.3   \u001b[0m | \u001b[0m 34.55   \u001b[0m | \u001b[0m 0.9052  \u001b[0m |\n",
      "| \u001b[0m 35      \u001b[0m | \u001b[0m 0.7685  \u001b[0m | \u001b[0m 0.7904  \u001b[0m | \u001b[0m 0.04812 \u001b[0m | \u001b[0m 12.32   \u001b[0m | \u001b[0m 29.24   \u001b[0m | \u001b[0m 9.707   \u001b[0m | \u001b[0m 140.0   \u001b[0m | \u001b[0m 27.61   \u001b[0m | \u001b[0m 0.9049  \u001b[0m |\n",
      "| \u001b[95m 36      \u001b[0m | \u001b[95m 0.7687  \u001b[0m | \u001b[95m 0.7864  \u001b[0m | \u001b[95m 0.0426  \u001b[0m | \u001b[95m 16.18   \u001b[0m | \u001b[95m 15.2    \u001b[0m | \u001b[95m 6.736   \u001b[0m | \u001b[95m 107.4   \u001b[0m | \u001b[95m 34.64   \u001b[0m | \u001b[95m 0.8574  \u001b[0m |\n",
      "| \u001b[0m 37      \u001b[0m | \u001b[0m 0.7679  \u001b[0m | \u001b[0m 0.8048  \u001b[0m | \u001b[0m 0.03233 \u001b[0m | \u001b[0m 13.69   \u001b[0m | \u001b[0m 17.05   \u001b[0m | \u001b[0m 9.111   \u001b[0m | \u001b[0m 109.5   \u001b[0m | \u001b[0m 25.23   \u001b[0m | \u001b[0m 0.8269  \u001b[0m |\n",
      "| \u001b[95m 38      \u001b[0m | \u001b[95m 0.7687  \u001b[0m | \u001b[95m 0.7688  \u001b[0m | \u001b[95m 0.04325 \u001b[0m | \u001b[95m 19.73   \u001b[0m | \u001b[95m 29.41   \u001b[0m | \u001b[95m 9.533   \u001b[0m | \u001b[95m 138.7   \u001b[0m | \u001b[95m 21.66   \u001b[0m | \u001b[95m 0.8097  \u001b[0m |\n",
      "| \u001b[0m 39      \u001b[0m | \u001b[0m 0.766   \u001b[0m | \u001b[0m 0.7967  \u001b[0m | \u001b[0m 0.01238 \u001b[0m | \u001b[0m 11.32   \u001b[0m | \u001b[0m 15.8    \u001b[0m | \u001b[0m 8.628   \u001b[0m | \u001b[0m 100.6   \u001b[0m | \u001b[0m 30.41   \u001b[0m | \u001b[0m 0.8176  \u001b[0m |\n",
      "| \u001b[0m 40      \u001b[0m | \u001b[0m 0.7658  \u001b[0m | \u001b[0m 0.7672  \u001b[0m | \u001b[0m 0.005391\u001b[0m | \u001b[0m 16.72   \u001b[0m | \u001b[0m 18.68   \u001b[0m | \u001b[0m 7.103   \u001b[0m | \u001b[0m 127.9   \u001b[0m | \u001b[0m 32.21   \u001b[0m | \u001b[0m 0.8872  \u001b[0m |\n"
     ]
    },
    {
     "name": "stdout",
     "output_type": "stream",
     "text": [
      "| \u001b[0m 41      \u001b[0m | \u001b[0m 0.7684  \u001b[0m | \u001b[0m 0.8153  \u001b[0m | \u001b[0m 0.04105 \u001b[0m | \u001b[0m 17.1    \u001b[0m | \u001b[0m 26.21   \u001b[0m | \u001b[0m 8.88    \u001b[0m | \u001b[0m 135.2   \u001b[0m | \u001b[0m 17.33   \u001b[0m | \u001b[0m 0.8401  \u001b[0m |\n",
      "| \u001b[0m 42      \u001b[0m | \u001b[0m 0.7686  \u001b[0m | \u001b[0m 0.8289  \u001b[0m | \u001b[0m 0.03294 \u001b[0m | \u001b[0m 17.02   \u001b[0m | \u001b[0m 24.37   \u001b[0m | \u001b[0m 8.529   \u001b[0m | \u001b[0m 140.6   \u001b[0m | \u001b[0m 29.17   \u001b[0m | \u001b[0m 0.9014  \u001b[0m |\n",
      "| \u001b[0m 43      \u001b[0m | \u001b[0m 0.7681  \u001b[0m | \u001b[0m 0.7928  \u001b[0m | \u001b[0m 0.02638 \u001b[0m | \u001b[0m 16.33   \u001b[0m | \u001b[0m 23.1    \u001b[0m | \u001b[0m 9.651   \u001b[0m | \u001b[0m 138.1   \u001b[0m | \u001b[0m 21.69   \u001b[0m | \u001b[0m 0.8185  \u001b[0m |\n",
      "| \u001b[95m 44      \u001b[0m | \u001b[95m 0.7687  \u001b[0m | \u001b[95m 0.7879  \u001b[0m | \u001b[95m 0.0448  \u001b[0m | \u001b[95m 17.66   \u001b[0m | \u001b[95m 27.29   \u001b[0m | \u001b[95m 8.723   \u001b[0m | \u001b[95m 137.0   \u001b[0m | \u001b[95m 22.19   \u001b[0m | \u001b[95m 0.8658  \u001b[0m |\n",
      "| \u001b[95m 45      \u001b[0m | \u001b[95m 0.7688  \u001b[0m | \u001b[95m 0.8048  \u001b[0m | \u001b[95m 0.03769 \u001b[0m | \u001b[95m 15.6    \u001b[0m | \u001b[95m 26.35   \u001b[0m | \u001b[95m 8.58    \u001b[0m | \u001b[95m 137.6   \u001b[0m | \u001b[95m 26.51   \u001b[0m | \u001b[95m 0.8685  \u001b[0m |\n",
      "| \u001b[0m 46      \u001b[0m | \u001b[0m 0.768   \u001b[0m | \u001b[0m 0.7735  \u001b[0m | \u001b[0m 0.05    \u001b[0m | \u001b[0m 16.72   \u001b[0m | \u001b[0m 28.83   \u001b[0m | \u001b[0m 9.231   \u001b[0m | \u001b[0m 139.4   \u001b[0m | \u001b[0m 29.28   \u001b[0m | \u001b[0m 0.8346  \u001b[0m |\n",
      "| \u001b[0m 47      \u001b[0m | \u001b[0m 0.7682  \u001b[0m | \u001b[0m 0.8084  \u001b[0m | \u001b[0m 0.05    \u001b[0m | \u001b[0m 19.16   \u001b[0m | \u001b[0m 24.27   \u001b[0m | \u001b[0m 8.075   \u001b[0m | \u001b[0m 136.4   \u001b[0m | \u001b[0m 25.59   \u001b[0m | \u001b[0m 0.92    \u001b[0m |\n",
      "| \u001b[0m 48      \u001b[0m | \u001b[0m 0.7676  \u001b[0m | \u001b[0m 0.8439  \u001b[0m | \u001b[0m 0.01786 \u001b[0m | \u001b[0m 14.31   \u001b[0m | \u001b[0m 25.97   \u001b[0m | \u001b[0m 6.99    \u001b[0m | \u001b[0m 141.8   \u001b[0m | \u001b[0m 26.34   \u001b[0m | \u001b[0m 0.8917  \u001b[0m |\n",
      "| \u001b[0m 49      \u001b[0m | \u001b[0m 0.7683  \u001b[0m | \u001b[0m 0.7788  \u001b[0m | \u001b[0m 0.04749 \u001b[0m | \u001b[0m 14.8    \u001b[0m | \u001b[0m 26.68   \u001b[0m | \u001b[0m 9.697   \u001b[0m | \u001b[0m 133.9   \u001b[0m | \u001b[0m 24.12   \u001b[0m | \u001b[0m 0.8587  \u001b[0m |\n",
      "| \u001b[0m 50      \u001b[0m | \u001b[0m 0.7685  \u001b[0m | \u001b[0m 0.8208  \u001b[0m | \u001b[0m 0.04713 \u001b[0m | \u001b[0m 13.49   \u001b[0m | \u001b[0m 24.91   \u001b[0m | \u001b[0m 9.48    \u001b[0m | \u001b[0m 136.6   \u001b[0m | \u001b[0m 30.06   \u001b[0m | \u001b[0m 0.92    \u001b[0m |\n",
      "=========================================================================================================================\n"
     ]
    }
   ],
   "source": [
    "BO_lgbm.maximize(init_points=40, n_iter=10)"
   ]
  },
  {
   "cell_type": "code",
   "execution_count": 29,
   "metadata": {
    "colab": {
     "base_uri": "https://localhost:8080/",
     "height": 143
    },
    "id": "UAQkYnc0vZoE",
    "outputId": "d1a8724b-ec75-4b58-ec0c-c3f42e25ce3d"
   },
   "outputs": [
    {
     "data": {
      "text/plain": [
       "{'colsample_bytree': 0.8048459143198399,\n",
       " 'learning_rate': 0.03769440582215185,\n",
       " 'max_depth': 16,\n",
       " 'min_child_samples': 26,\n",
       " 'min_child_weight': 8.579955953284205,\n",
       " 'n_estimators': 138,\n",
       " 'num_leaves': 27,\n",
       " 'subsample': 0.8685450807553821,\n",
       " 'objective': 'binary',\n",
       " 'n_jobs': -1}"
      ]
     },
     "execution_count": 29,
     "metadata": {},
     "output_type": "execute_result"
    }
   ],
   "source": [
    "# BO_rf.res  # 모든 성능 들어가있음\n",
    "BO_lgbm.max\n",
    "\n",
    "max_params = BO_lgbm.max['params']\n",
    "\n",
    "max_params['n_estimators'] = int(round(max_params['n_estimators']))\n",
    "max_params['max_depth'] = int(round(max_params['max_depth']))\n",
    "max_params['min_child_samples'] = int(round(max_params['min_child_samples']))\n",
    "max_params['num_leaves'] = int(round(max_params['num_leaves']))\n",
    "max_params['objective'] = 'binary'\n",
    "max_params['n_jobs'] = -1\n",
    "\n",
    "max_params"
   ]
  },
  {
   "cell_type": "code",
   "execution_count": 30,
   "metadata": {
    "colab": {
     "base_uri": "https://localhost:8080/",
     "height": 71
    },
    "id": "J3hiDfZjvZoF",
    "outputId": "7d88bf30-d183-4827-f35b-aa511eab2a97"
   },
   "outputs": [
    {
     "name": "stdout",
     "output_type": "stream",
     "text": [
      "[0.76665318 0.76834005 0.77431269 0.76584877]\n",
      "최대성능: 0.774312685645322\n",
      "평균성능: 0.7687886730161093\n"
     ]
    }
   ],
   "source": [
    "lgbm_clf = LGBMClassifier(**max_params)\n",
    "\n",
    "scores = cross_val_score(lgbm_clf, X_train, y_train, scoring='roc_auc', cv=cv, n_jobs=-1)\n",
    "\n",
    "print(scores)\n",
    "print(f'최대성능: {max(scores)}\\n평균성능: {np.mean(scores)}')\n",
    "\n",
    "BO_tuned_clfs.append((lgbm_clf.__class__.__name__, lgbm_clf, np.mean(scores)))"
   ]
  },
  {
   "cell_type": "markdown",
   "metadata": {
    "id": "OIJsYBfpvZo-"
   },
   "source": [
    "<font color = 'blue'> \n",
    "\n",
    "# 일곱번째 BO_tuned_clfs "
   ]
  },
  {
   "cell_type": "markdown",
   "metadata": {
    "id": "oDaKH1oEvZpA"
   },
   "source": [
    "lgb_clf"
   ]
  },
  {
   "cell_type": "code",
   "execution_count": 31,
   "metadata": {
    "id": "orLNU7bLvZoA"
   },
   "outputs": [],
   "source": [
    "pbounds = { 'learning_rate': (0.001, 0.05),\n",
    "            'n_estimators': (150, 200),\n",
    "            'max_depth': (15,30),   \n",
    "            'min_child_samples' : (20, 40),\n",
    "            'subsample': (0.8,0.92), \n",
    "            'colsample_bytree': (0.76,0.9),   \n",
    "            'num_leaves': (30,50),\n",
    "            'min_child_weight': (6, 15)}\n",
    "\n",
    "\n",
    "def lgbm_opt(learning_rate, n_estimators, max_depth, min_child_samples, subsample, colsample_bytree, num_leaves, min_child_weight):\n",
    "\n",
    "    params = {\n",
    "        'learning_rate': learning_rate,\n",
    "        'n_estimators' : int(round(n_estimators)),\n",
    "        'max_depth' : int(round(max_depth)),\n",
    "        'min_child_samples' : int(round(min_child_samples)),\n",
    "        'subsample': subsample,\n",
    "        'colsample_bytree' : colsample_bytree,\n",
    "        'num_leaves' : int(round(num_leaves)),\n",
    "        'min_child_weight' : min_child_weight,\n",
    "        'objective' : 'binary',\n",
    "        'n_jobs' : -1\n",
    "    }\n",
    "    \n",
    "    lgbm = LGBMClassifier(**params)\n",
    "    \n",
    "    score = cross_val_score(lgbm, X_train, y_train, scoring='roc_auc', cv=cv, n_jobs=-1)\n",
    "    \n",
    "    return np.mean(score)\n",
    "\n",
    "BO_lgbm = BayesianOptimization(f = lgbm_opt, pbounds = pbounds, random_state=0)    \n"
   ]
  },
  {
   "cell_type": "code",
   "execution_count": 32,
   "metadata": {
    "colab": {
     "base_uri": "https://localhost:8080/",
     "height": 1000
    },
    "id": "FEUretOMvZoC",
    "outputId": "fbf7185d-1f26-42a2-9c03-f1e069666388",
    "scrolled": true
   },
   "outputs": [
    {
     "name": "stdout",
     "output_type": "stream",
     "text": [
      "|   iter    |  target   | colsam... | learni... | max_depth | min_ch... | min_ch... | n_esti... | num_le... | subsample |\n",
      "-------------------------------------------------------------------------------------------------------------------------\n",
      "| \u001b[0m 1       \u001b[0m | \u001b[0m 0.7686  \u001b[0m | \u001b[0m 0.8368  \u001b[0m | \u001b[0m 0.03604 \u001b[0m | \u001b[0m 24.04   \u001b[0m | \u001b[0m 30.9    \u001b[0m | \u001b[0m 9.813   \u001b[0m | \u001b[0m 182.3   \u001b[0m | \u001b[0m 38.75   \u001b[0m | \u001b[0m 0.907   \u001b[0m |\n",
      "| \u001b[95m 2       \u001b[0m | \u001b[95m 0.7687  \u001b[0m | \u001b[95m 0.8949  \u001b[0m | \u001b[95m 0.01979 \u001b[0m | \u001b[95m 26.88   \u001b[0m | \u001b[95m 30.58   \u001b[0m | \u001b[95m 11.11   \u001b[0m | \u001b[95m 196.3   \u001b[0m | \u001b[95m 31.42   \u001b[0m | \u001b[95m 0.8105  \u001b[0m |\n",
      "| \u001b[0m 3       \u001b[0m | \u001b[0m 0.7683  \u001b[0m | \u001b[0m 0.7628  \u001b[0m | \u001b[0m 0.0418  \u001b[0m | \u001b[0m 26.67   \u001b[0m | \u001b[0m 37.4    \u001b[0m | \u001b[0m 14.81   \u001b[0m | \u001b[0m 190.0   \u001b[0m | \u001b[0m 39.23   \u001b[0m | \u001b[0m 0.8937  \u001b[0m |\n",
      "| \u001b[95m 4       \u001b[0m | \u001b[95m 0.7693  \u001b[0m | \u001b[95m 0.7766  \u001b[0m | \u001b[95m 0.03236 \u001b[0m | \u001b[95m 17.15   \u001b[0m | \u001b[95m 38.89   \u001b[0m | \u001b[95m 10.7    \u001b[0m | \u001b[95m 170.7   \u001b[0m | \u001b[95m 35.29   \u001b[0m | \u001b[95m 0.8929  \u001b[0m |\n",
      "| \u001b[0m 5       \u001b[0m | \u001b[0m 0.7686  \u001b[0m | \u001b[0m 0.8239  \u001b[0m | \u001b[0m 0.02885 \u001b[0m | \u001b[0m 15.28   \u001b[0m | \u001b[0m 32.35   \u001b[0m | \u001b[0m 11.51   \u001b[0m | \u001b[0m 180.8   \u001b[0m | \u001b[0m 48.87   \u001b[0m | \u001b[0m 0.8818  \u001b[0m |\n",
      "| \u001b[0m 6       \u001b[0m | \u001b[0m 0.7689  \u001b[0m | \u001b[0m 0.8103  \u001b[0m | \u001b[0m 0.02241 \u001b[0m | \u001b[0m 25.46   \u001b[0m | \u001b[0m 21.2    \u001b[0m | \u001b[0m 12.0    \u001b[0m | \u001b[0m 183.5   \u001b[0m | \u001b[0m 34.21   \u001b[0m | \u001b[0m 0.8155  \u001b[0m |\n",
      "| \u001b[0m 7       \u001b[0m | \u001b[0m 0.7683  \u001b[0m | \u001b[0m 0.8042  \u001b[0m | \u001b[0m 0.01882 \u001b[0m | \u001b[0m 23.55   \u001b[0m | \u001b[0m 28.77   \u001b[0m | \u001b[0m 14.9    \u001b[0m | \u001b[0m 155.1   \u001b[0m | \u001b[0m 34.18   \u001b[0m | \u001b[0m 0.8194  \u001b[0m |\n",
      "| \u001b[0m 8       \u001b[0m | \u001b[0m 0.7676  \u001b[0m | \u001b[0m 0.8514  \u001b[0m | \u001b[0m 0.01341 \u001b[0m | \u001b[0m 21.99   \u001b[0m | \u001b[0m 24.89   \u001b[0m | \u001b[0m 7.431   \u001b[0m | \u001b[0m 155.5   \u001b[0m | \u001b[0m 43.13   \u001b[0m | \u001b[0m 0.8166  \u001b[0m |\n",
      "| \u001b[0m 9       \u001b[0m | \u001b[0m 0.7681  \u001b[0m | \u001b[0m 0.7875  \u001b[0m | \u001b[0m 0.01907 \u001b[0m | \u001b[0m 27.31   \u001b[0m | \u001b[0m 21.94   \u001b[0m | \u001b[0m 13.54   \u001b[0m | \u001b[0m 154.8   \u001b[0m | \u001b[0m 49.53   \u001b[0m | \u001b[0m 0.8562  \u001b[0m |\n",
      "| \u001b[0m 10      \u001b[0m | \u001b[0m 0.7689  \u001b[0m | \u001b[0m 0.8967  \u001b[0m | \u001b[0m 0.03064 \u001b[0m | \u001b[0m 26.09   \u001b[0m | \u001b[0m 20.78   \u001b[0m | \u001b[0m 8.545   \u001b[0m | \u001b[0m 156.0   \u001b[0m | \u001b[0m 35.92   \u001b[0m | \u001b[0m 0.8142  \u001b[0m |\n",
      "| \u001b[0m 11      \u001b[0m | \u001b[0m 0.7684  \u001b[0m | \u001b[0m 0.8045  \u001b[0m | \u001b[0m 0.0213  \u001b[0m | \u001b[0m 15.96   \u001b[0m | \u001b[0m 33.85   \u001b[0m | \u001b[0m 11.1    \u001b[0m | \u001b[0m 163.3   \u001b[0m | \u001b[0m 40.46   \u001b[0m | \u001b[0m 0.8113  \u001b[0m |\n",
      "| \u001b[0m 12      \u001b[0m | \u001b[0m 0.7679  \u001b[0m | \u001b[0m 0.8406  \u001b[0m | \u001b[0m 0.04654 \u001b[0m | \u001b[0m 19.78   \u001b[0m | \u001b[0m 33.35   \u001b[0m | \u001b[0m 7.186   \u001b[0m | \u001b[0m 185.8   \u001b[0m | \u001b[0m 35.79   \u001b[0m | \u001b[0m 0.822   \u001b[0m |\n",
      "| \u001b[0m 13      \u001b[0m | \u001b[0m 0.7645  \u001b[0m | \u001b[0m 0.8421  \u001b[0m | \u001b[0m 0.001985\u001b[0m | \u001b[0m 27.43   \u001b[0m | \u001b[0m 20.09   \u001b[0m | \u001b[0m 12.1    \u001b[0m | \u001b[0m 163.5   \u001b[0m | \u001b[0m 44.7    \u001b[0m | \u001b[0m 0.9155  \u001b[0m |\n",
      "| \u001b[0m 14      \u001b[0m | \u001b[0m 0.7682  \u001b[0m | \u001b[0m 0.7948  \u001b[0m | \u001b[0m 0.02923 \u001b[0m | \u001b[0m 23.88   \u001b[0m | \u001b[0m 31.45   \u001b[0m | \u001b[0m 8.008   \u001b[0m | \u001b[0m 197.6   \u001b[0m | \u001b[0m 38.94   \u001b[0m | \u001b[0m 0.9016  \u001b[0m |\n",
      "| \u001b[0m 15      \u001b[0m | \u001b[0m 0.768   \u001b[0m | \u001b[0m 0.8579  \u001b[0m | \u001b[0m 0.01557 \u001b[0m | \u001b[0m 27.21   \u001b[0m | \u001b[0m 27.93   \u001b[0m | \u001b[0m 13.93   \u001b[0m | \u001b[0m 179.1   \u001b[0m | \u001b[0m 47.63   \u001b[0m | \u001b[0m 0.8831  \u001b[0m |\n",
      "| \u001b[0m 16      \u001b[0m | \u001b[0m 0.7691  \u001b[0m | \u001b[0m 0.8615  \u001b[0m | \u001b[0m 0.02556 \u001b[0m | \u001b[0m 29.34   \u001b[0m | \u001b[0m 32.88   \u001b[0m | \u001b[0m 9.815   \u001b[0m | \u001b[0m 180.3   \u001b[0m | \u001b[0m 30.38   \u001b[0m | \u001b[0m 0.8362  \u001b[0m |\n",
      "| \u001b[0m 17      \u001b[0m | \u001b[0m 0.768   \u001b[0m | \u001b[0m 0.8524  \u001b[0m | \u001b[0m 0.01521 \u001b[0m | \u001b[0m 24.27   \u001b[0m | \u001b[0m 28.58   \u001b[0m | \u001b[0m 7.219   \u001b[0m | \u001b[0m 164.9   \u001b[0m | \u001b[0m 41.4    \u001b[0m | \u001b[0m 0.8709  \u001b[0m |\n",
      "| \u001b[0m 18      \u001b[0m | \u001b[0m 0.7686  \u001b[0m | \u001b[0m 0.8404  \u001b[0m | \u001b[0m 0.03301 \u001b[0m | \u001b[0m 24.78   \u001b[0m | \u001b[0m 28.63   \u001b[0m | \u001b[0m 14.07   \u001b[0m | \u001b[0m 168.4   \u001b[0m | \u001b[0m 38.72   \u001b[0m | \u001b[0m 0.907   \u001b[0m |\n",
      "| \u001b[0m 19      \u001b[0m | \u001b[0m 0.7687  \u001b[0m | \u001b[0m 0.8729  \u001b[0m | \u001b[0m 0.03549 \u001b[0m | \u001b[0m 16.5    \u001b[0m | \u001b[0m 38.39   \u001b[0m | \u001b[0m 12.43   \u001b[0m | \u001b[0m 199.9   \u001b[0m | \u001b[0m 32.99   \u001b[0m | \u001b[0m 0.9042  \u001b[0m |\n",
      "| \u001b[0m 20      \u001b[0m | \u001b[0m 0.7685  \u001b[0m | \u001b[0m 0.7827  \u001b[0m | \u001b[0m 0.03116 \u001b[0m | \u001b[0m 16.86   \u001b[0m | \u001b[0m 36.96   \u001b[0m | \u001b[0m 13.27   \u001b[0m | \u001b[0m 178.5   \u001b[0m | \u001b[0m 38.14   \u001b[0m | \u001b[0m 0.8083  \u001b[0m |\n",
      "| \u001b[0m 21      \u001b[0m | \u001b[0m 0.7689  \u001b[0m | \u001b[0m 0.8576  \u001b[0m | \u001b[0m 0.02322 \u001b[0m | \u001b[0m 25.83   \u001b[0m | \u001b[0m 37.33   \u001b[0m | \u001b[0m 14.78   \u001b[0m | \u001b[0m 192.8   \u001b[0m | \u001b[0m 30.23   \u001b[0m | \u001b[0m 0.8432  \u001b[0m |\n",
      "| \u001b[0m 22      \u001b[0m | \u001b[0m 0.7665  \u001b[0m | \u001b[0m 0.8622  \u001b[0m | \u001b[0m 0.00941 \u001b[0m | \u001b[0m 22.82   \u001b[0m | \u001b[0m 21.09   \u001b[0m | \u001b[0m 7.8     \u001b[0m | \u001b[0m 150.9   \u001b[0m | \u001b[0m 45.87   \u001b[0m | \u001b[0m 0.8269  \u001b[0m |\n",
      "| \u001b[0m 23      \u001b[0m | \u001b[0m 0.7675  \u001b[0m | \u001b[0m 0.8083  \u001b[0m | \u001b[0m 0.04648 \u001b[0m | \u001b[0m 25.57   \u001b[0m | \u001b[0m 20.64   \u001b[0m | \u001b[0m 7.482   \u001b[0m | \u001b[0m 181.1   \u001b[0m | \u001b[0m 41.54   \u001b[0m | \u001b[0m 0.8285  \u001b[0m |\n",
      "| \u001b[95m 24      \u001b[0m | \u001b[95m 0.7694  \u001b[0m | \u001b[95m 0.8908  \u001b[0m | \u001b[95m 0.03108 \u001b[0m | \u001b[95m 23.03   \u001b[0m | \u001b[95m 31.8    \u001b[0m | \u001b[95m 12.57   \u001b[0m | \u001b[95m 165.6   \u001b[0m | \u001b[95m 37.96   \u001b[0m | \u001b[95m 0.8252  \u001b[0m |\n",
      "| \u001b[0m 25      \u001b[0m | \u001b[0m 0.7684  \u001b[0m | \u001b[0m 0.7861  \u001b[0m | \u001b[0m 0.04727 \u001b[0m | \u001b[0m 26.09   \u001b[0m | \u001b[0m 29.81   \u001b[0m | \u001b[0m 8.047   \u001b[0m | \u001b[0m 162.7   \u001b[0m | \u001b[0m 31.16   \u001b[0m | \u001b[0m 0.8521  \u001b[0m |\n",
      "| \u001b[0m 26      \u001b[0m | \u001b[0m 0.7685  \u001b[0m | \u001b[0m 0.8037  \u001b[0m | \u001b[0m 0.03512 \u001b[0m | \u001b[0m 20.67   \u001b[0m | \u001b[0m 23.59   \u001b[0m | \u001b[0m 6.222   \u001b[0m | \u001b[0m 153.4   \u001b[0m | \u001b[0m 43.59   \u001b[0m | \u001b[0m 0.8544  \u001b[0m |\n",
      "| \u001b[0m 27      \u001b[0m | \u001b[0m 0.7689  \u001b[0m | \u001b[0m 0.8351  \u001b[0m | \u001b[0m 0.04494 \u001b[0m | \u001b[0m 29.86   \u001b[0m | \u001b[0m 24.34   \u001b[0m | \u001b[0m 11.97   \u001b[0m | \u001b[0m 163.2   \u001b[0m | \u001b[0m 30.41   \u001b[0m | \u001b[0m 0.891   \u001b[0m |\n",
      "| \u001b[0m 28      \u001b[0m | \u001b[0m 0.7683  \u001b[0m | \u001b[0m 0.8048  \u001b[0m | \u001b[0m 0.01979 \u001b[0m | \u001b[0m 23.82   \u001b[0m | \u001b[0m 36.62   \u001b[0m | \u001b[0m 11.66   \u001b[0m | \u001b[0m 193.6   \u001b[0m | \u001b[0m 35.47   \u001b[0m | \u001b[0m 0.8958  \u001b[0m |\n",
      "| \u001b[0m 29      \u001b[0m | \u001b[0m 0.7681  \u001b[0m | \u001b[0m 0.786   \u001b[0m | \u001b[0m 0.04769 \u001b[0m | \u001b[0m 25.31   \u001b[0m | \u001b[0m 24.31   \u001b[0m | \u001b[0m 14.53   \u001b[0m | \u001b[0m 186.5   \u001b[0m | \u001b[0m 35.08   \u001b[0m | \u001b[0m 0.8256  \u001b[0m |\n",
      "| \u001b[0m 30      \u001b[0m | \u001b[0m 0.7646  \u001b[0m | \u001b[0m 0.8325  \u001b[0m | \u001b[0m 0.002257\u001b[0m | \u001b[0m 18.11   \u001b[0m | \u001b[0m 28.49   \u001b[0m | \u001b[0m 9.368   \u001b[0m | \u001b[0m 173.2   \u001b[0m | \u001b[0m 35.55   \u001b[0m | \u001b[0m 0.8704  \u001b[0m |\n",
      "| \u001b[0m 31      \u001b[0m | \u001b[0m 0.7656  \u001b[0m | \u001b[0m 0.8809  \u001b[0m | \u001b[0m 0.006759\u001b[0m | \u001b[0m 22.76   \u001b[0m | \u001b[0m 22.64   \u001b[0m | \u001b[0m 12.45   \u001b[0m | \u001b[0m 169.8   \u001b[0m | \u001b[0m 41.31   \u001b[0m | \u001b[0m 0.822   \u001b[0m |\n",
      "| \u001b[0m 32      \u001b[0m | \u001b[0m 0.7688  \u001b[0m | \u001b[0m 0.7803  \u001b[0m | \u001b[0m 0.02491 \u001b[0m | \u001b[0m 20.33   \u001b[0m | \u001b[0m 38.81   \u001b[0m | \u001b[0m 12.89   \u001b[0m | \u001b[0m 187.4   \u001b[0m | \u001b[0m 48.07   \u001b[0m | \u001b[0m 0.81    \u001b[0m |\n",
      "| \u001b[0m 33      \u001b[0m | \u001b[0m 0.7687  \u001b[0m | \u001b[0m 0.8373  \u001b[0m | \u001b[0m 0.02964 \u001b[0m | \u001b[0m 29.43   \u001b[0m | \u001b[0m 25.84   \u001b[0m | \u001b[0m 8.167   \u001b[0m | \u001b[0m 155.0   \u001b[0m | \u001b[0m 30.33   \u001b[0m | \u001b[0m 0.9115  \u001b[0m |\n",
      "| \u001b[0m 34      \u001b[0m | \u001b[0m 0.7684  \u001b[0m | \u001b[0m 0.8538  \u001b[0m | \u001b[0m 0.03947 \u001b[0m | \u001b[0m 19.23   \u001b[0m | \u001b[0m 31.73   \u001b[0m | \u001b[0m 6.576   \u001b[0m | \u001b[0m 174.3   \u001b[0m | \u001b[0m 49.55   \u001b[0m | \u001b[0m 0.9052  \u001b[0m |\n",
      "| \u001b[0m 35      \u001b[0m | \u001b[0m 0.767   \u001b[0m | \u001b[0m 0.8073  \u001b[0m | \u001b[0m 0.04812 \u001b[0m | \u001b[0m 18.48   \u001b[0m | \u001b[0m 38.99   \u001b[0m | \u001b[0m 14.47   \u001b[0m | \u001b[0m 190.0   \u001b[0m | \u001b[0m 42.61   \u001b[0m | \u001b[0m 0.9049  \u001b[0m |\n",
      "| \u001b[0m 36      \u001b[0m | \u001b[0m 0.7676  \u001b[0m | \u001b[0m 0.801   \u001b[0m | \u001b[0m 0.0426  \u001b[0m | \u001b[0m 24.27   \u001b[0m | \u001b[0m 20.26   \u001b[0m | \u001b[0m 9.125   \u001b[0m | \u001b[0m 157.4   \u001b[0m | \u001b[0m 49.64   \u001b[0m | \u001b[0m 0.8574  \u001b[0m |\n",
      "| \u001b[0m 37      \u001b[0m | \u001b[0m 0.7689  \u001b[0m | \u001b[0m 0.8296  \u001b[0m | \u001b[0m 0.03233 \u001b[0m | \u001b[0m 20.53   \u001b[0m | \u001b[0m 22.74   \u001b[0m | \u001b[0m 13.4    \u001b[0m | \u001b[0m 159.5   \u001b[0m | \u001b[0m 40.23   \u001b[0m | \u001b[0m 0.8269  \u001b[0m |\n",
      "| \u001b[0m 38      \u001b[0m | \u001b[0m 0.7681  \u001b[0m | \u001b[0m 0.7737  \u001b[0m | \u001b[0m 0.04325 \u001b[0m | \u001b[0m 29.59   \u001b[0m | \u001b[0m 39.22   \u001b[0m | \u001b[0m 14.16   \u001b[0m | \u001b[0m 188.7   \u001b[0m | \u001b[0m 36.66   \u001b[0m | \u001b[0m 0.8097  \u001b[0m |\n",
      "| \u001b[0m 39      \u001b[0m | \u001b[0m 0.7676  \u001b[0m | \u001b[0m 0.817   \u001b[0m | \u001b[0m 0.01238 \u001b[0m | \u001b[0m 16.99   \u001b[0m | \u001b[0m 21.07   \u001b[0m | \u001b[0m 12.53   \u001b[0m | \u001b[0m 150.6   \u001b[0m | \u001b[0m 45.41   \u001b[0m | \u001b[0m 0.8176  \u001b[0m |\n",
      "| \u001b[0m 40      \u001b[0m | \u001b[0m 0.7664  \u001b[0m | \u001b[0m 0.7711  \u001b[0m | \u001b[0m 0.005391\u001b[0m | \u001b[0m 25.08   \u001b[0m | \u001b[0m 24.91   \u001b[0m | \u001b[0m 9.785   \u001b[0m | \u001b[0m 177.9   \u001b[0m | \u001b[0m 47.21   \u001b[0m | \u001b[0m 0.8872  \u001b[0m |\n"
     ]
    },
    {
     "name": "stdout",
     "output_type": "stream",
     "text": [
      "| \u001b[0m 41      \u001b[0m | \u001b[0m 0.7682  \u001b[0m | \u001b[0m 0.8887  \u001b[0m | \u001b[0m 0.01903 \u001b[0m | \u001b[0m 20.62   \u001b[0m | \u001b[0m 37.59   \u001b[0m | \u001b[0m 13.45   \u001b[0m | \u001b[0m 166.5   \u001b[0m | \u001b[0m 35.57   \u001b[0m | \u001b[0m 0.8148  \u001b[0m |\n",
      "| \u001b[0m 42      \u001b[0m | \u001b[0m 0.7688  \u001b[0m | \u001b[0m 0.8672  \u001b[0m | \u001b[0m 0.03294 \u001b[0m | \u001b[0m 25.53   \u001b[0m | \u001b[0m 32.5    \u001b[0m | \u001b[0m 12.35   \u001b[0m | \u001b[0m 190.6   \u001b[0m | \u001b[0m 44.17   \u001b[0m | \u001b[0m 0.9014  \u001b[0m |\n",
      "| \u001b[0m 43      \u001b[0m | \u001b[0m 0.769   \u001b[0m | \u001b[0m 0.811   \u001b[0m | \u001b[0m 0.02638 \u001b[0m | \u001b[0m 24.49   \u001b[0m | \u001b[0m 30.8    \u001b[0m | \u001b[0m 14.37   \u001b[0m | \u001b[0m 188.1   \u001b[0m | \u001b[0m 36.69   \u001b[0m | \u001b[0m 0.8185  \u001b[0m |\n",
      "| \u001b[0m 44      \u001b[0m | \u001b[0m 0.7684  \u001b[0m | \u001b[0m 0.8448  \u001b[0m | \u001b[0m 0.01755 \u001b[0m | \u001b[0m 25.98   \u001b[0m | \u001b[0m 39.92   \u001b[0m | \u001b[0m 8.884   \u001b[0m | \u001b[0m 182.0   \u001b[0m | \u001b[0m 34.94   \u001b[0m | \u001b[0m 0.8372  \u001b[0m |\n",
      "| \u001b[0m 45      \u001b[0m | \u001b[0m 0.7662  \u001b[0m | \u001b[0m 0.8423  \u001b[0m | \u001b[0m 0.007451\u001b[0m | \u001b[0m 17.1    \u001b[0m | \u001b[0m 21.35   \u001b[0m | \u001b[0m 14.78   \u001b[0m | \u001b[0m 190.4   \u001b[0m | \u001b[0m 42.18   \u001b[0m | \u001b[0m 0.8105  \u001b[0m |\n",
      "| \u001b[0m 46      \u001b[0m | \u001b[0m 0.7687  \u001b[0m | \u001b[0m 0.8806  \u001b[0m | \u001b[0m 0.02232 \u001b[0m | \u001b[0m 20.98   \u001b[0m | \u001b[0m 31.58   \u001b[0m | \u001b[0m 11.4    \u001b[0m | \u001b[0m 169.6   \u001b[0m | \u001b[0m 37.0    \u001b[0m | \u001b[0m 0.9032  \u001b[0m |\n",
      "| \u001b[0m 47      \u001b[0m | \u001b[0m 0.7676  \u001b[0m | \u001b[0m 0.842   \u001b[0m | \u001b[0m 0.04661 \u001b[0m | \u001b[0m 22.84   \u001b[0m | \u001b[0m 26.08   \u001b[0m | \u001b[0m 13.97   \u001b[0m | \u001b[0m 159.9   \u001b[0m | \u001b[0m 43.65   \u001b[0m | \u001b[0m 0.8447  \u001b[0m |\n",
      "| \u001b[0m 48      \u001b[0m | \u001b[0m 0.7686  \u001b[0m | \u001b[0m 0.8806  \u001b[0m | \u001b[0m 0.04    \u001b[0m | \u001b[0m 26.01   \u001b[0m | \u001b[0m 29.3    \u001b[0m | \u001b[0m 8.412   \u001b[0m | \u001b[0m 162.5   \u001b[0m | \u001b[0m 30.53   \u001b[0m | \u001b[0m 0.8118  \u001b[0m |\n",
      "| \u001b[95m 49      \u001b[0m | \u001b[95m 0.7694  \u001b[0m | \u001b[95m 0.7604  \u001b[0m | \u001b[95m 0.02308 \u001b[0m | \u001b[95m 25.84   \u001b[0m | \u001b[95m 34.34   \u001b[0m | \u001b[95m 10.67   \u001b[0m | \u001b[95m 168.7   \u001b[0m | \u001b[95m 39.43   \u001b[0m | \u001b[95m 0.8578  \u001b[0m |\n",
      "| \u001b[0m 50      \u001b[0m | \u001b[0m 0.768   \u001b[0m | \u001b[0m 0.7701  \u001b[0m | \u001b[0m 0.01333 \u001b[0m | \u001b[0m 21.1    \u001b[0m | \u001b[0m 38.32   \u001b[0m | \u001b[0m 9.885   \u001b[0m | \u001b[0m 171.8   \u001b[0m | \u001b[0m 38.65   \u001b[0m | \u001b[0m 0.818   \u001b[0m |\n",
      "=========================================================================================================================\n"
     ]
    }
   ],
   "source": [
    "BO_lgbm.maximize(init_points=40, n_iter=10)"
   ]
  },
  {
   "cell_type": "code",
   "execution_count": 33,
   "metadata": {
    "colab": {
     "base_uri": "https://localhost:8080/",
     "height": 143
    },
    "id": "UAQkYnc0vZoE",
    "outputId": "d1a8724b-ec75-4b58-ec0c-c3f42e25ce3d"
   },
   "outputs": [
    {
     "data": {
      "text/plain": [
       "{'colsample_bytree': 0.7604296531524981,\n",
       " 'learning_rate': 0.02307705418401338,\n",
       " 'max_depth': 26,\n",
       " 'min_child_samples': 34,\n",
       " 'min_child_weight': 10.666818829880135,\n",
       " 'n_estimators': 169,\n",
       " 'num_leaves': 39,\n",
       " 'subsample': 0.8577600405357944,\n",
       " 'objective': 'binary',\n",
       " 'n_jobs': -1}"
      ]
     },
     "execution_count": 33,
     "metadata": {},
     "output_type": "execute_result"
    }
   ],
   "source": [
    "# BO_rf.res  # 모든 성능 들어가있음\n",
    "BO_lgbm.max\n",
    "\n",
    "max_params = BO_lgbm.max['params']\n",
    "\n",
    "max_params['n_estimators'] = int(round(max_params['n_estimators']))\n",
    "max_params['max_depth'] = int(round(max_params['max_depth']))\n",
    "max_params['min_child_samples'] = int(round(max_params['min_child_samples']))\n",
    "max_params['num_leaves'] = int(round(max_params['num_leaves']))\n",
    "max_params['objective'] = 'binary'\n",
    "max_params['n_jobs'] = -1\n",
    "\n",
    "max_params"
   ]
  },
  {
   "cell_type": "code",
   "execution_count": 34,
   "metadata": {
    "colab": {
     "base_uri": "https://localhost:8080/",
     "height": 71
    },
    "id": "J3hiDfZjvZoF",
    "outputId": "7d88bf30-d183-4827-f35b-aa511eab2a97"
   },
   "outputs": [
    {
     "name": "stdout",
     "output_type": "stream",
     "text": [
      "[0.76819336 0.76845255 0.77475984 0.76625691]\n",
      "최대성능: 0.7747598414132391\n",
      "평균성능: 0.7694156640221028\n"
     ]
    }
   ],
   "source": [
    "lgbm_clf = LGBMClassifier(**max_params)\n",
    "\n",
    "scores = cross_val_score(lgbm_clf, X_train, y_train, scoring='roc_auc', cv=cv, n_jobs=-1)\n",
    "\n",
    "print(scores)\n",
    "print(f'최대성능: {max(scores)}\\n평균성능: {np.mean(scores)}')\n",
    "\n",
    "BO_tuned_clfs.append((lgbm_clf.__class__.__name__, lgbm_clf, np.mean(scores)))"
   ]
  },
  {
   "cell_type": "markdown",
   "metadata": {
    "id": "4j7pHR5SvZpH"
   },
   "source": [
    "<font color = 'blue'> \n",
    "\n",
    "# 여덟번째 BO_tuned_clfs "
   ]
  },
  {
   "cell_type": "markdown",
   "metadata": {
    "id": "XBKSUb0ZvZpL"
   },
   "source": [
    "lgb_clf"
   ]
  },
  {
   "cell_type": "code",
   "execution_count": 35,
   "metadata": {
    "id": "orLNU7bLvZoA"
   },
   "outputs": [],
   "source": [
    "pbounds = { 'learning_rate': (0.001, 0.05),\n",
    "            'n_estimators': (200, 250),\n",
    "            'max_depth': (20,35),   \n",
    "            'min_child_samples' : (25, 40),\n",
    "            'subsample': (0.8,0.92), \n",
    "            'colsample_bytree': (0.76,0.87),   \n",
    "            'num_leaves': (25,50),\n",
    "            'min_child_weight': (5, 15)}\n",
    "\n",
    "\n",
    "def lgbm_opt(learning_rate, n_estimators, max_depth, min_child_samples, subsample, colsample_bytree, num_leaves, min_child_weight):\n",
    "\n",
    "    params = {\n",
    "        'learning_rate': learning_rate,\n",
    "        'n_estimators' : int(round(n_estimators)),\n",
    "        'max_depth' : int(round(max_depth)),\n",
    "        'min_child_samples' : int(round(min_child_samples)),\n",
    "        'subsample': subsample,\n",
    "        'colsample_bytree' : colsample_bytree,\n",
    "        'num_leaves' : int(round(num_leaves)),\n",
    "        'min_child_weight' : min_child_weight,\n",
    "        'objective' : 'binary',\n",
    "        'n_jobs' : -1\n",
    "    }\n",
    "    \n",
    "    lgbm = LGBMClassifier(**params)\n",
    "    \n",
    "    score = cross_val_score(lgbm, X_train, y_train, scoring='roc_auc', cv=cv, n_jobs=-1)\n",
    "    \n",
    "    return np.mean(score)\n",
    "\n",
    "BO_lgbm = BayesianOptimization(f = lgbm_opt, pbounds = pbounds, random_state=0)    \n"
   ]
  },
  {
   "cell_type": "code",
   "execution_count": 36,
   "metadata": {
    "colab": {
     "base_uri": "https://localhost:8080/",
     "height": 1000
    },
    "id": "FEUretOMvZoC",
    "outputId": "fbf7185d-1f26-42a2-9c03-f1e069666388",
    "scrolled": false
   },
   "outputs": [
    {
     "name": "stdout",
     "output_type": "stream",
     "text": [
      "|   iter    |  target   | colsam... | learni... | max_depth | min_ch... | min_ch... | n_esti... | num_le... | subsample |\n",
      "-------------------------------------------------------------------------------------------------------------------------\n",
      "| \u001b[0m 1       \u001b[0m | \u001b[0m 0.7684  \u001b[0m | \u001b[0m 0.8204  \u001b[0m | \u001b[0m 0.03604 \u001b[0m | \u001b[0m 29.04   \u001b[0m | \u001b[0m 33.17   \u001b[0m | \u001b[0m 9.237   \u001b[0m | \u001b[0m 232.3   \u001b[0m | \u001b[0m 35.94   \u001b[0m | \u001b[0m 0.907   \u001b[0m |\n",
      "| \u001b[95m 2       \u001b[0m | \u001b[95m 0.7693  \u001b[0m | \u001b[95m 0.866   \u001b[0m | \u001b[95m 0.01979 \u001b[0m | \u001b[95m 31.88   \u001b[0m | \u001b[95m 32.93   \u001b[0m | \u001b[95m 10.68   \u001b[0m | \u001b[95m 246.3   \u001b[0m | \u001b[95m 26.78   \u001b[0m | \u001b[95m 0.8105  \u001b[0m |\n",
      "| \u001b[0m 3       \u001b[0m | \u001b[0m 0.7676  \u001b[0m | \u001b[0m 0.7622  \u001b[0m | \u001b[0m 0.0418  \u001b[0m | \u001b[0m 31.67   \u001b[0m | \u001b[0m 38.05   \u001b[0m | \u001b[0m 14.79   \u001b[0m | \u001b[0m 240.0   \u001b[0m | \u001b[0m 36.54   \u001b[0m | \u001b[0m 0.8937  \u001b[0m |\n",
      "| \u001b[0m 4       \u001b[0m | \u001b[0m 0.7685  \u001b[0m | \u001b[0m 0.773   \u001b[0m | \u001b[0m 0.03236 \u001b[0m | \u001b[0m 22.15   \u001b[0m | \u001b[0m 39.17   \u001b[0m | \u001b[0m 10.22   \u001b[0m | \u001b[0m 220.7   \u001b[0m | \u001b[0m 31.61   \u001b[0m | \u001b[0m 0.8929  \u001b[0m |\n",
      "| \u001b[0m 5       \u001b[0m | \u001b[0m 0.7684  \u001b[0m | \u001b[0m 0.8102  \u001b[0m | \u001b[0m 0.02885 \u001b[0m | \u001b[0m 20.28   \u001b[0m | \u001b[0m 34.26   \u001b[0m | \u001b[0m 11.12   \u001b[0m | \u001b[0m 230.8   \u001b[0m | \u001b[0m 48.59   \u001b[0m | \u001b[0m 0.8818  \u001b[0m |\n",
      "| \u001b[0m 6       \u001b[0m | \u001b[0m 0.769   \u001b[0m | \u001b[0m 0.7995  \u001b[0m | \u001b[0m 0.02241 \u001b[0m | \u001b[0m 30.46   \u001b[0m | \u001b[0m 25.9    \u001b[0m | \u001b[0m 11.67   \u001b[0m | \u001b[0m 233.5   \u001b[0m | \u001b[0m 30.26   \u001b[0m | \u001b[0m 0.8155  \u001b[0m |\n",
      "| \u001b[0m 7       \u001b[0m | \u001b[0m 0.7683  \u001b[0m | \u001b[0m 0.7947  \u001b[0m | \u001b[0m 0.01882 \u001b[0m | \u001b[0m 28.55   \u001b[0m | \u001b[0m 31.58   \u001b[0m | \u001b[0m 14.88   \u001b[0m | \u001b[0m 205.1   \u001b[0m | \u001b[0m 30.22   \u001b[0m | \u001b[0m 0.8194  \u001b[0m |\n",
      "| \u001b[0m 8       \u001b[0m | \u001b[0m 0.768   \u001b[0m | \u001b[0m 0.8318  \u001b[0m | \u001b[0m 0.01341 \u001b[0m | \u001b[0m 26.99   \u001b[0m | \u001b[0m 28.67   \u001b[0m | \u001b[0m 6.59    \u001b[0m | \u001b[0m 205.5   \u001b[0m | \u001b[0m 41.41   \u001b[0m | \u001b[0m 0.8166  \u001b[0m |\n",
      "| \u001b[0m 9       \u001b[0m | \u001b[0m 0.7686  \u001b[0m | \u001b[0m 0.7816  \u001b[0m | \u001b[0m 0.01907 \u001b[0m | \u001b[0m 32.31   \u001b[0m | \u001b[0m 26.46   \u001b[0m | \u001b[0m 13.38   \u001b[0m | \u001b[0m 204.8   \u001b[0m | \u001b[0m 49.41   \u001b[0m | \u001b[0m 0.8562  \u001b[0m |\n",
      "| \u001b[0m 10      \u001b[0m | \u001b[0m 0.769   \u001b[0m | \u001b[0m 0.8674  \u001b[0m | \u001b[0m 0.03064 \u001b[0m | \u001b[0m 31.09   \u001b[0m | \u001b[0m 25.59   \u001b[0m | \u001b[0m 7.828   \u001b[0m | \u001b[0m 206.0   \u001b[0m | \u001b[0m 32.4    \u001b[0m | \u001b[0m 0.8142  \u001b[0m |\n",
      "| \u001b[0m 11      \u001b[0m | \u001b[0m 0.7691  \u001b[0m | \u001b[0m 0.795   \u001b[0m | \u001b[0m 0.0213  \u001b[0m | \u001b[0m 20.96   \u001b[0m | \u001b[0m 35.39   \u001b[0m | \u001b[0m 10.67   \u001b[0m | \u001b[0m 213.3   \u001b[0m | \u001b[0m 38.08   \u001b[0m | \u001b[0m 0.8113  \u001b[0m |\n",
      "| \u001b[0m 12      \u001b[0m | \u001b[0m 0.768   \u001b[0m | \u001b[0m 0.8234  \u001b[0m | \u001b[0m 0.04654 \u001b[0m | \u001b[0m 24.78   \u001b[0m | \u001b[0m 35.01   \u001b[0m | \u001b[0m 6.318   \u001b[0m | \u001b[0m 235.8   \u001b[0m | \u001b[0m 32.24   \u001b[0m | \u001b[0m 0.822   \u001b[0m |\n",
      "| \u001b[0m 13      \u001b[0m | \u001b[0m 0.7648  \u001b[0m | \u001b[0m 0.8245  \u001b[0m | \u001b[0m 0.001985\u001b[0m | \u001b[0m 32.43   \u001b[0m | \u001b[0m 25.07   \u001b[0m | \u001b[0m 11.78   \u001b[0m | \u001b[0m 213.5   \u001b[0m | \u001b[0m 43.38   \u001b[0m | \u001b[0m 0.9155  \u001b[0m |\n",
      "| \u001b[0m 14      \u001b[0m | \u001b[0m 0.7686  \u001b[0m | \u001b[0m 0.7874  \u001b[0m | \u001b[0m 0.02923 \u001b[0m | \u001b[0m 28.88   \u001b[0m | \u001b[0m 33.58   \u001b[0m | \u001b[0m 7.231   \u001b[0m | \u001b[0m 247.6   \u001b[0m | \u001b[0m 36.18   \u001b[0m | \u001b[0m 0.9016  \u001b[0m |\n",
      "| \u001b[0m 15      \u001b[0m | \u001b[0m 0.7685  \u001b[0m | \u001b[0m 0.8369  \u001b[0m | \u001b[0m 0.01557 \u001b[0m | \u001b[0m 32.21   \u001b[0m | \u001b[0m 30.95   \u001b[0m | \u001b[0m 13.81   \u001b[0m | \u001b[0m 229.1   \u001b[0m | \u001b[0m 47.04   \u001b[0m | \u001b[0m 0.8831  \u001b[0m |\n",
      "| \u001b[0m 16      \u001b[0m | \u001b[0m 0.7688  \u001b[0m | \u001b[0m 0.8398  \u001b[0m | \u001b[0m 0.02556 \u001b[0m | \u001b[0m 34.34   \u001b[0m | \u001b[0m 34.66   \u001b[0m | \u001b[0m 9.239   \u001b[0m | \u001b[0m 230.3   \u001b[0m | \u001b[0m 25.48   \u001b[0m | \u001b[0m 0.8362  \u001b[0m |\n",
      "| \u001b[0m 17      \u001b[0m | \u001b[0m 0.7685  \u001b[0m | \u001b[0m 0.8326  \u001b[0m | \u001b[0m 0.01521 \u001b[0m | \u001b[0m 29.27   \u001b[0m | \u001b[0m 31.43   \u001b[0m | \u001b[0m 6.355   \u001b[0m | \u001b[0m 214.9   \u001b[0m | \u001b[0m 39.25   \u001b[0m | \u001b[0m 0.8709  \u001b[0m |\n",
      "| \u001b[0m 18      \u001b[0m | \u001b[0m 0.7683  \u001b[0m | \u001b[0m 0.8232  \u001b[0m | \u001b[0m 0.03301 \u001b[0m | \u001b[0m 29.78   \u001b[0m | \u001b[0m 31.47   \u001b[0m | \u001b[0m 13.97   \u001b[0m | \u001b[0m 218.4   \u001b[0m | \u001b[0m 35.9    \u001b[0m | \u001b[0m 0.907   \u001b[0m |\n",
      "| \u001b[0m 19      \u001b[0m | \u001b[0m 0.7682  \u001b[0m | \u001b[0m 0.8487  \u001b[0m | \u001b[0m 0.03549 \u001b[0m | \u001b[0m 21.5    \u001b[0m | \u001b[0m 38.79   \u001b[0m | \u001b[0m 12.14   \u001b[0m | \u001b[0m 249.9   \u001b[0m | \u001b[0m 28.74   \u001b[0m | \u001b[0m 0.9042  \u001b[0m |\n",
      "| \u001b[0m 20      \u001b[0m | \u001b[0m 0.7684  \u001b[0m | \u001b[0m 0.7779  \u001b[0m | \u001b[0m 0.03116 \u001b[0m | \u001b[0m 21.86   \u001b[0m | \u001b[0m 37.72   \u001b[0m | \u001b[0m 13.07   \u001b[0m | \u001b[0m 228.5   \u001b[0m | \u001b[0m 35.18   \u001b[0m | \u001b[0m 0.8083  \u001b[0m |\n",
      "| \u001b[0m 21      \u001b[0m | \u001b[0m 0.7688  \u001b[0m | \u001b[0m 0.8367  \u001b[0m | \u001b[0m 0.02322 \u001b[0m | \u001b[0m 30.83   \u001b[0m | \u001b[0m 38.0    \u001b[0m | \u001b[0m 14.76   \u001b[0m | \u001b[0m 242.8   \u001b[0m | \u001b[0m 25.29   \u001b[0m | \u001b[0m 0.8432  \u001b[0m |\n",
      "| \u001b[0m 22      \u001b[0m | \u001b[0m 0.7673  \u001b[0m | \u001b[0m 0.8403  \u001b[0m | \u001b[0m 0.00941 \u001b[0m | \u001b[0m 27.82   \u001b[0m | \u001b[0m 25.82   \u001b[0m | \u001b[0m 7.0     \u001b[0m | \u001b[0m 200.9   \u001b[0m | \u001b[0m 44.84   \u001b[0m | \u001b[0m 0.8269  \u001b[0m |\n",
      "| \u001b[0m 23      \u001b[0m | \u001b[0m 0.7668  \u001b[0m | \u001b[0m 0.798   \u001b[0m | \u001b[0m 0.04648 \u001b[0m | \u001b[0m 30.57   \u001b[0m | \u001b[0m 25.48   \u001b[0m | \u001b[0m 6.647   \u001b[0m | \u001b[0m 231.1   \u001b[0m | \u001b[0m 39.43   \u001b[0m | \u001b[0m 0.8285  \u001b[0m |\n",
      "| \u001b[0m 24      \u001b[0m | \u001b[0m 0.7688  \u001b[0m | \u001b[0m 0.8628  \u001b[0m | \u001b[0m 0.03108 \u001b[0m | \u001b[0m 28.03   \u001b[0m | \u001b[0m 33.85   \u001b[0m | \u001b[0m 12.3    \u001b[0m | \u001b[0m 215.6   \u001b[0m | \u001b[0m 34.96   \u001b[0m | \u001b[0m 0.8252  \u001b[0m |\n",
      "| \u001b[0m 25      \u001b[0m | \u001b[0m 0.7674  \u001b[0m | \u001b[0m 0.7805  \u001b[0m | \u001b[0m 0.04727 \u001b[0m | \u001b[0m 31.09   \u001b[0m | \u001b[0m 32.36   \u001b[0m | \u001b[0m 7.274   \u001b[0m | \u001b[0m 212.7   \u001b[0m | \u001b[0m 26.45   \u001b[0m | \u001b[0m 0.8521  \u001b[0m |\n",
      "| \u001b[0m 26      \u001b[0m | \u001b[0m 0.7684  \u001b[0m | \u001b[0m 0.7943  \u001b[0m | \u001b[0m 0.03512 \u001b[0m | \u001b[0m 25.67   \u001b[0m | \u001b[0m 27.69   \u001b[0m | \u001b[0m 5.247   \u001b[0m | \u001b[0m 203.4   \u001b[0m | \u001b[0m 41.98   \u001b[0m | \u001b[0m 0.8544  \u001b[0m |\n",
      "| \u001b[0m 27      \u001b[0m | \u001b[0m 0.7687  \u001b[0m | \u001b[0m 0.819   \u001b[0m | \u001b[0m 0.04494 \u001b[0m | \u001b[0m 34.86   \u001b[0m | \u001b[0m 28.25   \u001b[0m | \u001b[0m 11.63   \u001b[0m | \u001b[0m 213.2   \u001b[0m | \u001b[0m 25.52   \u001b[0m | \u001b[0m 0.891   \u001b[0m |\n",
      "| \u001b[0m 28      \u001b[0m | \u001b[0m 0.7687  \u001b[0m | \u001b[0m 0.7952  \u001b[0m | \u001b[0m 0.01979 \u001b[0m | \u001b[0m 28.82   \u001b[0m | \u001b[0m 37.47   \u001b[0m | \u001b[0m 11.29   \u001b[0m | \u001b[0m 243.6   \u001b[0m | \u001b[0m 31.84   \u001b[0m | \u001b[0m 0.8958  \u001b[0m |\n",
      "| \u001b[0m 29      \u001b[0m | \u001b[0m 0.7674  \u001b[0m | \u001b[0m 0.7804  \u001b[0m | \u001b[0m 0.04769 \u001b[0m | \u001b[0m 30.31   \u001b[0m | \u001b[0m 28.23   \u001b[0m | \u001b[0m 14.47   \u001b[0m | \u001b[0m 236.5   \u001b[0m | \u001b[0m 31.35   \u001b[0m | \u001b[0m 0.8256  \u001b[0m |\n",
      "| \u001b[0m 30      \u001b[0m | \u001b[0m 0.7649  \u001b[0m | \u001b[0m 0.817   \u001b[0m | \u001b[0m 0.002257\u001b[0m | \u001b[0m 23.11   \u001b[0m | \u001b[0m 31.37   \u001b[0m | \u001b[0m 8.742   \u001b[0m | \u001b[0m 223.2   \u001b[0m | \u001b[0m 31.94   \u001b[0m | \u001b[0m 0.8704  \u001b[0m |\n",
      "| \u001b[0m 31      \u001b[0m | \u001b[0m 0.7666  \u001b[0m | \u001b[0m 0.855   \u001b[0m | \u001b[0m 0.006759\u001b[0m | \u001b[0m 27.76   \u001b[0m | \u001b[0m 26.98   \u001b[0m | \u001b[0m 12.17   \u001b[0m | \u001b[0m 219.8   \u001b[0m | \u001b[0m 39.14   \u001b[0m | \u001b[0m 0.822   \u001b[0m |\n",
      "| \u001b[0m 32      \u001b[0m | \u001b[0m 0.7689  \u001b[0m | \u001b[0m 0.7759  \u001b[0m | \u001b[0m 0.02491 \u001b[0m | \u001b[0m 25.33   \u001b[0m | \u001b[0m 39.11   \u001b[0m | \u001b[0m 12.65   \u001b[0m | \u001b[0m 237.4   \u001b[0m | \u001b[0m 47.59   \u001b[0m | \u001b[0m 0.81    \u001b[0m |\n",
      "| \u001b[0m 33      \u001b[0m | \u001b[0m 0.7687  \u001b[0m | \u001b[0m 0.8207  \u001b[0m | \u001b[0m 0.02964 \u001b[0m | \u001b[0m 34.43   \u001b[0m | \u001b[0m 29.38   \u001b[0m | \u001b[0m 7.408   \u001b[0m | \u001b[0m 205.0   \u001b[0m | \u001b[0m 25.41   \u001b[0m | \u001b[0m 0.9115  \u001b[0m |\n",
      "| \u001b[0m 34      \u001b[0m | \u001b[0m 0.7672  \u001b[0m | \u001b[0m 0.8337  \u001b[0m | \u001b[0m 0.03947 \u001b[0m | \u001b[0m 24.23   \u001b[0m | \u001b[0m 33.8    \u001b[0m | \u001b[0m 5.64    \u001b[0m | \u001b[0m 224.3   \u001b[0m | \u001b[0m 49.44   \u001b[0m | \u001b[0m 0.9052  \u001b[0m |\n",
      "| \u001b[0m 35      \u001b[0m | \u001b[0m 0.7662  \u001b[0m | \u001b[0m 0.7972  \u001b[0m | \u001b[0m 0.04812 \u001b[0m | \u001b[0m 23.48   \u001b[0m | \u001b[0m 39.24   \u001b[0m | \u001b[0m 14.41   \u001b[0m | \u001b[0m 240.0   \u001b[0m | \u001b[0m 40.76   \u001b[0m | \u001b[0m 0.9049  \u001b[0m |\n",
      "| \u001b[0m 36      \u001b[0m | \u001b[0m 0.7674  \u001b[0m | \u001b[0m 0.7922  \u001b[0m | \u001b[0m 0.0426  \u001b[0m | \u001b[0m 29.27   \u001b[0m | \u001b[0m 25.2    \u001b[0m | \u001b[0m 8.472   \u001b[0m | \u001b[0m 207.4   \u001b[0m | \u001b[0m 49.55   \u001b[0m | \u001b[0m 0.8574  \u001b[0m |\n",
      "| \u001b[0m 37      \u001b[0m | \u001b[0m 0.7686  \u001b[0m | \u001b[0m 0.8147  \u001b[0m | \u001b[0m 0.03233 \u001b[0m | \u001b[0m 25.53   \u001b[0m | \u001b[0m 27.05   \u001b[0m | \u001b[0m 13.22   \u001b[0m | \u001b[0m 209.5   \u001b[0m | \u001b[0m 37.78   \u001b[0m | \u001b[0m 0.8269  \u001b[0m |\n",
      "| \u001b[0m 38      \u001b[0m | \u001b[0m 0.7679  \u001b[0m | \u001b[0m 0.7708  \u001b[0m | \u001b[0m 0.04325 \u001b[0m | \u001b[0m 34.59   \u001b[0m | \u001b[0m 39.41   \u001b[0m | \u001b[0m 14.07   \u001b[0m | \u001b[0m 238.7   \u001b[0m | \u001b[0m 33.33   \u001b[0m | \u001b[0m 0.8097  \u001b[0m |\n",
      "| \u001b[0m 39      \u001b[0m | \u001b[0m 0.7681  \u001b[0m | \u001b[0m 0.8048  \u001b[0m | \u001b[0m 0.01238 \u001b[0m | \u001b[0m 21.99   \u001b[0m | \u001b[0m 25.8    \u001b[0m | \u001b[0m 12.26   \u001b[0m | \u001b[0m 200.6   \u001b[0m | \u001b[0m 44.26   \u001b[0m | \u001b[0m 0.8176  \u001b[0m |\n",
      "| \u001b[0m 40      \u001b[0m | \u001b[0m 0.7668  \u001b[0m | \u001b[0m 0.7687  \u001b[0m | \u001b[0m 0.005391\u001b[0m | \u001b[0m 30.08   \u001b[0m | \u001b[0m 28.68   \u001b[0m | \u001b[0m 9.205   \u001b[0m | \u001b[0m 227.9   \u001b[0m | \u001b[0m 46.51   \u001b[0m | \u001b[0m 0.8872  \u001b[0m |\n"
     ]
    },
    {
     "name": "stdout",
     "output_type": "stream",
     "text": [
      "| \u001b[0m 41      \u001b[0m | \u001b[0m 0.7688  \u001b[0m | \u001b[0m 0.8483  \u001b[0m | \u001b[0m 0.03102 \u001b[0m | \u001b[0m 29.61   \u001b[0m | \u001b[0m 36.12   \u001b[0m | \u001b[0m 10.89   \u001b[0m | \u001b[0m 246.1   \u001b[0m | \u001b[0m 27.76   \u001b[0m | \u001b[0m 0.8095  \u001b[0m |\n",
      "| \u001b[0m 42      \u001b[0m | \u001b[0m 0.7685  \u001b[0m | \u001b[0m 0.8568  \u001b[0m | \u001b[0m 0.01497 \u001b[0m | \u001b[0m 32.32   \u001b[0m | \u001b[0m 33.79   \u001b[0m | \u001b[0m 9.075   \u001b[0m | \u001b[0m 242.8   \u001b[0m | \u001b[0m 28.53   \u001b[0m | \u001b[0m 0.8162  \u001b[0m |\n",
      "| \u001b[0m 43      \u001b[0m | \u001b[0m 0.7687  \u001b[0m | \u001b[0m 0.865   \u001b[0m | \u001b[0m 0.03621 \u001b[0m | \u001b[0m 25.83   \u001b[0m | \u001b[0m 35.35   \u001b[0m | \u001b[0m 9.586   \u001b[0m | \u001b[0m 211.7   \u001b[0m | \u001b[0m 37.38   \u001b[0m | \u001b[0m 0.9005  \u001b[0m |\n",
      "| \u001b[0m 44      \u001b[0m | \u001b[0m 0.7659  \u001b[0m | \u001b[0m 0.797   \u001b[0m | \u001b[0m 0.005701\u001b[0m | \u001b[0m 33.82   \u001b[0m | \u001b[0m 33.26   \u001b[0m | \u001b[0m 14.22   \u001b[0m | \u001b[0m 248.5   \u001b[0m | \u001b[0m 26.17   \u001b[0m | \u001b[0m 0.8354  \u001b[0m |\n",
      "| \u001b[0m 45      \u001b[0m | \u001b[0m 0.7689  \u001b[0m | \u001b[0m 0.8632  \u001b[0m | \u001b[0m 0.02482 \u001b[0m | \u001b[0m 30.7    \u001b[0m | \u001b[0m 33.7    \u001b[0m | \u001b[0m 9.209   \u001b[0m | \u001b[0m 245.7   \u001b[0m | \u001b[0m 27.34   \u001b[0m | \u001b[0m 0.8071  \u001b[0m |\n",
      "| \u001b[0m 46      \u001b[0m | \u001b[0m 0.7693  \u001b[0m | \u001b[0m 0.8187  \u001b[0m | \u001b[0m 0.02651 \u001b[0m | \u001b[0m 24.04   \u001b[0m | \u001b[0m 34.61   \u001b[0m | \u001b[0m 11.78   \u001b[0m | \u001b[0m 214.3   \u001b[0m | \u001b[0m 36.96   \u001b[0m | \u001b[0m 0.81    \u001b[0m |\n",
      "| \u001b[0m 47      \u001b[0m | \u001b[0m 0.7684  \u001b[0m | \u001b[0m 0.8442  \u001b[0m | \u001b[0m 0.03692 \u001b[0m | \u001b[0m 22.66   \u001b[0m | \u001b[0m 34.03   \u001b[0m | \u001b[0m 10.3    \u001b[0m | \u001b[0m 213.1   \u001b[0m | \u001b[0m 34.39   \u001b[0m | \u001b[0m 0.8472  \u001b[0m |\n",
      "| \u001b[0m 48      \u001b[0m | \u001b[0m 0.7689  \u001b[0m | \u001b[0m 0.7631  \u001b[0m | \u001b[0m 0.02377 \u001b[0m | \u001b[0m 23.29   \u001b[0m | \u001b[0m 36.94   \u001b[0m | \u001b[0m 11.45   \u001b[0m | \u001b[0m 216.4   \u001b[0m | \u001b[0m 38.51   \u001b[0m | \u001b[0m 0.8094  \u001b[0m |\n",
      "| \u001b[0m 49      \u001b[0m | \u001b[0m 0.765   \u001b[0m | \u001b[0m 0.76    \u001b[0m | \u001b[0m 0.001   \u001b[0m | \u001b[0m 23.28   \u001b[0m | \u001b[0m 36.71   \u001b[0m | \u001b[0m 14.26   \u001b[0m | \u001b[0m 212.8   \u001b[0m | \u001b[0m 37.83   \u001b[0m | \u001b[0m 0.8     \u001b[0m |\n",
      "| \u001b[0m 50      \u001b[0m | \u001b[0m 0.7688  \u001b[0m | \u001b[0m 0.8315  \u001b[0m | \u001b[0m 0.02691 \u001b[0m | \u001b[0m 25.8    \u001b[0m | \u001b[0m 35.55   \u001b[0m | \u001b[0m 11.13   \u001b[0m | \u001b[0m 216.2   \u001b[0m | \u001b[0m 37.53   \u001b[0m | \u001b[0m 0.8322  \u001b[0m |\n",
      "=========================================================================================================================\n"
     ]
    }
   ],
   "source": [
    "BO_lgbm.maximize(init_points=40, n_iter=10)"
   ]
  },
  {
   "cell_type": "code",
   "execution_count": 37,
   "metadata": {
    "colab": {
     "base_uri": "https://localhost:8080/",
     "height": 143
    },
    "id": "UAQkYnc0vZoE",
    "outputId": "d1a8724b-ec75-4b58-ec0c-c3f42e25ce3d"
   },
   "outputs": [
    {
     "data": {
      "text/plain": [
       "{'colsample_bytree': 0.8660029036551132,\n",
       " 'learning_rate': 0.01978863442246311,\n",
       " 'max_depth': 32,\n",
       " 'min_child_samples': 33,\n",
       " 'min_child_weight': 10.680445610939323,\n",
       " 'n_estimators': 246,\n",
       " 'num_leaves': 27,\n",
       " 'subsample': 0.810455515964185,\n",
       " 'objective': 'binary',\n",
       " 'n_jobs': -1}"
      ]
     },
     "execution_count": 37,
     "metadata": {},
     "output_type": "execute_result"
    }
   ],
   "source": [
    "# BO_rf.res  # 모든 성능 들어가있음\n",
    "BO_lgbm.max\n",
    "\n",
    "max_params = BO_lgbm.max['params']\n",
    "\n",
    "max_params['n_estimators'] = int(round(max_params['n_estimators']))\n",
    "max_params['max_depth'] = int(round(max_params['max_depth']))\n",
    "max_params['min_child_samples'] = int(round(max_params['min_child_samples']))\n",
    "max_params['num_leaves'] = int(round(max_params['num_leaves']))\n",
    "max_params['objective'] = 'binary'\n",
    "max_params['n_jobs'] = -1\n",
    "\n",
    "max_params"
   ]
  },
  {
   "cell_type": "code",
   "execution_count": 38,
   "metadata": {
    "colab": {
     "base_uri": "https://localhost:8080/",
     "height": 71
    },
    "id": "J3hiDfZjvZoF",
    "outputId": "7d88bf30-d183-4827-f35b-aa511eab2a97"
   },
   "outputs": [
    {
     "name": "stdout",
     "output_type": "stream",
     "text": [
      "[0.76782907 0.76869036 0.7746348  0.7661447 ]\n",
      "최대성능: 0.7746348009892114\n",
      "평균성능: 0.7693247322680086\n"
     ]
    }
   ],
   "source": [
    "lgbm_clf = LGBMClassifier(**max_params)\n",
    "\n",
    "scores = cross_val_score(lgbm_clf, X_train, y_train, scoring='roc_auc', cv=cv, n_jobs=-1)\n",
    "\n",
    "print(scores)\n",
    "print(f'최대성능: {max(scores)}\\n평균성능: {np.mean(scores)}')\n",
    "\n",
    "BO_tuned_clfs.append((lgbm_clf.__class__.__name__, lgbm_clf, np.mean(scores)))"
   ]
  },
  {
   "cell_type": "markdown",
   "metadata": {
    "id": "6T12GRGjvZpU"
   },
   "source": [
    "<font color = 'blue'> \n",
    "\n",
    "# 아홉번째 BO_tuned_clfs "
   ]
  },
  {
   "cell_type": "markdown",
   "metadata": {
    "id": "9xZ4rrXOvZpX"
   },
   "source": [
    "lgb_clf"
   ]
  },
  {
   "cell_type": "code",
   "execution_count": 39,
   "metadata": {
    "id": "orLNU7bLvZoA"
   },
   "outputs": [],
   "source": [
    "pbounds = { 'learning_rate': (0.001, 0.05),\n",
    "            'n_estimators': (100, 200),\n",
    "            'max_depth': (15,25),   \n",
    "            'min_child_samples' : (20, 35),\n",
    "            'subsample': (0.8,0.92), \n",
    "            'colsample_bytree': (0.75,0.85),   \n",
    "            'num_leaves': (20,40),\n",
    "            'min_child_weight': (5, 15)}\n",
    "\n",
    "\n",
    "def lgbm_opt(learning_rate, n_estimators, max_depth, min_child_samples, subsample, colsample_bytree, num_leaves, min_child_weight):\n",
    "\n",
    "    params = {\n",
    "        'learning_rate': learning_rate,\n",
    "        'n_estimators' : int(round(n_estimators)),\n",
    "        'max_depth' : int(round(max_depth)),\n",
    "        'min_child_samples' : int(round(min_child_samples)),\n",
    "        'subsample': subsample,\n",
    "        'colsample_bytree' : colsample_bytree,\n",
    "        'num_leaves' : int(round(num_leaves)),\n",
    "        'min_child_weight' : min_child_weight,\n",
    "        'objective' : 'binary',\n",
    "        'n_jobs' : -1\n",
    "    }\n",
    "    \n",
    "    lgbm = LGBMClassifier(**params)\n",
    "    \n",
    "    score = cross_val_score(lgbm, X_train, y_train, scoring='roc_auc', cv=cv, n_jobs=-1)\n",
    "    \n",
    "    return np.mean(score)\n",
    "\n",
    "BO_lgbm = BayesianOptimization(f = lgbm_opt, pbounds = pbounds, random_state=0)    \n"
   ]
  },
  {
   "cell_type": "code",
   "execution_count": 40,
   "metadata": {
    "colab": {
     "base_uri": "https://localhost:8080/",
     "height": 1000
    },
    "id": "FEUretOMvZoC",
    "outputId": "fbf7185d-1f26-42a2-9c03-f1e069666388",
    "scrolled": true
   },
   "outputs": [
    {
     "name": "stdout",
     "output_type": "stream",
     "text": [
      "|   iter    |  target   | colsam... | learni... | max_depth | min_ch... | min_ch... | n_esti... | num_le... | subsample |\n",
      "-------------------------------------------------------------------------------------------------------------------------\n",
      "| \u001b[0m 1       \u001b[0m | \u001b[0m 0.7687  \u001b[0m | \u001b[0m 0.8049  \u001b[0m | \u001b[0m 0.03604 \u001b[0m | \u001b[0m 21.03   \u001b[0m | \u001b[0m 28.17   \u001b[0m | \u001b[0m 9.237   \u001b[0m | \u001b[0m 164.6   \u001b[0m | \u001b[0m 28.75   \u001b[0m | \u001b[0m 0.907   \u001b[0m |\n",
      "| \u001b[0m 2       \u001b[0m | \u001b[0m 0.768   \u001b[0m | \u001b[0m 0.8464  \u001b[0m | \u001b[0m 0.01979 \u001b[0m | \u001b[0m 22.92   \u001b[0m | \u001b[0m 27.93   \u001b[0m | \u001b[0m 10.68   \u001b[0m | \u001b[0m 192.6   \u001b[0m | \u001b[0m 21.42   \u001b[0m | \u001b[0m 0.8105  \u001b[0m |\n",
      "| \u001b[0m 3       \u001b[0m | \u001b[0m 0.7685  \u001b[0m | \u001b[0m 0.752   \u001b[0m | \u001b[0m 0.0418  \u001b[0m | \u001b[0m 22.78   \u001b[0m | \u001b[0m 33.05   \u001b[0m | \u001b[0m 14.79   \u001b[0m | \u001b[0m 179.9   \u001b[0m | \u001b[0m 29.23   \u001b[0m | \u001b[0m 0.8937  \u001b[0m |\n",
      "| \u001b[0m 4       \u001b[0m | \u001b[0m 0.7684  \u001b[0m | \u001b[0m 0.7618  \u001b[0m | \u001b[0m 0.03236 \u001b[0m | \u001b[0m 16.43   \u001b[0m | \u001b[0m 34.17   \u001b[0m | \u001b[0m 10.22   \u001b[0m | \u001b[0m 141.5   \u001b[0m | \u001b[0m 25.29   \u001b[0m | \u001b[0m 0.8929  \u001b[0m |\n",
      "| \u001b[95m 5       \u001b[0m | \u001b[95m 0.7688  \u001b[0m | \u001b[95m 0.7956  \u001b[0m | \u001b[95m 0.02885 \u001b[0m | \u001b[95m 15.19   \u001b[0m | \u001b[95m 29.26   \u001b[0m | \u001b[95m 11.12   \u001b[0m | \u001b[95m 161.7   \u001b[0m | \u001b[95m 38.87   \u001b[0m | \u001b[95m 0.8818  \u001b[0m |\n",
      "| \u001b[0m 6       \u001b[0m | \u001b[0m 0.7684  \u001b[0m | \u001b[0m 0.786   \u001b[0m | \u001b[0m 0.02241 \u001b[0m | \u001b[0m 21.98   \u001b[0m | \u001b[0m 20.9    \u001b[0m | \u001b[0m 11.67   \u001b[0m | \u001b[0m 167.1   \u001b[0m | \u001b[0m 24.21   \u001b[0m | \u001b[0m 0.8155  \u001b[0m |\n",
      "| \u001b[0m 7       \u001b[0m | \u001b[0m 0.7668  \u001b[0m | \u001b[0m 0.7815  \u001b[0m | \u001b[0m 0.01882 \u001b[0m | \u001b[0m 20.7    \u001b[0m | \u001b[0m 26.58   \u001b[0m | \u001b[0m 14.88   \u001b[0m | \u001b[0m 110.2   \u001b[0m | \u001b[0m 24.18   \u001b[0m | \u001b[0m 0.8194  \u001b[0m |\n",
      "| \u001b[0m 8       \u001b[0m | \u001b[0m 0.7666  \u001b[0m | \u001b[0m 0.8153  \u001b[0m | \u001b[0m 0.01341 \u001b[0m | \u001b[0m 19.66   \u001b[0m | \u001b[0m 23.67   \u001b[0m | \u001b[0m 6.59    \u001b[0m | \u001b[0m 111.0   \u001b[0m | \u001b[0m 33.13   \u001b[0m | \u001b[0m 0.8166  \u001b[0m |\n",
      "| \u001b[0m 9       \u001b[0m | \u001b[0m 0.7678  \u001b[0m | \u001b[0m 0.7697  \u001b[0m | \u001b[0m 0.01907 \u001b[0m | \u001b[0m 23.21   \u001b[0m | \u001b[0m 21.46   \u001b[0m | \u001b[0m 13.38   \u001b[0m | \u001b[0m 109.6   \u001b[0m | \u001b[0m 39.53   \u001b[0m | \u001b[0m 0.8562  \u001b[0m |\n",
      "| \u001b[0m 10      \u001b[0m | \u001b[0m 0.7682  \u001b[0m | \u001b[0m 0.8477  \u001b[0m | \u001b[0m 0.03064 \u001b[0m | \u001b[0m 22.39   \u001b[0m | \u001b[0m 20.59   \u001b[0m | \u001b[0m 7.828   \u001b[0m | \u001b[0m 112.0   \u001b[0m | \u001b[0m 25.92   \u001b[0m | \u001b[0m 0.8142  \u001b[0m |\n",
      "| \u001b[0m 11      \u001b[0m | \u001b[0m 0.7681  \u001b[0m | \u001b[0m 0.7818  \u001b[0m | \u001b[0m 0.0213  \u001b[0m | \u001b[0m 15.64   \u001b[0m | \u001b[0m 30.39   \u001b[0m | \u001b[0m 10.67   \u001b[0m | \u001b[0m 126.5   \u001b[0m | \u001b[0m 30.46   \u001b[0m | \u001b[0m 0.8113  \u001b[0m |\n",
      "| \u001b[0m 12      \u001b[0m | \u001b[0m 0.7681  \u001b[0m | \u001b[0m 0.8076  \u001b[0m | \u001b[0m 0.04654 \u001b[0m | \u001b[0m 18.19   \u001b[0m | \u001b[0m 30.01   \u001b[0m | \u001b[0m 6.318   \u001b[0m | \u001b[0m 171.6   \u001b[0m | \u001b[0m 25.79   \u001b[0m | \u001b[0m 0.822   \u001b[0m |\n",
      "| \u001b[0m 13      \u001b[0m | \u001b[0m 0.7646  \u001b[0m | \u001b[0m 0.8087  \u001b[0m | \u001b[0m 0.001985\u001b[0m | \u001b[0m 23.29   \u001b[0m | \u001b[0m 20.07   \u001b[0m | \u001b[0m 11.78   \u001b[0m | \u001b[0m 127.0   \u001b[0m | \u001b[0m 34.7    \u001b[0m | \u001b[0m 0.9155  \u001b[0m |\n",
      "| \u001b[95m 14      \u001b[0m | \u001b[95m 0.7689  \u001b[0m | \u001b[95m 0.7749  \u001b[0m | \u001b[95m 0.02923 \u001b[0m | \u001b[95m 20.92   \u001b[0m | \u001b[95m 28.58   \u001b[0m | \u001b[95m 7.231   \u001b[0m | \u001b[95m 195.3   \u001b[0m | \u001b[95m 28.94   \u001b[0m | \u001b[95m 0.9016  \u001b[0m |\n",
      "| \u001b[0m 15      \u001b[0m | \u001b[0m 0.7679  \u001b[0m | \u001b[0m 0.8199  \u001b[0m | \u001b[0m 0.01557 \u001b[0m | \u001b[0m 23.14   \u001b[0m | \u001b[0m 25.95   \u001b[0m | \u001b[0m 13.81   \u001b[0m | \u001b[0m 158.1   \u001b[0m | \u001b[0m 37.63   \u001b[0m | \u001b[0m 0.8831  \u001b[0m |\n",
      "| \u001b[0m 16      \u001b[0m | \u001b[0m 0.7681  \u001b[0m | \u001b[0m 0.8225  \u001b[0m | \u001b[0m 0.02556 \u001b[0m | \u001b[0m 24.56   \u001b[0m | \u001b[0m 29.66   \u001b[0m | \u001b[0m 9.239   \u001b[0m | \u001b[0m 160.6   \u001b[0m | \u001b[0m 20.38   \u001b[0m | \u001b[0m 0.8362  \u001b[0m |\n",
      "| \u001b[0m 17      \u001b[0m | \u001b[0m 0.7674  \u001b[0m | \u001b[0m 0.816   \u001b[0m | \u001b[0m 0.01521 \u001b[0m | \u001b[0m 21.18   \u001b[0m | \u001b[0m 26.43   \u001b[0m | \u001b[0m 6.355   \u001b[0m | \u001b[0m 129.8   \u001b[0m | \u001b[0m 31.4    \u001b[0m | \u001b[0m 0.8709  \u001b[0m |\n",
      "| \u001b[0m 18      \u001b[0m | \u001b[0m 0.7686  \u001b[0m | \u001b[0m 0.8074  \u001b[0m | \u001b[0m 0.03301 \u001b[0m | \u001b[0m 21.52   \u001b[0m | \u001b[0m 26.47   \u001b[0m | \u001b[0m 13.97   \u001b[0m | \u001b[0m 136.8   \u001b[0m | \u001b[0m 28.72   \u001b[0m | \u001b[0m 0.907   \u001b[0m |\n",
      "| \u001b[0m 19      \u001b[0m | \u001b[0m 0.7688  \u001b[0m | \u001b[0m 0.8306  \u001b[0m | \u001b[0m 0.03549 \u001b[0m | \u001b[0m 16.0    \u001b[0m | \u001b[0m 33.79   \u001b[0m | \u001b[0m 12.14   \u001b[0m | \u001b[0m 199.9   \u001b[0m | \u001b[0m 22.99   \u001b[0m | \u001b[0m 0.9042  \u001b[0m |\n",
      "| \u001b[95m 20      \u001b[0m | \u001b[95m 0.769   \u001b[0m | \u001b[95m 0.7662  \u001b[0m | \u001b[95m 0.03116 \u001b[0m | \u001b[95m 16.24   \u001b[0m | \u001b[95m 32.72   \u001b[0m | \u001b[95m 13.07   \u001b[0m | \u001b[95m 156.9   \u001b[0m | \u001b[95m 28.14   \u001b[0m | \u001b[95m 0.8083  \u001b[0m |\n",
      "| \u001b[0m 21      \u001b[0m | \u001b[0m 0.7684  \u001b[0m | \u001b[0m 0.8197  \u001b[0m | \u001b[0m 0.02322 \u001b[0m | \u001b[0m 22.22   \u001b[0m | \u001b[0m 33.0    \u001b[0m | \u001b[0m 14.76   \u001b[0m | \u001b[0m 185.6   \u001b[0m | \u001b[0m 20.23   \u001b[0m | \u001b[0m 0.8432  \u001b[0m |\n",
      "| \u001b[0m 22      \u001b[0m | \u001b[0m 0.7656  \u001b[0m | \u001b[0m 0.823   \u001b[0m | \u001b[0m 0.00941 \u001b[0m | \u001b[0m 20.21   \u001b[0m | \u001b[0m 20.82   \u001b[0m | \u001b[0m 7.0     \u001b[0m | \u001b[0m 101.9   \u001b[0m | \u001b[0m 35.87   \u001b[0m | \u001b[0m 0.8269  \u001b[0m |\n",
      "| \u001b[0m 23      \u001b[0m | \u001b[0m 0.7685  \u001b[0m | \u001b[0m 0.7845  \u001b[0m | \u001b[0m 0.04648 \u001b[0m | \u001b[0m 22.04   \u001b[0m | \u001b[0m 20.48   \u001b[0m | \u001b[0m 6.647   \u001b[0m | \u001b[0m 162.1   \u001b[0m | \u001b[0m 31.54   \u001b[0m | \u001b[0m 0.8285  \u001b[0m |\n",
      "| \u001b[0m 24      \u001b[0m | \u001b[0m 0.7685  \u001b[0m | \u001b[0m 0.8434  \u001b[0m | \u001b[0m 0.03108 \u001b[0m | \u001b[0m 20.36   \u001b[0m | \u001b[0m 28.85   \u001b[0m | \u001b[0m 12.3    \u001b[0m | \u001b[0m 131.2   \u001b[0m | \u001b[0m 27.96   \u001b[0m | \u001b[0m 0.8252  \u001b[0m |\n",
      "| \u001b[0m 25      \u001b[0m | \u001b[0m 0.7686  \u001b[0m | \u001b[0m 0.7686  \u001b[0m | \u001b[0m 0.04727 \u001b[0m | \u001b[0m 22.4    \u001b[0m | \u001b[0m 27.36   \u001b[0m | \u001b[0m 7.274   \u001b[0m | \u001b[0m 125.4   \u001b[0m | \u001b[0m 21.16   \u001b[0m | \u001b[0m 0.8521  \u001b[0m |\n",
      "| \u001b[0m 26      \u001b[0m | \u001b[0m 0.7684  \u001b[0m | \u001b[0m 0.7812  \u001b[0m | \u001b[0m 0.03512 \u001b[0m | \u001b[0m 18.78   \u001b[0m | \u001b[0m 22.69   \u001b[0m | \u001b[0m 5.247   \u001b[0m | \u001b[0m 106.7   \u001b[0m | \u001b[0m 33.59   \u001b[0m | \u001b[0m 0.8544  \u001b[0m |\n",
      "| \u001b[0m 27      \u001b[0m | \u001b[0m 0.7687  \u001b[0m | \u001b[0m 0.8037  \u001b[0m | \u001b[0m 0.04494 \u001b[0m | \u001b[0m 24.9    \u001b[0m | \u001b[0m 23.25   \u001b[0m | \u001b[0m 11.63   \u001b[0m | \u001b[0m 126.3   \u001b[0m | \u001b[0m 20.41   \u001b[0m | \u001b[0m 0.891   \u001b[0m |\n",
      "| \u001b[0m 28      \u001b[0m | \u001b[0m 0.7681  \u001b[0m | \u001b[0m 0.782   \u001b[0m | \u001b[0m 0.01979 \u001b[0m | \u001b[0m 20.88   \u001b[0m | \u001b[0m 32.47   \u001b[0m | \u001b[0m 11.29   \u001b[0m | \u001b[0m 187.3   \u001b[0m | \u001b[0m 25.47   \u001b[0m | \u001b[0m 0.8958  \u001b[0m |\n",
      "| \u001b[0m 29      \u001b[0m | \u001b[0m 0.7686  \u001b[0m | \u001b[0m 0.7686  \u001b[0m | \u001b[0m 0.04769 \u001b[0m | \u001b[0m 21.87   \u001b[0m | \u001b[0m 23.23   \u001b[0m | \u001b[0m 14.47   \u001b[0m | \u001b[0m 173.1   \u001b[0m | \u001b[0m 25.08   \u001b[0m | \u001b[0m 0.8256  \u001b[0m |\n",
      "| \u001b[0m 30      \u001b[0m | \u001b[0m 0.7642  \u001b[0m | \u001b[0m 0.8018  \u001b[0m | \u001b[0m 0.002257\u001b[0m | \u001b[0m 17.07   \u001b[0m | \u001b[0m 26.37   \u001b[0m | \u001b[0m 8.742   \u001b[0m | \u001b[0m 146.4   \u001b[0m | \u001b[0m 25.55   \u001b[0m | \u001b[0m 0.8704  \u001b[0m |\n",
      "| \u001b[0m 31      \u001b[0m | \u001b[0m 0.7653  \u001b[0m | \u001b[0m 0.8364  \u001b[0m | \u001b[0m 0.006759\u001b[0m | \u001b[0m 20.17   \u001b[0m | \u001b[0m 21.98   \u001b[0m | \u001b[0m 12.17   \u001b[0m | \u001b[0m 139.6   \u001b[0m | \u001b[0m 31.31   \u001b[0m | \u001b[0m 0.822   \u001b[0m |\n",
      "| \u001b[95m 32      \u001b[0m | \u001b[95m 0.769   \u001b[0m | \u001b[95m 0.7645  \u001b[0m | \u001b[95m 0.02491 \u001b[0m | \u001b[95m 18.56   \u001b[0m | \u001b[95m 34.11   \u001b[0m | \u001b[95m 12.65   \u001b[0m | \u001b[95m 174.9   \u001b[0m | \u001b[95m 38.07   \u001b[0m | \u001b[95m 0.81    \u001b[0m |\n",
      "| \u001b[0m 33      \u001b[0m | \u001b[0m 0.7676  \u001b[0m | \u001b[0m 0.8052  \u001b[0m | \u001b[0m 0.02964 \u001b[0m | \u001b[0m 24.62   \u001b[0m | \u001b[0m 24.38   \u001b[0m | \u001b[0m 7.408   \u001b[0m | \u001b[0m 110.0   \u001b[0m | \u001b[0m 20.33   \u001b[0m | \u001b[0m 0.9115  \u001b[0m |\n",
      "| \u001b[0m 34      \u001b[0m | \u001b[0m 0.7685  \u001b[0m | \u001b[0m 0.817   \u001b[0m | \u001b[0m 0.03947 \u001b[0m | \u001b[0m 17.82   \u001b[0m | \u001b[0m 28.8    \u001b[0m | \u001b[0m 5.64    \u001b[0m | \u001b[0m 148.6   \u001b[0m | \u001b[0m 39.55   \u001b[0m | \u001b[0m 0.9052  \u001b[0m |\n",
      "| \u001b[0m 35      \u001b[0m | \u001b[0m 0.7678  \u001b[0m | \u001b[0m 0.7838  \u001b[0m | \u001b[0m 0.04812 \u001b[0m | \u001b[0m 17.32   \u001b[0m | \u001b[0m 34.24   \u001b[0m | \u001b[0m 14.41   \u001b[0m | \u001b[0m 179.9   \u001b[0m | \u001b[0m 32.61   \u001b[0m | \u001b[0m 0.9049  \u001b[0m |\n",
      "| \u001b[0m 36      \u001b[0m | \u001b[0m 0.7685  \u001b[0m | \u001b[0m 0.7793  \u001b[0m | \u001b[0m 0.0426  \u001b[0m | \u001b[0m 21.18   \u001b[0m | \u001b[0m 20.2    \u001b[0m | \u001b[0m 8.472   \u001b[0m | \u001b[0m 114.8   \u001b[0m | \u001b[0m 39.64   \u001b[0m | \u001b[0m 0.8574  \u001b[0m |\n",
      "| \u001b[0m 37      \u001b[0m | \u001b[0m 0.7684  \u001b[0m | \u001b[0m 0.7997  \u001b[0m | \u001b[0m 0.03233 \u001b[0m | \u001b[0m 18.69   \u001b[0m | \u001b[0m 22.05   \u001b[0m | \u001b[0m 13.22   \u001b[0m | \u001b[0m 119.0   \u001b[0m | \u001b[0m 30.23   \u001b[0m | \u001b[0m 0.8269  \u001b[0m |\n",
      "| \u001b[0m 38      \u001b[0m | \u001b[0m 0.7685  \u001b[0m | \u001b[0m 0.7598  \u001b[0m | \u001b[0m 0.04325 \u001b[0m | \u001b[0m 24.73   \u001b[0m | \u001b[0m 34.41   \u001b[0m | \u001b[0m 14.07   \u001b[0m | \u001b[0m 177.4   \u001b[0m | \u001b[0m 26.66   \u001b[0m | \u001b[0m 0.8097  \u001b[0m |\n",
      "| \u001b[0m 39      \u001b[0m | \u001b[0m 0.7665  \u001b[0m | \u001b[0m 0.7907  \u001b[0m | \u001b[0m 0.01238 \u001b[0m | \u001b[0m 16.32   \u001b[0m | \u001b[0m 20.8    \u001b[0m | \u001b[0m 12.26   \u001b[0m | \u001b[0m 101.1   \u001b[0m | \u001b[0m 35.41   \u001b[0m | \u001b[0m 0.8176  \u001b[0m |\n",
      "| \u001b[0m 40      \u001b[0m | \u001b[0m 0.7663  \u001b[0m | \u001b[0m 0.758   \u001b[0m | \u001b[0m 0.005391\u001b[0m | \u001b[0m 21.72   \u001b[0m | \u001b[0m 23.68   \u001b[0m | \u001b[0m 9.205   \u001b[0m | \u001b[0m 155.7   \u001b[0m | \u001b[0m 37.21   \u001b[0m | \u001b[0m 0.8872  \u001b[0m |\n"
     ]
    },
    {
     "name": "stdout",
     "output_type": "stream",
     "text": [
      "| \u001b[0m 41      \u001b[0m | \u001b[0m 0.7676  \u001b[0m | \u001b[0m 0.7796  \u001b[0m | \u001b[0m 0.04642 \u001b[0m | \u001b[0m 21.15   \u001b[0m | \u001b[0m 28.75   \u001b[0m | \u001b[0m 8.658   \u001b[0m | \u001b[0m 195.7   \u001b[0m | \u001b[0m 28.61   \u001b[0m | \u001b[0m 0.8761  \u001b[0m |\n",
      "| \u001b[0m 42      \u001b[0m | \u001b[0m 0.769   \u001b[0m | \u001b[0m 0.8266  \u001b[0m | \u001b[0m 0.03294 \u001b[0m | \u001b[0m 22.02   \u001b[0m | \u001b[0m 29.37   \u001b[0m | \u001b[0m 12.06   \u001b[0m | \u001b[0m 181.1   \u001b[0m | \u001b[0m 34.17   \u001b[0m | \u001b[0m 0.9014  \u001b[0m |\n",
      "| \u001b[0m 43      \u001b[0m | \u001b[0m 0.7687  \u001b[0m | \u001b[0m 0.7864  \u001b[0m | \u001b[0m 0.02638 \u001b[0m | \u001b[0m 21.33   \u001b[0m | \u001b[0m 28.1    \u001b[0m | \u001b[0m 14.3    \u001b[0m | \u001b[0m 176.3   \u001b[0m | \u001b[0m 26.69   \u001b[0m | \u001b[0m 0.8185  \u001b[0m |\n",
      "| \u001b[0m 44      \u001b[0m | \u001b[0m 0.768   \u001b[0m | \u001b[0m 0.8106  \u001b[0m | \u001b[0m 0.01755 \u001b[0m | \u001b[0m 22.32   \u001b[0m | \u001b[0m 34.94   \u001b[0m | \u001b[0m 8.204   \u001b[0m | \u001b[0m 164.1   \u001b[0m | \u001b[0m 24.94   \u001b[0m | \u001b[0m 0.8372  \u001b[0m |\n",
      "| \u001b[0m 45      \u001b[0m | \u001b[0m 0.7663  \u001b[0m | \u001b[0m 0.8088  \u001b[0m | \u001b[0m 0.007451\u001b[0m | \u001b[0m 16.4    \u001b[0m | \u001b[0m 21.01   \u001b[0m | \u001b[0m 14.75   \u001b[0m | \u001b[0m 180.9   \u001b[0m | \u001b[0m 32.18   \u001b[0m | \u001b[0m 0.8105  \u001b[0m |\n",
      "| \u001b[0m 46      \u001b[0m | \u001b[0m 0.768   \u001b[0m | \u001b[0m 0.8361  \u001b[0m | \u001b[0m 0.02232 \u001b[0m | \u001b[0m 18.99   \u001b[0m | \u001b[0m 28.69   \u001b[0m | \u001b[0m 11.0    \u001b[0m | \u001b[0m 139.3   \u001b[0m | \u001b[0m 27.0    \u001b[0m | \u001b[0m 0.9032  \u001b[0m |\n",
      "| \u001b[0m 47      \u001b[0m | \u001b[0m 0.7685  \u001b[0m | \u001b[0m 0.8086  \u001b[0m | \u001b[0m 0.04661 \u001b[0m | \u001b[0m 20.22   \u001b[0m | \u001b[0m 24.56   \u001b[0m | \u001b[0m 13.85   \u001b[0m | \u001b[0m 119.7   \u001b[0m | \u001b[0m 33.65   \u001b[0m | \u001b[0m 0.8447  \u001b[0m |\n",
      "| \u001b[0m 48      \u001b[0m | \u001b[0m 0.7683  \u001b[0m | \u001b[0m 0.8361  \u001b[0m | \u001b[0m 0.04    \u001b[0m | \u001b[0m 22.34   \u001b[0m | \u001b[0m 26.97   \u001b[0m | \u001b[0m 7.68    \u001b[0m | \u001b[0m 125.1   \u001b[0m | \u001b[0m 20.53   \u001b[0m | \u001b[0m 0.8118  \u001b[0m |\n",
      "| \u001b[0m 49      \u001b[0m | \u001b[0m 0.7681  \u001b[0m | \u001b[0m 0.7873  \u001b[0m | \u001b[0m 0.04553 \u001b[0m | \u001b[0m 23.2    \u001b[0m | \u001b[0m 27.43   \u001b[0m | \u001b[0m 5.751   \u001b[0m | \u001b[0m 193.9   \u001b[0m | \u001b[0m 29.59   \u001b[0m | \u001b[0m 0.8032  \u001b[0m |\n",
      "| \u001b[0m 50      \u001b[0m | \u001b[0m 0.7646  \u001b[0m | \u001b[0m 0.7718  \u001b[0m | \u001b[0m 0.001782\u001b[0m | \u001b[0m 20.52   \u001b[0m | \u001b[0m 28.97   \u001b[0m | \u001b[0m 6.4     \u001b[0m | \u001b[0m 193.3   \u001b[0m | \u001b[0m 29.66   \u001b[0m | \u001b[0m 0.8024  \u001b[0m |\n",
      "=========================================================================================================================\n"
     ]
    }
   ],
   "source": [
    "BO_lgbm.maximize(init_points=40, n_iter=10)"
   ]
  },
  {
   "cell_type": "code",
   "execution_count": 41,
   "metadata": {
    "colab": {
     "base_uri": "https://localhost:8080/",
     "height": 143
    },
    "id": "UAQkYnc0vZoE",
    "outputId": "d1a8724b-ec75-4b58-ec0c-c3f42e25ce3d"
   },
   "outputs": [
    {
     "data": {
      "text/plain": [
       "{'colsample_bytree': 0.7644847759343377,\n",
       " 'learning_rate': 0.024914757751798775,\n",
       " 'max_depth': 19,\n",
       " 'min_child_samples': 34,\n",
       " 'min_child_weight': 12.653252538069653,\n",
       " 'n_estimators': 175,\n",
       " 'num_leaves': 38,\n",
       " 'subsample': 0.8100106922530422,\n",
       " 'objective': 'binary',\n",
       " 'n_jobs': -1}"
      ]
     },
     "execution_count": 41,
     "metadata": {},
     "output_type": "execute_result"
    }
   ],
   "source": [
    "# BO_rf.res  # 모든 성능 들어가있음\n",
    "BO_lgbm.max\n",
    "\n",
    "max_params = BO_lgbm.max['params']\n",
    "\n",
    "max_params['n_estimators'] = int(round(max_params['n_estimators']))\n",
    "max_params['max_depth'] = int(round(max_params['max_depth']))\n",
    "max_params['min_child_samples'] = int(round(max_params['min_child_samples']))\n",
    "max_params['num_leaves'] = int(round(max_params['num_leaves']))\n",
    "max_params['objective'] = 'binary'\n",
    "max_params['n_jobs'] = -1\n",
    "\n",
    "max_params"
   ]
  },
  {
   "cell_type": "code",
   "execution_count": 42,
   "metadata": {
    "colab": {
     "base_uri": "https://localhost:8080/",
     "height": 71
    },
    "id": "J3hiDfZjvZoF",
    "outputId": "7d88bf30-d183-4827-f35b-aa511eab2a97"
   },
   "outputs": [
    {
     "name": "stdout",
     "output_type": "stream",
     "text": [
      "[0.76795181 0.76795324 0.7748169  0.76530112]\n",
      "최대성능: 0.774816895972845\n",
      "평균성능: 0.7690057650859187\n"
     ]
    }
   ],
   "source": [
    "lgbm_clf = LGBMClassifier(**max_params)\n",
    "\n",
    "scores = cross_val_score(lgbm_clf, X_train, y_train, scoring='roc_auc', cv=cv, n_jobs=-1)\n",
    "\n",
    "print(scores)\n",
    "print(f'최대성능: {max(scores)}\\n평균성능: {np.mean(scores)}')\n",
    "\n",
    "BO_tuned_clfs.append((lgbm_clf.__class__.__name__, lgbm_clf, np.mean(scores)))"
   ]
  },
  {
   "cell_type": "markdown",
   "metadata": {
    "id": "XjHZ4anvvZpf"
   },
   "source": [
    "<font color = 'blue'> \n",
    "\n",
    "# 열번째 BO_tuned_clfs "
   ]
  },
  {
   "cell_type": "markdown",
   "metadata": {
    "id": "xtC-9Df_vZpg"
   },
   "source": [
    "lgb_clf"
   ]
  },
  {
   "cell_type": "code",
   "execution_count": 43,
   "metadata": {
    "id": "orLNU7bLvZoA"
   },
   "outputs": [],
   "source": [
    "pbounds = { 'learning_rate': (0.001, 0.1),\n",
    "            'n_estimators': (170, 230),\n",
    "            'max_depth': (15,25),   \n",
    "            'min_child_samples' : (20, 35),\n",
    "            'subsample': (0.8,0.92), \n",
    "            'colsample_bytree': (0.76,0.87),   \n",
    "            'num_leaves': (30,45),\n",
    "            'min_child_weight': (5, 15)}\n",
    "\n",
    "\n",
    "def lgbm_opt(learning_rate, n_estimators, max_depth, min_child_samples, subsample, colsample_bytree, num_leaves, min_child_weight):\n",
    "\n",
    "    params = {\n",
    "        'learning_rate': learning_rate,\n",
    "        'n_estimators' : int(round(n_estimators)),\n",
    "        'max_depth' : int(round(max_depth)),\n",
    "        'min_child_samples' : int(round(min_child_samples)),\n",
    "        'subsample': subsample,\n",
    "        'colsample_bytree' : colsample_bytree,\n",
    "        'num_leaves' : int(round(num_leaves)),\n",
    "        'min_child_weight' : min_child_weight,\n",
    "        'objective' : 'binary',\n",
    "        'n_jobs' : -1\n",
    "    }\n",
    "    \n",
    "    lgbm = LGBMClassifier(**params)\n",
    "    \n",
    "    score = cross_val_score(lgbm, X_train, y_train, scoring='roc_auc', cv=cv, n_jobs=-1)\n",
    "    \n",
    "    return np.mean(score)\n",
    "\n",
    "BO_lgbm = BayesianOptimization(f = lgbm_opt, pbounds = pbounds, random_state=0)    \n"
   ]
  },
  {
   "cell_type": "code",
   "execution_count": 44,
   "metadata": {
    "colab": {
     "base_uri": "https://localhost:8080/",
     "height": 1000
    },
    "id": "FEUretOMvZoC",
    "outputId": "fbf7185d-1f26-42a2-9c03-f1e069666388",
    "scrolled": false
   },
   "outputs": [
    {
     "name": "stdout",
     "output_type": "stream",
     "text": [
      "|   iter    |  target   | colsam... | learni... | max_depth | min_ch... | min_ch... | n_esti... | num_le... | subsample |\n",
      "-------------------------------------------------------------------------------------------------------------------------\n",
      "| \u001b[0m 1       \u001b[0m | \u001b[0m 0.7645  \u001b[0m | \u001b[0m 0.8204  \u001b[0m | \u001b[0m 0.0718  \u001b[0m | \u001b[0m 21.03   \u001b[0m | \u001b[0m 28.17   \u001b[0m | \u001b[0m 9.237   \u001b[0m | \u001b[0m 208.8   \u001b[0m | \u001b[0m 36.56   \u001b[0m | \u001b[0m 0.907   \u001b[0m |\n",
      "| \u001b[95m 2       \u001b[0m | \u001b[95m 0.7684  \u001b[0m | \u001b[95m 0.866   \u001b[0m | \u001b[95m 0.03896 \u001b[0m | \u001b[95m 22.92   \u001b[0m | \u001b[95m 27.93   \u001b[0m | \u001b[95m 10.68   \u001b[0m | \u001b[95m 225.5   \u001b[0m | \u001b[95m 31.07   \u001b[0m | \u001b[95m 0.8105  \u001b[0m |\n",
      "| \u001b[0m 3       \u001b[0m | \u001b[0m 0.7627  \u001b[0m | \u001b[0m 0.7622  \u001b[0m | \u001b[0m 0.08343 \u001b[0m | \u001b[0m 22.78   \u001b[0m | \u001b[0m 33.05   \u001b[0m | \u001b[0m 14.79   \u001b[0m | \u001b[0m 217.9   \u001b[0m | \u001b[0m 36.92   \u001b[0m | \u001b[0m 0.8937  \u001b[0m |\n",
      "| \u001b[0m 4       \u001b[0m | \u001b[0m 0.7655  \u001b[0m | \u001b[0m 0.773   \u001b[0m | \u001b[0m 0.06435 \u001b[0m | \u001b[0m 16.43   \u001b[0m | \u001b[0m 34.17   \u001b[0m | \u001b[0m 10.22   \u001b[0m | \u001b[0m 194.9   \u001b[0m | \u001b[0m 33.97   \u001b[0m | \u001b[0m 0.8929  \u001b[0m |\n",
      "| \u001b[0m 5       \u001b[0m | \u001b[0m 0.7656  \u001b[0m | \u001b[0m 0.8102  \u001b[0m | \u001b[0m 0.05727 \u001b[0m | \u001b[0m 15.19   \u001b[0m | \u001b[0m 29.26   \u001b[0m | \u001b[0m 11.12   \u001b[0m | \u001b[0m 207.0   \u001b[0m | \u001b[0m 44.16   \u001b[0m | \u001b[0m 0.8818  \u001b[0m |\n",
      "| \u001b[0m 6       \u001b[0m | \u001b[0m 0.7677  \u001b[0m | \u001b[0m 0.7995  \u001b[0m | \u001b[0m 0.04427 \u001b[0m | \u001b[0m 21.98   \u001b[0m | \u001b[0m 20.9    \u001b[0m | \u001b[0m 11.67   \u001b[0m | \u001b[0m 210.2   \u001b[0m | \u001b[0m 33.16   \u001b[0m | \u001b[0m 0.8155  \u001b[0m |\n",
      "| \u001b[95m 7       \u001b[0m | \u001b[95m 0.7685  \u001b[0m | \u001b[95m 0.7947  \u001b[0m | \u001b[95m 0.03701 \u001b[0m | \u001b[95m 20.7    \u001b[0m | \u001b[95m 26.58   \u001b[0m | \u001b[95m 14.88   \u001b[0m | \u001b[95m 176.1   \u001b[0m | \u001b[95m 33.13   \u001b[0m | \u001b[95m 0.8194  \u001b[0m |\n",
      "| \u001b[95m 8       \u001b[0m | \u001b[95m 0.7689  \u001b[0m | \u001b[95m 0.8318  \u001b[0m | \u001b[95m 0.02608 \u001b[0m | \u001b[95m 19.66   \u001b[0m | \u001b[95m 23.67   \u001b[0m | \u001b[95m 6.59    \u001b[0m | \u001b[95m 176.6   \u001b[0m | \u001b[95m 39.84   \u001b[0m | \u001b[95m 0.8166  \u001b[0m |\n",
      "| \u001b[0m 9       \u001b[0m | \u001b[0m 0.7685  \u001b[0m | \u001b[0m 0.7816  \u001b[0m | \u001b[0m 0.0375  \u001b[0m | \u001b[0m 23.21   \u001b[0m | \u001b[0m 21.46   \u001b[0m | \u001b[0m 13.38   \u001b[0m | \u001b[0m 175.8   \u001b[0m | \u001b[0m 44.65   \u001b[0m | \u001b[0m 0.8562  \u001b[0m |\n",
      "| \u001b[0m 10      \u001b[0m | \u001b[0m 0.7672  \u001b[0m | \u001b[0m 0.8674  \u001b[0m | \u001b[0m 0.06088 \u001b[0m | \u001b[0m 22.39   \u001b[0m | \u001b[0m 20.59   \u001b[0m | \u001b[0m 7.828   \u001b[0m | \u001b[0m 177.2   \u001b[0m | \u001b[0m 34.44   \u001b[0m | \u001b[0m 0.8142  \u001b[0m |\n",
      "| \u001b[0m 11      \u001b[0m | \u001b[0m 0.7685  \u001b[0m | \u001b[0m 0.795   \u001b[0m | \u001b[0m 0.04201 \u001b[0m | \u001b[0m 15.64   \u001b[0m | \u001b[0m 30.39   \u001b[0m | \u001b[0m 10.67   \u001b[0m | \u001b[0m 185.9   \u001b[0m | \u001b[0m 37.85   \u001b[0m | \u001b[0m 0.8113  \u001b[0m |\n",
      "| \u001b[0m 12      \u001b[0m | \u001b[0m 0.7624  \u001b[0m | \u001b[0m 0.8234  \u001b[0m | \u001b[0m 0.093   \u001b[0m | \u001b[0m 18.19   \u001b[0m | \u001b[0m 30.01   \u001b[0m | \u001b[0m 6.318   \u001b[0m | \u001b[0m 213.0   \u001b[0m | \u001b[0m 34.34   \u001b[0m | \u001b[0m 0.822   \u001b[0m |\n",
      "| \u001b[0m 13      \u001b[0m | \u001b[0m 0.7651  \u001b[0m | \u001b[0m 0.8245  \u001b[0m | \u001b[0m 0.002991\u001b[0m | \u001b[0m 23.29   \u001b[0m | \u001b[0m 20.07   \u001b[0m | \u001b[0m 11.78   \u001b[0m | \u001b[0m 186.2   \u001b[0m | \u001b[0m 41.03   \u001b[0m | \u001b[0m 0.9155  \u001b[0m |\n",
      "| \u001b[0m 14      \u001b[0m | \u001b[0m 0.7654  \u001b[0m | \u001b[0m 0.7874  \u001b[0m | \u001b[0m 0.05804 \u001b[0m | \u001b[0m 20.92   \u001b[0m | \u001b[0m 28.58   \u001b[0m | \u001b[0m 7.231   \u001b[0m | \u001b[0m 227.2   \u001b[0m | \u001b[0m 36.71   \u001b[0m | \u001b[0m 0.9016  \u001b[0m |\n",
      "| \u001b[0m 15      \u001b[0m | \u001b[0m 0.7686  \u001b[0m | \u001b[0m 0.8369  \u001b[0m | \u001b[0m 0.03045 \u001b[0m | \u001b[0m 23.14   \u001b[0m | \u001b[0m 25.95   \u001b[0m | \u001b[0m 13.81   \u001b[0m | \u001b[0m 204.9   \u001b[0m | \u001b[0m 43.23   \u001b[0m | \u001b[0m 0.8831  \u001b[0m |\n",
      "| \u001b[0m 16      \u001b[0m | \u001b[0m 0.7676  \u001b[0m | \u001b[0m 0.8398  \u001b[0m | \u001b[0m 0.05063 \u001b[0m | \u001b[0m 24.56   \u001b[0m | \u001b[0m 29.66   \u001b[0m | \u001b[0m 9.239   \u001b[0m | \u001b[0m 206.4   \u001b[0m | \u001b[0m 30.29   \u001b[0m | \u001b[0m 0.8362  \u001b[0m |\n",
      "| \u001b[95m 17      \u001b[0m | \u001b[95m 0.769   \u001b[0m | \u001b[95m 0.8326  \u001b[0m | \u001b[95m 0.02972 \u001b[0m | \u001b[95m 21.18   \u001b[0m | \u001b[95m 26.43   \u001b[0m | \u001b[95m 6.355   \u001b[0m | \u001b[95m 187.9   \u001b[0m | \u001b[95m 38.55   \u001b[0m | \u001b[95m 0.8709  \u001b[0m |\n",
      "| \u001b[0m 18      \u001b[0m | \u001b[0m 0.7652  \u001b[0m | \u001b[0m 0.8232  \u001b[0m | \u001b[0m 0.06567 \u001b[0m | \u001b[0m 21.52   \u001b[0m | \u001b[0m 26.47   \u001b[0m | \u001b[0m 13.97   \u001b[0m | \u001b[0m 192.1   \u001b[0m | \u001b[0m 36.54   \u001b[0m | \u001b[0m 0.907   \u001b[0m |\n",
      "| \u001b[0m 19      \u001b[0m | \u001b[0m 0.7654  \u001b[0m | \u001b[0m 0.8487  \u001b[0m | \u001b[0m 0.07068 \u001b[0m | \u001b[0m 16.0    \u001b[0m | \u001b[0m 33.79   \u001b[0m | \u001b[0m 12.14   \u001b[0m | \u001b[0m 229.9   \u001b[0m | \u001b[0m 32.24   \u001b[0m | \u001b[0m 0.9042  \u001b[0m |\n",
      "| \u001b[0m 20      \u001b[0m | \u001b[0m 0.7664  \u001b[0m | \u001b[0m 0.7779  \u001b[0m | \u001b[0m 0.06194 \u001b[0m | \u001b[0m 16.24   \u001b[0m | \u001b[0m 32.72   \u001b[0m | \u001b[0m 13.07   \u001b[0m | \u001b[0m 204.1   \u001b[0m | \u001b[0m 36.11   \u001b[0m | \u001b[0m 0.8083  \u001b[0m |\n",
      "| \u001b[0m 21      \u001b[0m | \u001b[0m 0.7684  \u001b[0m | \u001b[0m 0.8367  \u001b[0m | \u001b[0m 0.0459  \u001b[0m | \u001b[0m 22.22   \u001b[0m | \u001b[0m 33.0    \u001b[0m | \u001b[0m 14.76   \u001b[0m | \u001b[0m 221.3   \u001b[0m | \u001b[0m 30.18   \u001b[0m | \u001b[0m 0.8432  \u001b[0m |\n",
      "| \u001b[0m 22      \u001b[0m | \u001b[0m 0.7683  \u001b[0m | \u001b[0m 0.8403  \u001b[0m | \u001b[0m 0.01799 \u001b[0m | \u001b[0m 20.21   \u001b[0m | \u001b[0m 20.82   \u001b[0m | \u001b[0m 7.0     \u001b[0m | \u001b[0m 171.1   \u001b[0m | \u001b[0m 41.91   \u001b[0m | \u001b[0m 0.8269  \u001b[0m |\n",
      "| \u001b[0m 23      \u001b[0m | \u001b[0m 0.7616  \u001b[0m | \u001b[0m 0.798   \u001b[0m | \u001b[0m 0.09288 \u001b[0m | \u001b[0m 22.04   \u001b[0m | \u001b[0m 20.48   \u001b[0m | \u001b[0m 6.647   \u001b[0m | \u001b[0m 207.3   \u001b[0m | \u001b[0m 38.66   \u001b[0m | \u001b[0m 0.8285  \u001b[0m |\n",
      "| \u001b[0m 24      \u001b[0m | \u001b[0m 0.7664  \u001b[0m | \u001b[0m 0.8628  \u001b[0m | \u001b[0m 0.06178 \u001b[0m | \u001b[0m 20.36   \u001b[0m | \u001b[0m 28.85   \u001b[0m | \u001b[0m 12.3    \u001b[0m | \u001b[0m 188.7   \u001b[0m | \u001b[0m 35.97   \u001b[0m | \u001b[0m 0.8252  \u001b[0m |\n",
      "| \u001b[0m 25      \u001b[0m | \u001b[0m 0.7636  \u001b[0m | \u001b[0m 0.7805  \u001b[0m | \u001b[0m 0.09449 \u001b[0m | \u001b[0m 22.4    \u001b[0m | \u001b[0m 27.36   \u001b[0m | \u001b[0m 7.274   \u001b[0m | \u001b[0m 185.3   \u001b[0m | \u001b[0m 30.87   \u001b[0m | \u001b[0m 0.8521  \u001b[0m |\n",
      "| \u001b[0m 26      \u001b[0m | \u001b[0m 0.7654  \u001b[0m | \u001b[0m 0.7943  \u001b[0m | \u001b[0m 0.06994 \u001b[0m | \u001b[0m 18.78   \u001b[0m | \u001b[0m 22.69   \u001b[0m | \u001b[0m 5.247   \u001b[0m | \u001b[0m 174.0   \u001b[0m | \u001b[0m 40.19   \u001b[0m | \u001b[0m 0.8544  \u001b[0m |\n",
      "| \u001b[0m 27      \u001b[0m | \u001b[0m 0.7648  \u001b[0m | \u001b[0m 0.819   \u001b[0m | \u001b[0m 0.08977 \u001b[0m | \u001b[0m 24.9    \u001b[0m | \u001b[0m 23.25   \u001b[0m | \u001b[0m 11.63   \u001b[0m | \u001b[0m 185.8   \u001b[0m | \u001b[0m 30.31   \u001b[0m | \u001b[0m 0.891   \u001b[0m |\n",
      "| \u001b[0m 28      \u001b[0m | \u001b[0m 0.7681  \u001b[0m | \u001b[0m 0.7952  \u001b[0m | \u001b[0m 0.03896 \u001b[0m | \u001b[0m 20.88   \u001b[0m | \u001b[0m 32.47   \u001b[0m | \u001b[0m 11.29   \u001b[0m | \u001b[0m 222.4   \u001b[0m | \u001b[0m 34.1    \u001b[0m | \u001b[0m 0.8958  \u001b[0m |\n",
      "| \u001b[0m 29      \u001b[0m | \u001b[0m 0.762   \u001b[0m | \u001b[0m 0.7804  \u001b[0m | \u001b[0m 0.09533 \u001b[0m | \u001b[0m 21.87   \u001b[0m | \u001b[0m 23.23   \u001b[0m | \u001b[0m 14.47   \u001b[0m | \u001b[0m 213.9   \u001b[0m | \u001b[0m 33.81   \u001b[0m | \u001b[0m 0.8256  \u001b[0m |\n",
      "| \u001b[0m 30      \u001b[0m | \u001b[0m 0.7653  \u001b[0m | \u001b[0m 0.817   \u001b[0m | \u001b[0m 0.003541\u001b[0m | \u001b[0m 17.07   \u001b[0m | \u001b[0m 26.37   \u001b[0m | \u001b[0m 8.742   \u001b[0m | \u001b[0m 197.8   \u001b[0m | \u001b[0m 34.16   \u001b[0m | \u001b[0m 0.8704  \u001b[0m |\n",
      "| \u001b[0m 31      \u001b[0m | \u001b[0m 0.7679  \u001b[0m | \u001b[0m 0.855   \u001b[0m | \u001b[0m 0.01264 \u001b[0m | \u001b[0m 20.17   \u001b[0m | \u001b[0m 21.98   \u001b[0m | \u001b[0m 12.17   \u001b[0m | \u001b[0m 193.8   \u001b[0m | \u001b[0m 38.48   \u001b[0m | \u001b[0m 0.822   \u001b[0m |\n",
      "| \u001b[0m 32      \u001b[0m | \u001b[0m 0.7669  \u001b[0m | \u001b[0m 0.7759  \u001b[0m | \u001b[0m 0.04932 \u001b[0m | \u001b[0m 18.56   \u001b[0m | \u001b[0m 34.11   \u001b[0m | \u001b[0m 12.65   \u001b[0m | \u001b[0m 214.9   \u001b[0m | \u001b[0m 43.56   \u001b[0m | \u001b[0m 0.81    \u001b[0m |\n",
      "| \u001b[0m 33      \u001b[0m | \u001b[0m 0.7671  \u001b[0m | \u001b[0m 0.8207  \u001b[0m | \u001b[0m 0.05886 \u001b[0m | \u001b[0m 24.62   \u001b[0m | \u001b[0m 24.38   \u001b[0m | \u001b[0m 7.408   \u001b[0m | \u001b[0m 176.0   \u001b[0m | \u001b[0m 30.25   \u001b[0m | \u001b[0m 0.9115  \u001b[0m |\n",
      "| \u001b[0m 34      \u001b[0m | \u001b[0m 0.764   \u001b[0m | \u001b[0m 0.8337  \u001b[0m | \u001b[0m 0.07873 \u001b[0m | \u001b[0m 17.82   \u001b[0m | \u001b[0m 28.8    \u001b[0m | \u001b[0m 5.64    \u001b[0m | \u001b[0m 199.1   \u001b[0m | \u001b[0m 44.66   \u001b[0m | \u001b[0m 0.9052  \u001b[0m |\n",
      "| \u001b[0m 35      \u001b[0m | \u001b[0m 0.7611  \u001b[0m | \u001b[0m 0.7972  \u001b[0m | \u001b[0m 0.0962  \u001b[0m | \u001b[0m 17.32   \u001b[0m | \u001b[0m 34.24   \u001b[0m | \u001b[0m 14.41   \u001b[0m | \u001b[0m 218.0   \u001b[0m | \u001b[0m 39.46   \u001b[0m | \u001b[0m 0.9049  \u001b[0m |\n",
      "| \u001b[0m 36      \u001b[0m | \u001b[0m 0.7632  \u001b[0m | \u001b[0m 0.7922  \u001b[0m | \u001b[0m 0.08505 \u001b[0m | \u001b[0m 21.18   \u001b[0m | \u001b[0m 20.2    \u001b[0m | \u001b[0m 8.472   \u001b[0m | \u001b[0m 178.9   \u001b[0m | \u001b[0m 44.73   \u001b[0m | \u001b[0m 0.8574  \u001b[0m |\n",
      "| \u001b[0m 37      \u001b[0m | \u001b[0m 0.7666  \u001b[0m | \u001b[0m 0.8147  \u001b[0m | \u001b[0m 0.06431 \u001b[0m | \u001b[0m 18.69   \u001b[0m | \u001b[0m 22.05   \u001b[0m | \u001b[0m 13.22   \u001b[0m | \u001b[0m 181.4   \u001b[0m | \u001b[0m 37.67   \u001b[0m | \u001b[0m 0.8269  \u001b[0m |\n",
      "| \u001b[0m 38      \u001b[0m | \u001b[0m 0.7637  \u001b[0m | \u001b[0m 0.7708  \u001b[0m | \u001b[0m 0.08636 \u001b[0m | \u001b[0m 24.73   \u001b[0m | \u001b[0m 34.41   \u001b[0m | \u001b[0m 14.07   \u001b[0m | \u001b[0m 216.4   \u001b[0m | \u001b[0m 35.0    \u001b[0m | \u001b[0m 0.8097  \u001b[0m |\n",
      "| \u001b[0m 39      \u001b[0m | \u001b[0m 0.7688  \u001b[0m | \u001b[0m 0.8048  \u001b[0m | \u001b[0m 0.02399 \u001b[0m | \u001b[0m 16.32   \u001b[0m | \u001b[0m 20.8    \u001b[0m | \u001b[0m 12.26   \u001b[0m | \u001b[0m 170.7   \u001b[0m | \u001b[0m 41.56   \u001b[0m | \u001b[0m 0.8176  \u001b[0m |\n",
      "| \u001b[0m 40      \u001b[0m | \u001b[0m 0.7679  \u001b[0m | \u001b[0m 0.7687  \u001b[0m | \u001b[0m 0.009871\u001b[0m | \u001b[0m 21.72   \u001b[0m | \u001b[0m 23.68   \u001b[0m | \u001b[0m 9.205   \u001b[0m | \u001b[0m 203.4   \u001b[0m | \u001b[0m 42.91   \u001b[0m | \u001b[0m 0.8872  \u001b[0m |\n"
     ]
    },
    {
     "name": "stdout",
     "output_type": "stream",
     "text": [
      "| \u001b[0m 41      \u001b[0m | \u001b[0m 0.7649  \u001b[0m | \u001b[0m 0.7913  \u001b[0m | \u001b[0m 0.07469 \u001b[0m | \u001b[0m 17.43   \u001b[0m | \u001b[0m 21.08   \u001b[0m | \u001b[0m 9.504   \u001b[0m | \u001b[0m 171.1   \u001b[0m | \u001b[0m 41.04   \u001b[0m | \u001b[0m 0.8298  \u001b[0m |\n",
      "| \u001b[0m 42      \u001b[0m | \u001b[0m 0.7653  \u001b[0m | \u001b[0m 0.8442  \u001b[0m | \u001b[0m 0.06554 \u001b[0m | \u001b[0m 22.02   \u001b[0m | \u001b[0m 29.37   \u001b[0m | \u001b[0m 12.06   \u001b[0m | \u001b[0m 218.7   \u001b[0m | \u001b[0m 40.63   \u001b[0m | \u001b[0m 0.9014  \u001b[0m |\n",
      "| \u001b[0m 43      \u001b[0m | \u001b[0m 0.7668  \u001b[0m | \u001b[0m 0.8001  \u001b[0m | \u001b[0m 0.05228 \u001b[0m | \u001b[0m 21.33   \u001b[0m | \u001b[0m 28.1    \u001b[0m | \u001b[0m 14.3    \u001b[0m | \u001b[0m 215.8   \u001b[0m | \u001b[0m 35.01   \u001b[0m | \u001b[0m 0.8185  \u001b[0m |\n",
      "| \u001b[95m 44      \u001b[0m | \u001b[95m 0.7691  \u001b[0m | \u001b[95m 0.8267  \u001b[0m | \u001b[95m 0.03444 \u001b[0m | \u001b[95m 22.32   \u001b[0m | \u001b[95m 34.94   \u001b[0m | \u001b[95m 8.204   \u001b[0m | \u001b[95m 208.4   \u001b[0m | \u001b[95m 33.71   \u001b[0m | \u001b[95m 0.8372  \u001b[0m |\n",
      "| \u001b[0m 45      \u001b[0m | \u001b[0m 0.7684  \u001b[0m | \u001b[0m 0.8246  \u001b[0m | \u001b[0m 0.01403 \u001b[0m | \u001b[0m 16.4    \u001b[0m | \u001b[0m 21.01   \u001b[0m | \u001b[0m 14.75   \u001b[0m | \u001b[0m 218.5   \u001b[0m | \u001b[0m 39.13   \u001b[0m | \u001b[0m 0.8105  \u001b[0m |\n",
      "| \u001b[0m 46      \u001b[0m | \u001b[0m 0.7683  \u001b[0m | \u001b[0m 0.8547  \u001b[0m | \u001b[0m 0.04408 \u001b[0m | \u001b[0m 18.99   \u001b[0m | \u001b[0m 28.69   \u001b[0m | \u001b[0m 11.0    \u001b[0m | \u001b[0m 193.6   \u001b[0m | \u001b[0m 35.25   \u001b[0m | \u001b[0m 0.9032  \u001b[0m |\n",
      "| \u001b[0m 47      \u001b[0m | \u001b[0m 0.7625  \u001b[0m | \u001b[0m 0.8245  \u001b[0m | \u001b[0m 0.09314 \u001b[0m | \u001b[0m 20.22   \u001b[0m | \u001b[0m 24.56   \u001b[0m | \u001b[0m 13.85   \u001b[0m | \u001b[0m 181.8   \u001b[0m | \u001b[0m 40.24   \u001b[0m | \u001b[0m 0.8447  \u001b[0m |\n",
      "| \u001b[0m 48      \u001b[0m | \u001b[0m 0.7641  \u001b[0m | \u001b[0m 0.7733  \u001b[0m | \u001b[0m 0.08257 \u001b[0m | \u001b[0m 16.23   \u001b[0m | \u001b[0m 21.47   \u001b[0m | \u001b[0m 12.7    \u001b[0m | \u001b[0m 170.6   \u001b[0m | \u001b[0m 41.15   \u001b[0m | \u001b[0m 0.8171  \u001b[0m |\n",
      "| \u001b[0m 49      \u001b[0m | \u001b[0m 0.7632  \u001b[0m | \u001b[0m 0.7942  \u001b[0m | \u001b[0m 0.08418 \u001b[0m | \u001b[0m 24.12   \u001b[0m | \u001b[0m 33.29   \u001b[0m | \u001b[0m 10.97   \u001b[0m | \u001b[0m 207.4   \u001b[0m | \u001b[0m 36.73   \u001b[0m | \u001b[0m 0.8977  \u001b[0m |\n",
      "| \u001b[95m 50      \u001b[0m | \u001b[95m 0.7693  \u001b[0m | \u001b[95m 0.8627  \u001b[0m | \u001b[95m 0.02498 \u001b[0m | \u001b[95m 18.42   \u001b[0m | \u001b[95m 30.25   \u001b[0m | \u001b[95m 8.165   \u001b[0m | \u001b[95m 220.2   \u001b[0m | \u001b[95m 33.32   \u001b[0m | \u001b[95m 0.8216  \u001b[0m |\n",
      "=========================================================================================================================\n"
     ]
    }
   ],
   "source": [
    "BO_lgbm.maximize(init_points=40, n_iter=10)"
   ]
  },
  {
   "cell_type": "code",
   "execution_count": 45,
   "metadata": {
    "colab": {
     "base_uri": "https://localhost:8080/",
     "height": 143
    },
    "id": "UAQkYnc0vZoE",
    "outputId": "d1a8724b-ec75-4b58-ec0c-c3f42e25ce3d"
   },
   "outputs": [
    {
     "data": {
      "text/plain": [
       "{'colsample_bytree': 0.8627252797918619,\n",
       " 'learning_rate': 0.024977784627540384,\n",
       " 'max_depth': 18,\n",
       " 'min_child_samples': 30,\n",
       " 'min_child_weight': 8.164973432185569,\n",
       " 'n_estimators': 220,\n",
       " 'num_leaves': 33,\n",
       " 'subsample': 0.8216326752419001,\n",
       " 'objective': 'binary',\n",
       " 'n_jobs': -1}"
      ]
     },
     "execution_count": 45,
     "metadata": {},
     "output_type": "execute_result"
    }
   ],
   "source": [
    "# BO_rf.res  # 모든 성능 들어가있음\n",
    "BO_lgbm.max\n",
    "\n",
    "max_params = BO_lgbm.max['params']\n",
    "\n",
    "max_params['n_estimators'] = int(round(max_params['n_estimators']))\n",
    "max_params['max_depth'] = int(round(max_params['max_depth']))\n",
    "max_params['min_child_samples'] = int(round(max_params['min_child_samples']))\n",
    "max_params['num_leaves'] = int(round(max_params['num_leaves']))\n",
    "max_params['objective'] = 'binary'\n",
    "max_params['n_jobs'] = -1\n",
    "\n",
    "max_params"
   ]
  },
  {
   "cell_type": "code",
   "execution_count": 46,
   "metadata": {
    "colab": {
     "base_uri": "https://localhost:8080/",
     "height": 71
    },
    "id": "J3hiDfZjvZoF",
    "outputId": "7d88bf30-d183-4827-f35b-aa511eab2a97"
   },
   "outputs": [
    {
     "name": "stdout",
     "output_type": "stream",
     "text": [
      "[0.76757169 0.76830287 0.77472642 0.76678731]\n",
      "최대성능: 0.7747264246324217\n",
      "평균성능: 0.7693470722468116\n"
     ]
    }
   ],
   "source": [
    "lgbm_clf = LGBMClassifier(**max_params)\n",
    "\n",
    "scores = cross_val_score(lgbm_clf, X_train, y_train, scoring='roc_auc', cv=cv, n_jobs=-1)\n",
    "\n",
    "print(scores)\n",
    "print(f'최대성능: {max(scores)}\\n평균성능: {np.mean(scores)}')\n",
    "\n",
    "BO_tuned_clfs.append((lgbm_clf.__class__.__name__, lgbm_clf, np.mean(scores)))"
   ]
  },
  {
   "cell_type": "markdown",
   "metadata": {},
   "source": [
    "<font color = 'blue'> \n",
    "\n",
    "# best 모델 반환"
   ]
  },
  {
   "cell_type": "code",
   "execution_count": 47,
   "metadata": {
    "id": "sGblezVUvZpm",
    "scrolled": true
   },
   "outputs": [
    {
     "name": "stdout",
     "output_type": "stream",
     "text": [
      "('LGBMClassifier', LGBMClassifier(colsample_bytree=0.7823379086575946,\n",
      "               learning_rate=0.03499328273065238, max_depth=11,\n",
      "               min_child_samples=26, min_child_weight=5.33848979584371,\n",
      "               n_estimators=140, num_leaves=34, objective='binary',\n",
      "               subsample=0.9015690406965354), 0.7691313613036108)\n",
      "\n",
      "\n",
      "\n",
      "('LGBMClassifier', LGBMClassifier(colsample_bytree=0.8048024011151456,\n",
      "               learning_rate=0.023624369756141978, max_depth=17,\n",
      "               min_child_samples=37, min_child_weight=8.144909217955743,\n",
      "               n_estimators=152, num_leaves=34, objective='binary',\n",
      "               subsample=0.9097070250868845), 0.7688968809598804)\n",
      "\n",
      "\n",
      "\n",
      "('LGBMClassifier', LGBMClassifier(colsample_bytree=0.8148650497699157,\n",
      "               learning_rate=0.03300684017299955, max_depth=25,\n",
      "               min_child_samples=26, min_child_weight=13.96546595851063,\n",
      "               n_estimators=146, num_leaves=26, objective='binary',\n",
      "               subsample=0.9137885032523508), 0.7688582185923132)\n",
      "\n",
      "\n",
      "\n",
      "('LGBMClassifier', LGBMClassifier(colsample_bytree=0.7849681205509292,\n",
      "               learning_rate=0.02644550315385225, max_depth=22,\n",
      "               min_child_samples=30, min_child_weight=9.156287297579574,\n",
      "               n_estimators=184, objective='binary',\n",
      "               subsample=0.8727605400071892), 0.7691319658456776)\n",
      "\n",
      "\n",
      "\n",
      "('LGBMClassifier', LGBMClassifier(colsample_bytree=0.7678742228144012,\n",
      "               learning_rate=0.031162418649908367, max_depth=17,\n",
      "               min_child_samples=32, min_child_weight=13.073189587250107,\n",
      "               n_estimators=196, num_leaves=28, objective='binary',\n",
      "               subsample=0.8103750493182708), 0.7692206737930612)\n",
      "\n",
      "\n",
      "\n",
      "('LGBMClassifier', LGBMClassifier(colsample_bytree=0.8048459143198399,\n",
      "               learning_rate=0.03769440582215185, max_depth=16,\n",
      "               min_child_samples=26, min_child_weight=8.579955953284205,\n",
      "               n_estimators=138, num_leaves=27, objective='binary',\n",
      "               subsample=0.8685450807553821), 0.7687886730161093)\n",
      "\n",
      "\n",
      "\n",
      "('LGBMClassifier', LGBMClassifier(colsample_bytree=0.7604296531524981,\n",
      "               learning_rate=0.02307705418401338, max_depth=26,\n",
      "               min_child_samples=34, min_child_weight=10.666818829880135,\n",
      "               n_estimators=169, num_leaves=39, objective='binary',\n",
      "               subsample=0.8577600405357944), 0.7694156640221028)\n",
      "\n",
      "\n",
      "\n",
      "('LGBMClassifier', LGBMClassifier(colsample_bytree=0.8660029036551132,\n",
      "               learning_rate=0.01978863442246311, max_depth=32,\n",
      "               min_child_samples=33, min_child_weight=10.680445610939323,\n",
      "               n_estimators=246, num_leaves=27, objective='binary',\n",
      "               subsample=0.810455515964185), 0.7693247322680086)\n",
      "\n",
      "\n",
      "\n",
      "('LGBMClassifier', LGBMClassifier(colsample_bytree=0.7644847759343377,\n",
      "               learning_rate=0.024914757751798775, max_depth=19,\n",
      "               min_child_samples=34, min_child_weight=12.653252538069653,\n",
      "               n_estimators=175, num_leaves=38, objective='binary',\n",
      "               subsample=0.8100106922530422), 0.7690057650859187)\n",
      "\n",
      "\n",
      "\n",
      "('LGBMClassifier', LGBMClassifier(colsample_bytree=0.8627252797918619,\n",
      "               learning_rate=0.024977784627540384, max_depth=18,\n",
      "               min_child_samples=30, min_child_weight=8.164973432185569,\n",
      "               n_estimators=220, num_leaves=33, objective='binary',\n",
      "               subsample=0.8216326752419001), 0.7693470722468116)\n",
      "\n",
      "\n",
      "\n"
     ]
    }
   ],
   "source": [
    "for tuned_clf in BO_tuned_clfs:\n",
    "    \n",
    "    print(f'{tuned_clf}\\n\\n\\n')"
   ]
  },
  {
   "cell_type": "code",
   "execution_count": 48,
   "metadata": {},
   "outputs": [
    {
     "name": "stdout",
     "output_type": "stream",
     "text": [
      "('LGBMClassifier', LGBMClassifier(colsample_bytree=0.7604296531524981,\n",
      "               learning_rate=0.02307705418401338, max_depth=26,\n",
      "               min_child_samples=34, min_child_weight=10.666818829880135,\n",
      "               n_estimators=169, num_leaves=39, objective='binary',\n",
      "               subsample=0.8577600405357944), 0.7694156640221028)\n",
      "\n",
      "\n",
      "StratifiedKFold(n_splits=4, random_state=24, shuffle=True)\n"
     ]
    }
   ],
   "source": [
    "max_score = 0\n",
    "for tuned_clf in BO_tuned_clfs:\n",
    "    if tuned_clf[2] > max_score:\n",
    "        max_score = tuned_clf[2]\n",
    "\n",
    "    # best 점수를 가진 모델 출력\n",
    "for tuned_clf in BO_tuned_clfs:\n",
    "    if tuned_clf[2] == max_score:\n",
    "        print(f'{tuned_clf}')\n",
    "    # 사용된 cv 출력\n",
    "print(f'\\n\\n{cv}')"
   ]
  },
  {
   "cell_type": "code",
   "execution_count": null,
   "metadata": {},
   "outputs": [],
   "source": []
  }
 ],
 "metadata": {
  "accelerator": "TPU",
  "colab": {
   "collapsed_sections": [],
   "name": "튜닝 파이프라인 - lgb_10개.ipynb",
   "provenance": []
  },
  "kernelspec": {
   "display_name": "Python 3",
   "language": "python",
   "name": "python3"
  },
  "language_info": {
   "codemirror_mode": {
    "name": "ipython",
    "version": 3
   },
   "file_extension": ".py",
   "mimetype": "text/x-python",
   "name": "python",
   "nbconvert_exporter": "python",
   "pygments_lexer": "ipython3",
   "version": "3.7.6"
  }
 },
 "nbformat": 4,
 "nbformat_minor": 1
}
