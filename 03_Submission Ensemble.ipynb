{
 "cells": [
  {
   "cell_type": "code",
   "execution_count": 1,
   "metadata": {},
   "outputs": [],
   "source": [
    "import pandas as pd\n",
    "import numpy as np\n",
    "import warnings; warnings.filterwarnings('ignore')\n",
    "\n",
    "import seaborn as sns\n",
    "import matplotlib.pylab as plt\n",
    "from scipy.stats.mstats import gmean"
   ]
  },
  {
   "cell_type": "markdown",
   "metadata": {},
   "source": [
    "### load files"
   ]
  },
  {
   "cell_type": "code",
   "execution_count": 2,
   "metadata": {},
   "outputs": [],
   "source": [
    "f76_ml_78056 = pd.read_csv('76f-78056.csv')\n",
    "f91_ml_78035 = pd.read_csv('91f_ml-78035.csv')\n",
    "f91_nn_78002 = pd.read_csv('91f_nn-78002.csv')\n",
    "f94_bin_ml_78055 = pd.read_csv('94f+bin-78055.csv')\n",
    "f94_ml_78021 = pd.read_csv('94f-78021.csv')\n",
    "f120_ml_78068 = pd.read_csv('120f-78068.csv')\n",
    "f155_ml_78049 = pd.read_csv('155f-78049.csv')"
   ]
  },
  {
   "cell_type": "markdown",
   "metadata": {},
   "source": [
    "### change column name"
   ]
  },
  {
   "cell_type": "code",
   "execution_count": 3,
   "metadata": {},
   "outputs": [],
   "source": [
    "f76_ml_78056['f76_ml_78056'] = f76_ml_78056['voted']\n",
    "f76_ml_78056 = f76_ml_78056[['f76_ml_78056']]\n",
    "\n",
    "f91_ml_78035['f91_ml_78035'] = f91_ml_78035['voted']\n",
    "f91_ml_78035 = f91_ml_78035[['f91_ml_78035']]\n",
    "\n",
    "f91_nn_78002['f91_nn_78002'] = f91_nn_78002['voted']\n",
    "f91_nn_78002 = f91_nn_78002[['f91_nn_78002']]\n",
    "\n",
    "f94_bin_ml_78055['f94_bin_ml_78055'] = f94_bin_ml_78055['voted']\n",
    "f94_bin_ml_78055 = f94_bin_ml_78055[['f94_bin_ml_78055']]\n",
    "\n",
    "f94_ml_78021['f94_ml_78021'] = f94_ml_78021['voted']\n",
    "f94_ml_78021 = f94_ml_78021[['f94_ml_78021']]\n",
    "\n",
    "f120_ml_78068['f120_ml_78068'] = f120_ml_78068['voted']\n",
    "f120_ml_78068 = f120_ml_78068[['f120_ml_78068']]\n",
    "\n",
    "f155_ml_78049['f155_ml_78049'] = f155_ml_78049['voted']\n",
    "f155_ml_78049 = f155_ml_78049[['f155_ml_78049']]\n",
    "\n",
    "## concat features\n",
    "df = pd.concat([f76_ml_78056, f91_ml_78035, f91_nn_78002, f94_bin_ml_78055,\n",
    "                f94_ml_78021, f120_ml_78068, f155_ml_78049], axis=1)\n"
   ]
  },
  {
   "cell_type": "code",
   "execution_count": 4,
   "metadata": {},
   "outputs": [
    {
     "data": {
      "text/html": [
       "<div>\n",
       "<style scoped>\n",
       "    .dataframe tbody tr th:only-of-type {\n",
       "        vertical-align: middle;\n",
       "    }\n",
       "\n",
       "    .dataframe tbody tr th {\n",
       "        vertical-align: top;\n",
       "    }\n",
       "\n",
       "    .dataframe thead th {\n",
       "        text-align: right;\n",
       "    }\n",
       "</style>\n",
       "<table border=\"1\" class=\"dataframe\">\n",
       "  <thead>\n",
       "    <tr style=\"text-align: right;\">\n",
       "      <th></th>\n",
       "      <th>f76_ml_78056</th>\n",
       "      <th>f91_ml_78035</th>\n",
       "      <th>f91_nn_78002</th>\n",
       "      <th>f94_bin_ml_78055</th>\n",
       "      <th>f94_ml_78021</th>\n",
       "      <th>f120_ml_78068</th>\n",
       "      <th>f155_ml_78049</th>\n",
       "    </tr>\n",
       "  </thead>\n",
       "  <tbody>\n",
       "    <tr>\n",
       "      <th>0</th>\n",
       "      <td>0.701095</td>\n",
       "      <td>0.621013</td>\n",
       "      <td>1.540208</td>\n",
       "      <td>0.615728</td>\n",
       "      <td>0.630117</td>\n",
       "      <td>0.620020</td>\n",
       "      <td>0.609632</td>\n",
       "    </tr>\n",
       "    <tr>\n",
       "      <th>1</th>\n",
       "      <td>0.865573</td>\n",
       "      <td>0.905113</td>\n",
       "      <td>1.935810</td>\n",
       "      <td>0.886705</td>\n",
       "      <td>0.886409</td>\n",
       "      <td>0.888554</td>\n",
       "      <td>0.877929</td>\n",
       "    </tr>\n",
       "    <tr>\n",
       "      <th>2</th>\n",
       "      <td>0.464307</td>\n",
       "      <td>0.467603</td>\n",
       "      <td>1.468728</td>\n",
       "      <td>0.504819</td>\n",
       "      <td>0.503154</td>\n",
       "      <td>0.503797</td>\n",
       "      <td>0.483499</td>\n",
       "    </tr>\n",
       "    <tr>\n",
       "      <th>3</th>\n",
       "      <td>0.198371</td>\n",
       "      <td>0.202239</td>\n",
       "      <td>1.144168</td>\n",
       "      <td>0.215582</td>\n",
       "      <td>0.218575</td>\n",
       "      <td>0.222710</td>\n",
       "      <td>0.210377</td>\n",
       "    </tr>\n",
       "    <tr>\n",
       "      <th>4</th>\n",
       "      <td>0.745960</td>\n",
       "      <td>0.728680</td>\n",
       "      <td>1.655815</td>\n",
       "      <td>0.729738</td>\n",
       "      <td>0.736327</td>\n",
       "      <td>0.731203</td>\n",
       "      <td>0.735890</td>\n",
       "    </tr>\n",
       "    <tr>\n",
       "      <th>...</th>\n",
       "      <td>...</td>\n",
       "      <td>...</td>\n",
       "      <td>...</td>\n",
       "      <td>...</td>\n",
       "      <td>...</td>\n",
       "      <td>...</td>\n",
       "      <td>...</td>\n",
       "    </tr>\n",
       "    <tr>\n",
       "      <th>11378</th>\n",
       "      <td>0.425329</td>\n",
       "      <td>0.431638</td>\n",
       "      <td>1.348614</td>\n",
       "      <td>0.483597</td>\n",
       "      <td>0.469808</td>\n",
       "      <td>0.480372</td>\n",
       "      <td>0.450938</td>\n",
       "    </tr>\n",
       "    <tr>\n",
       "      <th>11379</th>\n",
       "      <td>0.884394</td>\n",
       "      <td>0.877952</td>\n",
       "      <td>1.823976</td>\n",
       "      <td>0.883979</td>\n",
       "      <td>0.874539</td>\n",
       "      <td>0.884300</td>\n",
       "      <td>0.880782</td>\n",
       "    </tr>\n",
       "    <tr>\n",
       "      <th>11380</th>\n",
       "      <td>0.230602</td>\n",
       "      <td>0.218910</td>\n",
       "      <td>1.204272</td>\n",
       "      <td>0.224195</td>\n",
       "      <td>0.232993</td>\n",
       "      <td>0.231343</td>\n",
       "      <td>0.241707</td>\n",
       "    </tr>\n",
       "    <tr>\n",
       "      <th>11381</th>\n",
       "      <td>0.339513</td>\n",
       "      <td>0.322717</td>\n",
       "      <td>1.276139</td>\n",
       "      <td>0.346798</td>\n",
       "      <td>0.344720</td>\n",
       "      <td>0.341561</td>\n",
       "      <td>0.330032</td>\n",
       "    </tr>\n",
       "    <tr>\n",
       "      <th>11382</th>\n",
       "      <td>0.616753</td>\n",
       "      <td>0.605467</td>\n",
       "      <td>1.620363</td>\n",
       "      <td>0.625496</td>\n",
       "      <td>0.632122</td>\n",
       "      <td>0.633875</td>\n",
       "      <td>0.664022</td>\n",
       "    </tr>\n",
       "  </tbody>\n",
       "</table>\n",
       "<p>11383 rows × 7 columns</p>\n",
       "</div>"
      ],
      "text/plain": [
       "       f76_ml_78056  f91_ml_78035  f91_nn_78002  f94_bin_ml_78055  \\\n",
       "0          0.701095      0.621013      1.540208          0.615728   \n",
       "1          0.865573      0.905113      1.935810          0.886705   \n",
       "2          0.464307      0.467603      1.468728          0.504819   \n",
       "3          0.198371      0.202239      1.144168          0.215582   \n",
       "4          0.745960      0.728680      1.655815          0.729738   \n",
       "...             ...           ...           ...               ...   \n",
       "11378      0.425329      0.431638      1.348614          0.483597   \n",
       "11379      0.884394      0.877952      1.823976          0.883979   \n",
       "11380      0.230602      0.218910      1.204272          0.224195   \n",
       "11381      0.339513      0.322717      1.276139          0.346798   \n",
       "11382      0.616753      0.605467      1.620363          0.625496   \n",
       "\n",
       "       f94_ml_78021  f120_ml_78068  f155_ml_78049  \n",
       "0          0.630117       0.620020       0.609632  \n",
       "1          0.886409       0.888554       0.877929  \n",
       "2          0.503154       0.503797       0.483499  \n",
       "3          0.218575       0.222710       0.210377  \n",
       "4          0.736327       0.731203       0.735890  \n",
       "...             ...            ...            ...  \n",
       "11378      0.469808       0.480372       0.450938  \n",
       "11379      0.874539       0.884300       0.880782  \n",
       "11380      0.232993       0.231343       0.241707  \n",
       "11381      0.344720       0.341561       0.330032  \n",
       "11382      0.632122       0.633875       0.664022  \n",
       "\n",
       "[11383 rows x 7 columns]"
      ]
     },
     "execution_count": 4,
     "metadata": {},
     "output_type": "execute_result"
    }
   ],
   "source": [
    "df"
   ]
  },
  {
   "cell_type": "markdown",
   "metadata": {},
   "source": [
    "### Correlation Heatmap"
   ]
  },
  {
   "cell_type": "code",
   "execution_count": 5,
   "metadata": {},
   "outputs": [
    {
     "data": {
      "image/png": "[encoded data removed]",
      "text/plain": [
       "<Figure size 720x360 with 2 Axes>"
      ]
     },
     "metadata": {
      "needs_background": "light"
     },
     "output_type": "display_data"
    }
   ],
   "source": [
    "plt.figure(figsize=(10, 5))\n",
    "sns.heatmap(df.corr(), annot=True, cmap='Blues', linewidths=0.01, annot_kws={'size' : 12}, fmt = '.4f')\n",
    "plt.show()"
   ]
  },
  {
   "cell_type": "markdown",
   "metadata": {},
   "source": [
    "### 지금까지의 시도_ 누적시키기"
   ]
  },
  {
   "cell_type": "raw",
   "metadata": {},
   "source": [
    "GMEAN(76, 94_bin, 120, 155, 91_nn)  -> 781453\n",
    "GMEAN(94_bin, 120, 155, 91_nn)      -> 781282\n",
    "GMEAN(94_bin, 120, 155)             -> 780948\n",
    "\n",
    "\n",
    "GMEAN[(1+7)(2+6)(3+4+5)]            -> 781304\n",
    "GMEAN[(91nn + 94ml)+(155ml+76ml)+(91ml+94bin_ml)+120ml]  -> 781240\n",
    "GMEAN[94_ml_78021빼고 GMEAN]        -> 7814599\n",
    "POWER_MEAN_p5[94_ml_78021빼고 GMEAN]-> 7814599\n",
    "\n",
    "\n",
    "\n",
    "\n",
    "\n",
    "\n",
    "\n",
    "\n",
    "\n",
    "\n"
   ]
  },
  {
   "cell_type": "markdown",
   "metadata": {},
   "source": [
    "<font color ='blue'>\n",
    "    \n",
    "# Esemble Subs"
   ]
  },
  {
   "cell_type": "raw",
   "metadata": {},
   "source": [
    "1) 120f-78068\n",
    "2) 76f-78056\n",
    "3) 94f+bin-78055\n",
    "4) 155f-78049\n",
    "5) 91f_ml-78035\n",
    "6) 94f_78021\n",
    "7) 91f_nn-78002"
   ]
  },
  {
   "cell_type": "code",
   "execution_count": null,
   "metadata": {},
   "outputs": [],
   "source": [
    "## 피쳐명\n",
    "f120_ml_78068\n",
    "f76_ml_78056\n",
    "f94_bin_ml_78055\n",
    "f155_ml_78049\n",
    "f91_ml_78035\n",
    "f94_ml_78021\n",
    "f91_nn_78002"
   ]
  },
  {
   "cell_type": "markdown",
   "metadata": {},
   "source": [
    "#### 11/13 금요일"
   ]
  },
  {
   "cell_type": "code",
   "execution_count": 48,
   "metadata": {
    "scrolled": true
   },
   "outputs": [
    {
     "name": "stdout",
     "output_type": "stream",
     "text": [
      "기하평균 출력완료!\n"
     ]
    }
   ],
   "source": [
    "# GMEAN[(1+7)/(2+6)/(3+4+5)]\n",
    "submission_name = 'GMEAN[(1+7)(2+6)(3+4+5)].csv'\n",
    "\n",
    "pred1 = gmean([f120_ml_78068['f120_ml_78068'], f91_nn_78002['f91_nn_78002']])\n",
    "pred2 = gmean([f76_ml_78056['f76_ml_78056'], f94_ml_78021['f94_ml_78021']])\n",
    "pred3 = gmean([f94_bin_ml_78055['f94_bin_ml_78055'], f155_ml_78049['f155_ml_78049'],f91_ml_78035['f91_ml_78035']])\n",
    "\n",
    "final_pred = gmean([pred1, pred2, pred3])\n",
    "sub = pd.DataFrame({'index':range(11383), 'voted':final_pred})\n",
    "sub.to_csv(f'{submission_name}', index=False) \n",
    "print('기하평균 출력완료!')"
   ]
  },
  {
   "cell_type": "markdown",
   "metadata": {},
   "source": [
    "#### 11/14 토요일"
   ]
  },
  {
   "cell_type": "code",
   "execution_count": 50,
   "metadata": {
    "scrolled": true
   },
   "outputs": [
    {
     "name": "stdout",
     "output_type": "stream",
     "text": [
      "기하평균 출력완료!\n",
      "기하평균 출력완료!\n",
      "멱평균 출력완료!\n"
     ]
    }
   ],
   "source": [
    "# (91nn + 94ml)+(155ml+76ml)+(91ml+94bin_ml)+120ml\n",
    "submission_name = 'GMEAN[(91nn + 94ml)+(155ml+76ml)+(91ml+94bin_ml)+120ml].csv'\n",
    "\n",
    "pred1 = gmean([f91_nn_78002['f91_nn_78002'], f94_ml_78021['f94_ml_78021']])\n",
    "pred2 = gmean([f155_ml_78049['f155_ml_78049'], f76_ml_78056['f76_ml_78056']])\n",
    "pred3 = gmean([f91_ml_78035['f91_ml_78035'], f94_bin_ml_78055['f94_bin_ml_78055']])\n",
    "pred4 = f120_ml_78068['f120_ml_78068']\n",
    "\n",
    "final_pred = gmean([pred1, pred2, pred3, pred4])\n",
    "sub = pd.DataFrame({'index':range(11383), 'voted':final_pred})\n",
    "sub.to_csv(f'{submission_name}', index=False) \n",
    "print('기하평균 출력완료!')\n",
    "\n",
    "# 94_ml_78021빼고 GMEAN\n",
    "submission_name = 'GMEAN[94_ml_78021빼고 GMEAN].csv'\n",
    "\n",
    "final_pred = gmean([f91_nn_78002['f91_nn_78002'], f155_ml_78049['f155_ml_78049'],\n",
    "                    f76_ml_78056['f76_ml_78056'], f91_ml_78035['f91_ml_78035'],\n",
    "                    f94_bin_ml_78055['f94_bin_ml_78055'], f120_ml_78068['f120_ml_78068']])\n",
    "sub = pd.DataFrame({'index':range(11383), 'voted':final_pred})\n",
    "sub.to_csv(f'{submission_name}', index=False) \n",
    "print('기하평균 출력완료!')\n",
    "\n",
    "# 94_ml_78021빼고 POWER_MEAN\n",
    "submission_name = 'POWER_MEAN_p5[94_ml_78021빼고 GMEAN].csv'\n",
    "\n",
    "p = 5\n",
    "submission_list = [f91_nn_78002['f91_nn_78002'], f155_ml_78049['f155_ml_78049'],\n",
    "                   f76_ml_78056['f76_ml_78056'], f91_ml_78035['f91_ml_78035'],\n",
    "                   f94_bin_ml_78055['f94_bin_ml_78055'], f120_ml_78068['f120_ml_78068']]\n",
    "sum_pred = np.zeros(11383)\n",
    "for sub in submission_list:\n",
    "    sum_pred += sub ** p\n",
    "pred_mean = (sum_pred / len(submission_list)) ** (1 / p)\n",
    "\n",
    "sub = pd.DataFrame({'index':range(11383), 'voted':pred_mean})\n",
    "sub.to_csv(f'{submission_name}', index=False) \n",
    "print('멱평균 출력완료!')\n"
   ]
  },
  {
   "cell_type": "markdown",
   "metadata": {},
   "source": [
    "#### 11/15 일요일"
   ]
  },
  {
   "cell_type": "code",
   "execution_count": 22,
   "metadata": {},
   "outputs": [
    {
     "name": "stdout",
     "output_type": "stream",
     "text": [
      "멱평균 출력완료!\n"
     ]
    }
   ],
   "source": [
    "# 94_ml_78021빼고 POWER_MEAN : 0.780021\n",
    "submission_name = 'POWER_MEAN_p115[94_ml_78021빼고 GMEAN].csv'\n",
    "\n",
    "p = 11.5\n",
    "submission_list = [f91_nn_78002['f91_nn_78002'], f155_ml_78049['f155_ml_78049'],\n",
    "                   f76_ml_78056['f76_ml_78056'], f91_ml_78035['f91_ml_78035'],\n",
    "                   f94_bin_ml_78055['f94_bin_ml_78055'], f120_ml_78068['f120_ml_78068']]\n",
    "sum_pred = np.zeros(11383)\n",
    "for sub in submission_list:\n",
    "    sum_pred += sub ** p\n",
    "pred_mean = (sum_pred / len(submission_list)) ** (1 / p)\n",
    "\n",
    "sub = pd.DataFrame({'index':range(11383), 'voted':pred_mean})\n",
    "sub.to_csv(f'{submission_name}', index=False) \n",
    "print('멱평균 출력완료!')\n"
   ]
  },
  {
   "cell_type": "code",
   "execution_count": 46,
   "metadata": {},
   "outputs": [
    {
     "name": "stdout",
     "output_type": "stream",
     "text": [
      "기하평균 출력완료!\n"
     ]
    }
   ],
   "source": [
    "# 5개 가중평균 : 0.781246\n",
    "submission_name = 'NN 0.4 ML 0.6.csv'\n",
    "\n",
    "final_pred = f91_ml_78035['f91_ml_78035'] * 0.4 + \\\n",
    "            f120_ml_78068['f120_ml_78068'] * 0.2 + \\\n",
    "            f76_ml_78056['f76_ml_78056'] * 0.15 + \\\n",
    "            f94_bin_ml_78055['f94_bin_ml_78055'] * 0.15 + \\\n",
    "            gmean([f155_ml_78049['f155_ml_78049'], f91_nn_78002['f91_nn_78002']]) * 0.10\n",
    "\n",
    "sub = pd.DataFrame({'index':range(11383), 'voted':final_pred})\n",
    "sub.to_csv(f'{submission_name}', index=False) \n",
    "print('기하평균 출력완료!')"
   ]
  },
  {
   "cell_type": "code",
   "execution_count": 47,
   "metadata": {},
   "outputs": [
    {
     "name": "stdout",
     "output_type": "stream",
     "text": [
      "산술평균 출력완료!\n"
     ]
    }
   ],
   "source": [
    "# Arithmetic[(2+4)+(1+6+7)+3+5] : 변수 많은거끼리, 적은거끼리의 조합: 0.7812004\n",
    "submission_name = 'Arithmetic[(2+4)+(1+6+7)+3+5].csv'\n",
    "\n",
    "pred1 = gmean([f76_ml_78056['f76_ml_78056'], f155_ml_78049['f155_ml_78049']])\n",
    "pred2 = gmean([f120_ml_78068['f120_ml_78068'], f94_ml_78021['f94_ml_78021'], f91_nn_78002['f91_nn_78002']])\n",
    "pred3 = f94_bin_ml_78055['f94_bin_ml_78055']\n",
    "pred4 = f91_ml_78035['f91_ml_78035']\n",
    "\n",
    "final_pred = (pred1 + pred2 + pred3 + pred4) / 4\n",
    "\n",
    "sub = pd.DataFrame({'index':range(11383), 'voted':final_pred})\n",
    "sub.to_csv(f'{submission_name}', index=False) \n",
    "print('산술평균 출력완료!')\n"
   ]
  },
  {
   "cell_type": "markdown",
   "metadata": {},
   "source": [
    "#### 11/16 월요일"
   ]
  },
  {
   "cell_type": "code",
   "execution_count": 56,
   "metadata": {},
   "outputs": [
    {
     "name": "stdout",
     "output_type": "stream",
     "text": [
      "산술평균 출력완료!\n"
     ]
    }
   ],
   "source": [
    "# 94_ml_78021빼고 Arithmetic: 0.7816667\n",
    "submission_name = '94_ml_78021빼고 Arithmetic.csv'\n",
    "\n",
    "final_pred = f91_nn_78002['f91_nn_78002'] 1.2+ \\\n",
    "              f155_ml_78049['f155_ml_78049'] + \\\n",
    "              f76_ml_78056['f76_ml_78056'] + \\\n",
    "              f91_ml_78035['f91_ml_78035'] + \\\n",
    "              f94_bin_ml_78055['f94_bin_ml_78055'] + \\\n",
    "              f120_ml_78068['f120_ml_78068']\n",
    "final_pred = final_pred / 6\n",
    "\n",
    "sub = pd.DataFrame({'index':range(11383), 'voted':final_pred})\n",
    "sub.to_csv(f'{submission_name}', index=False) \n",
    "print('산술평균 출력완료!')"
   ]
  },
  {
   "cell_type": "code",
   "execution_count": 65,
   "metadata": {},
   "outputs": [
    {
     "name": "stdout",
     "output_type": "stream",
     "text": [
      "산술평균 출력완료!\n"
     ]
    }
   ],
   "source": [
    "# 94_ml_78021빼고 Arithmetic + weight : 0.7816041\n",
    "submission_name = '94_ml_78021빼고 Arithmetic + weight.csv'\n",
    "\n",
    "final_pred = f91_nn_78002['f91_nn_78002'] * 1.05 + \\\n",
    "              f155_ml_78049['f155_ml_78049'] * 1.1 + \\\n",
    "              f76_ml_78056['f76_ml_78056'] * 1.2 + \\\n",
    "              f91_ml_78035['f91_ml_78035'] * 1.15 + \\\n",
    "              f94_bin_ml_78055['f94_bin_ml_78055'] * 1.2 + \\\n",
    "              f120_ml_78068['f120_ml_78068'] * 1.3 \n",
    "final_pred = final_pred / 6\n",
    "\n",
    "sub = pd.DataFrame({'index':range(11383), 'voted':final_pred})\n",
    "sub.to_csv(f'{submission_name}', index=False) \n",
    "print('산술평균 출력완료!')"
   ]
  },
  {
   "cell_type": "code",
   "execution_count": 67,
   "metadata": {},
   "outputs": [
    {
     "name": "stdout",
     "output_type": "stream",
     "text": [
      "산술평균 출력완료!\n"
     ]
    }
   ],
   "source": [
    "# best 두개로 산술평균\n",
    "pred1 = pd.read_csv('94_ml_78021빼고 Arithmetic.csv')['voted']\n",
    "pred2 = pd.read_csv('GMEAN[94_ml_78021빼고 GMEAN].csv')['voted']\n",
    "submission_name = '베스트2개산술평균.csv'\n",
    "\n",
    "final_pred = pred1 + pred2\n",
    "final_pred = final_pred / 2\n",
    "\n",
    "sub = pd.DataFrame({'index':range(11383), 'voted':final_pred})\n",
    "sub.to_csv(f'{submission_name}', index=False) \n",
    "print('산술평균 출력완료!')"
   ]
  },
  {
   "cell_type": "code",
   "execution_count": 68,
   "metadata": {},
   "outputs": [
    {
     "data": {
      "text/html": [
       "<div>\n",
       "<style scoped>\n",
       "    .dataframe tbody tr th:only-of-type {\n",
       "        vertical-align: middle;\n",
       "    }\n",
       "\n",
       "    .dataframe tbody tr th {\n",
       "        vertical-align: top;\n",
       "    }\n",
       "\n",
       "    .dataframe thead th {\n",
       "        text-align: right;\n",
       "    }\n",
       "</style>\n",
       "<table border=\"1\" class=\"dataframe\">\n",
       "  <thead>\n",
       "    <tr style=\"text-align: right;\">\n",
       "      <th></th>\n",
       "      <th>index</th>\n",
       "      <th>voted</th>\n",
       "    </tr>\n",
       "  </thead>\n",
       "  <tbody>\n",
       "    <tr>\n",
       "      <th>0</th>\n",
       "      <td>0</td>\n",
       "      <td>0.759187</td>\n",
       "    </tr>\n",
       "    <tr>\n",
       "      <th>1</th>\n",
       "      <td>1</td>\n",
       "      <td>1.033979</td>\n",
       "    </tr>\n",
       "    <tr>\n",
       "      <th>2</th>\n",
       "      <td>2</td>\n",
       "      <td>0.615829</td>\n",
       "    </tr>\n",
       "    <tr>\n",
       "      <th>3</th>\n",
       "      <td>3</td>\n",
       "      <td>0.321889</td>\n",
       "    </tr>\n",
       "    <tr>\n",
       "      <th>4</th>\n",
       "      <td>4</td>\n",
       "      <td>0.864361</td>\n",
       "    </tr>\n",
       "    <tr>\n",
       "      <th>...</th>\n",
       "      <td>...</td>\n",
       "      <td>...</td>\n",
       "    </tr>\n",
       "    <tr>\n",
       "      <th>11378</th>\n",
       "      <td>11378</td>\n",
       "      <td>0.573741</td>\n",
       "    </tr>\n",
       "    <tr>\n",
       "      <th>11379</th>\n",
       "      <td>11379</td>\n",
       "      <td>1.017518</td>\n",
       "    </tr>\n",
       "    <tr>\n",
       "      <th>11380</th>\n",
       "      <td>11380</td>\n",
       "      <td>0.347034</td>\n",
       "    </tr>\n",
       "    <tr>\n",
       "      <th>11381</th>\n",
       "      <td>11381</td>\n",
       "      <td>0.456250</td>\n",
       "    </tr>\n",
       "    <tr>\n",
       "      <th>11382</th>\n",
       "      <td>11382</td>\n",
       "      <td>0.765300</td>\n",
       "    </tr>\n",
       "  </tbody>\n",
       "</table>\n",
       "<p>11383 rows × 2 columns</p>\n",
       "</div>"
      ],
      "text/plain": [
       "       index     voted\n",
       "0          0  0.759187\n",
       "1          1  1.033979\n",
       "2          2  0.615829\n",
       "3          3  0.321889\n",
       "4          4  0.864361\n",
       "...      ...       ...\n",
       "11378  11378  0.573741\n",
       "11379  11379  1.017518\n",
       "11380  11380  0.347034\n",
       "11381  11381  0.456250\n",
       "11382  11382  0.765300\n",
       "\n",
       "[11383 rows x 2 columns]"
      ]
     },
     "execution_count": 68,
     "metadata": {},
     "output_type": "execute_result"
    }
   ],
   "source": [
    "pd.read_csv('베스트2개산술평균.csv')"
   ]
  },
  {
   "cell_type": "code",
   "execution_count": null,
   "metadata": {},
   "outputs": [],
   "source": []
  },
  {
   "cell_type": "code",
   "execution_count": null,
   "metadata": {},
   "outputs": [],
   "source": []
  }
 ],
 "metadata": {
  "kernelspec": {
   "display_name": "Python 3",
   "language": "python",
   "name": "python3"
  },
  "language_info": {
   "codemirror_mode": {
    "name": "ipython",
    "version": 3
   },
   "file_extension": ".py",
   "mimetype": "text/x-python",
   "name": "python",
   "nbconvert_exporter": "python",
   "pygments_lexer": "ipython3",
   "version": "3.7.6"
  }
 },
 "nbformat": 4,
 "nbformat_minor": 4
}
